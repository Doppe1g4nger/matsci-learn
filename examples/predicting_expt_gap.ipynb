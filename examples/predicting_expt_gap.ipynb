{
 "cells": [
  {
   "cell_type": "markdown",
   "metadata": {},
   "source": [
    "# Reproduce/beat the score of experimental band gap predictions"
   ]
  },
  {
   "cell_type": "markdown",
   "metadata": {},
   "source": [
    "by: Alireza Faghaninia (alireza.faghaninia@gmail.com)\n",
    "\n",
    "data is from: https://pubs.acs.org/doi/10.1021/acs.jpclett.8b00124\n",
    "\n",
    "The main purpose of this notebook is to reproduce/beat the scores obtained in this paper but in semi-automatic workflow of matbench that is a much faster process requiring less domain knowledge."
   ]
  },
  {
   "cell_type": "markdown",
   "metadata": {},
   "source": [
    "* This notebook is an example of matbench that provide material scientists with a set of tools to automate their predictive modeling and get a benchmarking score to evaluate their future models.\n",
    "* The input is only the chemical formulas! A single column used as the input of matbench workflow.\n",
    "* Using [matminer](https://github.com/hackingmaterials/matminer) we extract 192 features from the chemical formulas.\n",
    "* A two-stage model: due to the presence of metals (gap=0 eV) in the dataset, a classifier (metal or nonmetal) + a regressor seem to work better than trying to predict the gap with a single regressor.\n",
    "* It is true that modeling in 2 stages look better but at the end we show that due to many nonmetals predicted as metal (bandgap=0.0), the overall cross-validation score is actually worse. Therefore, it is better just to optimize one regression model.\n",
    "* To see how we corrected the duplicates in the database and train and optimize just one regression model, you can see"
   ]
  },
  {
   "cell_type": "code",
   "execution_count": 1,
   "metadata": {},
   "outputs": [
    {
     "name": "stderr",
     "output_type": "stream",
     "text": [
      "/Users/alirezafaghaninia/Documents/py3/lib/python3.6/importlib/_bootstrap.py:205: RuntimeWarning: numpy.dtype size changed, may indicate binary incompatibility. Expected 96, got 88\n",
      "  return f(*args, **kwds)\n"
     ]
    },
    {
     "data": {
      "text/html": [
       "<script>requirejs.config({paths: { 'plotly': ['https://cdn.plot.ly/plotly-latest.min']},});if(!window.Plotly) {{require(['plotly'],function(plotly) {window.Plotly=plotly;});}}</script>"
      ]
     },
     "metadata": {},
     "output_type": "execute_result"
    }
   ],
   "source": [
    "import matplotlib.pyplot as plt\n",
    "import numpy as np\n",
    "import os\n",
    "import pickle\n",
    "import pandas as pd\n",
    "import plotly as ply\n",
    "import seaborn as sns\n",
    "from matbench.core.analysis import Analysis\n",
    "\n",
    "%matplotlib inline\n",
    "ply.offline.init_notebook_mode(connected=True)\n",
    "sns.set()\n",
    "sns.set_context(\"poster\", font_scale=1.1)"
   ]
  },
  {
   "cell_type": "markdown",
   "metadata": {},
   "source": [
    "## All inputs:"
   ]
  },
  {
   "cell_type": "code",
   "execution_count": 2,
   "metadata": {
    "collapsed": true
   },
   "outputs": [],
   "source": [
    "# inputs\n",
    "TARGET = ('Input Data', 'gap expt')\n",
    "CALC_DIR = 'run_data'\n",
    "SEED = 53\n",
    "EXCLUDED_FEATURIZERS = [\n",
    "    'CohesiveEnergy', \n",
    "#                         'AtomicPackingEf/ficiency',\n",
    "                        'PartialRadialDistributionFunction',\n",
    "                        'RadialDistributionFunction',\n",
    "                        'CoulombMatrix',\n",
    "                        'SineCoulombMatrix',\n",
    "                        'OrbitalFieldMatrix',\n",
    "#                         'MinimumRela/tiveDistances',\n",
    "                        'ElectronicRadialDistributionFunction',\n",
    "#     'YangSolidSolution',\n",
    "'Miedema']\n",
    "np.random.seed(SEED)\n",
    "NFOLD = 5 # for cross-validation\n",
    "N_JOBS = 4"
   ]
  },
  {
   "cell_type": "markdown",
   "metadata": {},
   "source": [
    "## Read the data only containing chemical formula and experimentally measured band gap"
   ]
  },
  {
   "cell_type": "code",
   "execution_count": 3,
   "metadata": {},
   "outputs": [
    {
     "data": {
      "text/html": [
       "<div>\n",
       "<style scoped>\n",
       "    .dataframe tbody tr th:only-of-type {\n",
       "        vertical-align: middle;\n",
       "    }\n",
       "\n",
       "    .dataframe tbody tr th {\n",
       "        vertical-align: top;\n",
       "    }\n",
       "\n",
       "    .dataframe thead th {\n",
       "        text-align: right;\n",
       "    }\n",
       "</style>\n",
       "<table border=\"1\" class=\"dataframe\">\n",
       "  <thead>\n",
       "    <tr style=\"text-align: right;\">\n",
       "      <th></th>\n",
       "      <th>formula</th>\n",
       "      <th>gap expt</th>\n",
       "    </tr>\n",
       "  </thead>\n",
       "  <tbody>\n",
       "    <tr>\n",
       "      <th>0</th>\n",
       "      <td>Hg0.7Cd0.3Te</td>\n",
       "      <td>0.35</td>\n",
       "    </tr>\n",
       "    <tr>\n",
       "      <th>1</th>\n",
       "      <td>CuBr</td>\n",
       "      <td>3.08</td>\n",
       "    </tr>\n",
       "    <tr>\n",
       "      <th>2</th>\n",
       "      <td>LuP</td>\n",
       "      <td>1.30</td>\n",
       "    </tr>\n",
       "    <tr>\n",
       "      <th>3</th>\n",
       "      <td>Cu3SbSe4</td>\n",
       "      <td>0.40</td>\n",
       "    </tr>\n",
       "    <tr>\n",
       "      <th>4</th>\n",
       "      <td>ZnO</td>\n",
       "      <td>3.44</td>\n",
       "    </tr>\n",
       "  </tbody>\n",
       "</table>\n",
       "</div>"
      ],
      "text/plain": [
       "        formula  gap expt\n",
       "0  Hg0.7Cd0.3Te      0.35\n",
       "1          CuBr      3.08\n",
       "2           LuP      1.30\n",
       "3      Cu3SbSe4      0.40\n",
       "4           ZnO      3.44"
      ]
     },
     "execution_count": 3,
     "metadata": {},
     "output_type": "execute_result"
    }
   ],
   "source": [
    "from matminer.datasets.convenience_loaders import load_expt_gap\n",
    "# df_init = pd.read_csv('../data/sources/gap_expt.csv')\n",
    "df_init = load_expt_gap()\n",
    "df_init.head()"
   ]
  },
  {
   "cell_type": "markdown",
   "metadata": {},
   "source": [
    "## Feature generation: formula -> more than 320 features"
   ]
  },
  {
   "cell_type": "code",
   "execution_count": 4,
   "metadata": {
    "collapsed": true
   },
   "outputs": [],
   "source": [
    "from matbench.core.featurize import Featurize\n",
    "featzer = Featurize(exclude=EXCLUDED_FEATURIZERS,\n",
    "                    multiindex=True,\n",
    "                    drop_featurized_col=True,\n",
    "                    n_jobs=N_JOBS)"
   ]
  },
  {
   "cell_type": "code",
   "execution_count": 5,
   "metadata": {
    "collapsed": true
   },
   "outputs": [],
   "source": [
    "# df_featurized = featzer.featurize_formula(df_init, featurizers=\"all\")\n",
    "# df_featurized.to_pickle(os.path.join(CALC_DIR, 'df_featurized.pickle'))\n",
    "\n",
    "df_featurized = pd.read_pickle(os.path.join(CALC_DIR, 'df_featurized.pickle'))"
   ]
  },
  {
   "cell_type": "markdown",
   "metadata": {},
   "source": [
    "## Preprocessing (drop columns w/ more than 10% nulls + one-hot encoding of str columns)"
   ]
  },
  {
   "cell_type": "code",
   "execution_count": 6,
   "metadata": {},
   "outputs": [
    {
     "name": "stdout",
     "output_type": "stream",
     "text": [
      "2018-09-26 22:37:41 INFO     Before handling na: 6354 samples, 237 features\n",
      "2018-09-26 22:37:41 INFO     These 65 features were removed as they had more than 5.0% missing values:\n",
      "{('CationProperty', 'range total_ioniz of cations'), ('ElementProperty', 'range velocity_of_sound'), ('CationProperty', 'range magn_moment of cations'), ('ElectronegativityDiff', 'std_dev EN difference'), ('CationProperty', 'range xtal_field_split of cations'), ('ElementProperty', 'range coefficient_of_linear_thermal_expansion'), ('CationProperty', 'std_dev magn_moment of cations'), ('CationProperty', 'mean magn_moment of cations'), ('CationProperty', 'maximum magn_moment of cations'), ('AtomicPackingEfficiency', 'mean abs simul. packing efficiency'), ('CationProperty', 'maximum total_ioniz of cations'), ('CationProperty', 'minimum total_ioniz of cations'), ('CationProperty', 'mean sat_magn of cations'), ('CationProperty', 'minimum so_coupling of cations'), ('ElectronegativityDiff', 'maximum EN difference'), ('ElementProperty', 'minimum coefficient_of_linear_thermal_expansion'), ('CationProperty', 'maximum sat_magn of cations'), ('CationProperty', 'minimum sat_magn of cations'), ('OxidationStates', 'std_dev oxidation state'), ('ElementProperty', 'mean bulk_modulus'), ('AtomicPackingEfficiency', 'dist from 3 clusters |APE| < 0.010'), ('ElectronegativityDiff', 'mean EN difference'), ('YangSolidSolution', 'Yang omega'), ('CationProperty', 'maximum so_coupling of cations'), ('YangSolidSolution', 'Yang delta'), ('CationProperty', 'std_dev so_coupling of cations'), ('OxidationStates', 'maximum oxidation state'), ('CationProperty', 'std_dev xtal_field_split of cations'), ('ElementProperty', 'std_dev velocity_of_sound'), ('ElectronegativityDiff', 'range EN difference'), ('CationProperty', 'mean xtal_field_split of cations'), ('ElementProperty', 'maximum electrical_resistivity'), ('ElementProperty', 'mean velocity_of_sound'), ('CationProperty', 'std_dev total_ioniz of cations'), ('ElementProperty', 'minimum bulk_modulus'), ('CationProperty', 'mean so_coupling of cations'), ('OxidationStates', 'range oxidation state'), ('ElementProperty', 'maximum velocity_of_sound'), ('AtomicPackingEfficiency', 'mean simul. packing efficiency'), ('CationProperty', 'range so_coupling of cations'), ('CationProperty', 'minimum xtal_field_split of cations'), ('ElementProperty', 'std_dev bulk_modulus'), ('ElectronegativityDiff', 'minimum EN difference'), ('ElementProperty', 'minimum velocity_of_sound'), ('AtomicPackingEfficiency', 'dist from 5 clusters |APE| < 0.010'), ('IonProperty', 'max ionic char'), ('CationProperty', 'maximum xtal_field_split of cations'), ('ElementProperty', 'mean coefficient_of_linear_thermal_expansion'), ('OxidationStates', 'minimum oxidation state'), ('ElementProperty', 'mean electrical_resistivity'), ('ElementProperty', 'range electrical_resistivity'), ('CationProperty', 'minimum magn_moment of cations'), ('ElectronAffinity', 'avg anion electron affinity'), ('CationProperty', 'mean total_ioniz of cations'), ('CationProperty', 'range sat_magn of cations'), ('ElementProperty', 'range bulk_modulus'), ('ElementProperty', 'std_dev electrical_resistivity'), ('IonProperty', 'compound possible'), ('IonProperty', 'avg ionic char'), ('AtomicPackingEfficiency', 'dist from 1 clusters |APE| < 0.010'), ('ElementProperty', 'std_dev coefficient_of_linear_thermal_expansion'), ('ElementProperty', 'maximum bulk_modulus'), ('CationProperty', 'std_dev sat_magn of cations'), ('ElementProperty', 'minimum electrical_resistivity'), ('ElementProperty', 'maximum coefficient_of_linear_thermal_expansion')}\n",
      "2018-09-26 22:37:41 INFO     After handling na: 6217 samples, 172 features\n",
      "2018-09-26 22:37:41 INFO     These 8 features were removed due to cross correlation with the current features more than 0.95:\n",
      "[('BandCenter', 'band center'), ('ElementProperty', 'minimum mendeleev_no'), ('ElementProperty', 'range thermal_conductivity'), ('ElementProperty', 'std_dev thermal_conductivity'), ('Stoichiometry', '2-norm'), ('Stoichiometry', '10-norm'), ('Stoichiometry', '7-norm'), ('Stoichiometry', '5-norm')]\n"
     ]
    }
   ],
   "source": [
    "from matbench.core.preprocess import Preprocess\n",
    "from skrebate import ReliefF\n",
    "prep = Preprocess()\n",
    "\n",
    "df = prep.handle_na(df_featurized, max_na_frac=0.05, na_method='drop')\n",
    "df = prep.prune_correlated_features(df, target_key=TARGET)\n",
    "df = pd.get_dummies(df)"
   ]
  },
  {
   "cell_type": "code",
   "execution_count": 7,
   "metadata": {},
   "outputs": [
    {
     "data": {
      "text/html": [
       "<div>\n",
       "<style scoped>\n",
       "    .dataframe tbody tr th:only-of-type {\n",
       "        vertical-align: middle;\n",
       "    }\n",
       "\n",
       "    .dataframe tbody tr th {\n",
       "        vertical-align: top;\n",
       "    }\n",
       "\n",
       "    .dataframe thead th {\n",
       "        text-align: right;\n",
       "    }\n",
       "</style>\n",
       "<table border=\"1\" class=\"dataframe\">\n",
       "  <thead>\n",
       "    <tr style=\"text-align: right;\">\n",
       "      <th></th>\n",
       "      <th>(AtomicOrbitals, HOMO_energy)</th>\n",
       "      <th>(AtomicOrbitals, LUMO_energy)</th>\n",
       "      <th>(AtomicOrbitals, gap_AO)</th>\n",
       "      <th>(ElementProperty, minimum X)</th>\n",
       "      <th>(ElementProperty, maximum X)</th>\n",
       "      <th>(ElementProperty, range X)</th>\n",
       "      <th>(ElementProperty, mean X)</th>\n",
       "      <th>(ElementProperty, std_dev X)</th>\n",
       "      <th>(ElementProperty, minimum row)</th>\n",
       "      <th>(ElementProperty, maximum row)</th>\n",
       "      <th>...</th>\n",
       "      <th>('AtomicOrbitals', 'LUMO_element')_Ti</th>\n",
       "      <th>('AtomicOrbitals', 'LUMO_element')_Tl</th>\n",
       "      <th>('AtomicOrbitals', 'LUMO_element')_Tm</th>\n",
       "      <th>('AtomicOrbitals', 'LUMO_element')_U</th>\n",
       "      <th>('AtomicOrbitals', 'LUMO_element')_V</th>\n",
       "      <th>('AtomicOrbitals', 'LUMO_element')_W</th>\n",
       "      <th>('AtomicOrbitals', 'LUMO_element')_Y</th>\n",
       "      <th>('AtomicOrbitals', 'LUMO_element')_Yb</th>\n",
       "      <th>('AtomicOrbitals', 'LUMO_element')_Zn</th>\n",
       "      <th>('AtomicOrbitals', 'LUMO_element')_Zr</th>\n",
       "    </tr>\n",
       "    <tr>\n",
       "      <th>(Input Data, formula)</th>\n",
       "      <th></th>\n",
       "      <th></th>\n",
       "      <th></th>\n",
       "      <th></th>\n",
       "      <th></th>\n",
       "      <th></th>\n",
       "      <th></th>\n",
       "      <th></th>\n",
       "      <th></th>\n",
       "      <th></th>\n",
       "      <th></th>\n",
       "      <th></th>\n",
       "      <th></th>\n",
       "      <th></th>\n",
       "      <th></th>\n",
       "      <th></th>\n",
       "      <th></th>\n",
       "      <th></th>\n",
       "      <th></th>\n",
       "      <th></th>\n",
       "      <th></th>\n",
       "    </tr>\n",
       "  </thead>\n",
       "  <tbody>\n",
       "    <tr>\n",
       "      <th>Hg0.7Cd0.3Te</th>\n",
       "      <td>-0.226594</td>\n",
       "      <td>-0.226594</td>\n",
       "      <td>0.000000</td>\n",
       "      <td>1.69</td>\n",
       "      <td>2.10</td>\n",
       "      <td>0.41</td>\n",
       "      <td>2.00350</td>\n",
       "      <td>0.179083</td>\n",
       "      <td>5.0</td>\n",
       "      <td>6.0</td>\n",
       "      <td>...</td>\n",
       "      <td>0</td>\n",
       "      <td>0</td>\n",
       "      <td>0</td>\n",
       "      <td>0</td>\n",
       "      <td>0</td>\n",
       "      <td>0</td>\n",
       "      <td>0</td>\n",
       "      <td>0</td>\n",
       "      <td>0</td>\n",
       "      <td>0</td>\n",
       "    </tr>\n",
       "    <tr>\n",
       "      <th>CuBr</th>\n",
       "      <td>-0.202272</td>\n",
       "      <td>-0.172056</td>\n",
       "      <td>0.030216</td>\n",
       "      <td>1.90</td>\n",
       "      <td>2.96</td>\n",
       "      <td>1.06</td>\n",
       "      <td>2.43000</td>\n",
       "      <td>0.749533</td>\n",
       "      <td>4.0</td>\n",
       "      <td>4.0</td>\n",
       "      <td>...</td>\n",
       "      <td>0</td>\n",
       "      <td>0</td>\n",
       "      <td>0</td>\n",
       "      <td>0</td>\n",
       "      <td>0</td>\n",
       "      <td>0</td>\n",
       "      <td>0</td>\n",
       "      <td>0</td>\n",
       "      <td>0</td>\n",
       "      <td>0</td>\n",
       "    </tr>\n",
       "    <tr>\n",
       "      <th>LuP</th>\n",
       "      <td>-0.206080</td>\n",
       "      <td>-0.155112</td>\n",
       "      <td>0.050968</td>\n",
       "      <td>1.27</td>\n",
       "      <td>2.19</td>\n",
       "      <td>0.92</td>\n",
       "      <td>1.73000</td>\n",
       "      <td>0.650538</td>\n",
       "      <td>3.0</td>\n",
       "      <td>8.0</td>\n",
       "      <td>...</td>\n",
       "      <td>0</td>\n",
       "      <td>0</td>\n",
       "      <td>0</td>\n",
       "      <td>0</td>\n",
       "      <td>0</td>\n",
       "      <td>0</td>\n",
       "      <td>0</td>\n",
       "      <td>0</td>\n",
       "      <td>0</td>\n",
       "      <td>0</td>\n",
       "    </tr>\n",
       "    <tr>\n",
       "      <th>Cu3SbSe4</th>\n",
       "      <td>-0.202272</td>\n",
       "      <td>-0.202272</td>\n",
       "      <td>0.000000</td>\n",
       "      <td>1.90</td>\n",
       "      <td>2.55</td>\n",
       "      <td>0.65</td>\n",
       "      <td>2.24375</td>\n",
       "      <td>0.401887</td>\n",
       "      <td>4.0</td>\n",
       "      <td>5.0</td>\n",
       "      <td>...</td>\n",
       "      <td>0</td>\n",
       "      <td>0</td>\n",
       "      <td>0</td>\n",
       "      <td>0</td>\n",
       "      <td>0</td>\n",
       "      <td>0</td>\n",
       "      <td>0</td>\n",
       "      <td>0</td>\n",
       "      <td>0</td>\n",
       "      <td>0</td>\n",
       "    </tr>\n",
       "    <tr>\n",
       "      <th>ZnO</th>\n",
       "      <td>-0.338381</td>\n",
       "      <td>-0.222725</td>\n",
       "      <td>0.115656</td>\n",
       "      <td>1.65</td>\n",
       "      <td>3.44</td>\n",
       "      <td>1.79</td>\n",
       "      <td>2.54500</td>\n",
       "      <td>1.265721</td>\n",
       "      <td>2.0</td>\n",
       "      <td>4.0</td>\n",
       "      <td>...</td>\n",
       "      <td>0</td>\n",
       "      <td>0</td>\n",
       "      <td>0</td>\n",
       "      <td>0</td>\n",
       "      <td>0</td>\n",
       "      <td>0</td>\n",
       "      <td>0</td>\n",
       "      <td>0</td>\n",
       "      <td>1</td>\n",
       "      <td>0</td>\n",
       "    </tr>\n",
       "  </tbody>\n",
       "</table>\n",
       "<p>5 rows × 327 columns</p>\n",
       "</div>"
      ],
      "text/plain": [
       "                       (AtomicOrbitals, HOMO_energy)  \\\n",
       "(Input Data, formula)                                  \n",
       "Hg0.7Cd0.3Te                               -0.226594   \n",
       "CuBr                                       -0.202272   \n",
       "LuP                                        -0.206080   \n",
       "Cu3SbSe4                                   -0.202272   \n",
       "ZnO                                        -0.338381   \n",
       "\n",
       "                       (AtomicOrbitals, LUMO_energy)  \\\n",
       "(Input Data, formula)                                  \n",
       "Hg0.7Cd0.3Te                               -0.226594   \n",
       "CuBr                                       -0.172056   \n",
       "LuP                                        -0.155112   \n",
       "Cu3SbSe4                                   -0.202272   \n",
       "ZnO                                        -0.222725   \n",
       "\n",
       "                       (AtomicOrbitals, gap_AO)  (ElementProperty, minimum X)  \\\n",
       "(Input Data, formula)                                                           \n",
       "Hg0.7Cd0.3Te                           0.000000                          1.69   \n",
       "CuBr                                   0.030216                          1.90   \n",
       "LuP                                    0.050968                          1.27   \n",
       "Cu3SbSe4                               0.000000                          1.90   \n",
       "ZnO                                    0.115656                          1.65   \n",
       "\n",
       "                       (ElementProperty, maximum X)  \\\n",
       "(Input Data, formula)                                 \n",
       "Hg0.7Cd0.3Te                                   2.10   \n",
       "CuBr                                           2.96   \n",
       "LuP                                            2.19   \n",
       "Cu3SbSe4                                       2.55   \n",
       "ZnO                                            3.44   \n",
       "\n",
       "                       (ElementProperty, range X)  (ElementProperty, mean X)  \\\n",
       "(Input Data, formula)                                                          \n",
       "Hg0.7Cd0.3Te                                 0.41                    2.00350   \n",
       "CuBr                                         1.06                    2.43000   \n",
       "LuP                                          0.92                    1.73000   \n",
       "Cu3SbSe4                                     0.65                    2.24375   \n",
       "ZnO                                          1.79                    2.54500   \n",
       "\n",
       "                       (ElementProperty, std_dev X)  \\\n",
       "(Input Data, formula)                                 \n",
       "Hg0.7Cd0.3Te                               0.179083   \n",
       "CuBr                                       0.749533   \n",
       "LuP                                        0.650538   \n",
       "Cu3SbSe4                                   0.401887   \n",
       "ZnO                                        1.265721   \n",
       "\n",
       "                       (ElementProperty, minimum row)  \\\n",
       "(Input Data, formula)                                   \n",
       "Hg0.7Cd0.3Te                                      5.0   \n",
       "CuBr                                              4.0   \n",
       "LuP                                               3.0   \n",
       "Cu3SbSe4                                          4.0   \n",
       "ZnO                                               2.0   \n",
       "\n",
       "                       (ElementProperty, maximum row)  \\\n",
       "(Input Data, formula)                                   \n",
       "Hg0.7Cd0.3Te                                      6.0   \n",
       "CuBr                                              4.0   \n",
       "LuP                                               8.0   \n",
       "Cu3SbSe4                                          5.0   \n",
       "ZnO                                               4.0   \n",
       "\n",
       "                                       ...                    \\\n",
       "(Input Data, formula)                  ...                     \n",
       "Hg0.7Cd0.3Te                           ...                     \n",
       "CuBr                                   ...                     \n",
       "LuP                                    ...                     \n",
       "Cu3SbSe4                               ...                     \n",
       "ZnO                                    ...                     \n",
       "\n",
       "                       ('AtomicOrbitals', 'LUMO_element')_Ti  \\\n",
       "(Input Data, formula)                                          \n",
       "Hg0.7Cd0.3Te                                               0   \n",
       "CuBr                                                       0   \n",
       "LuP                                                        0   \n",
       "Cu3SbSe4                                                   0   \n",
       "ZnO                                                        0   \n",
       "\n",
       "                       ('AtomicOrbitals', 'LUMO_element')_Tl  \\\n",
       "(Input Data, formula)                                          \n",
       "Hg0.7Cd0.3Te                                               0   \n",
       "CuBr                                                       0   \n",
       "LuP                                                        0   \n",
       "Cu3SbSe4                                                   0   \n",
       "ZnO                                                        0   \n",
       "\n",
       "                       ('AtomicOrbitals', 'LUMO_element')_Tm  \\\n",
       "(Input Data, formula)                                          \n",
       "Hg0.7Cd0.3Te                                               0   \n",
       "CuBr                                                       0   \n",
       "LuP                                                        0   \n",
       "Cu3SbSe4                                                   0   \n",
       "ZnO                                                        0   \n",
       "\n",
       "                       ('AtomicOrbitals', 'LUMO_element')_U  \\\n",
       "(Input Data, formula)                                         \n",
       "Hg0.7Cd0.3Te                                              0   \n",
       "CuBr                                                      0   \n",
       "LuP                                                       0   \n",
       "Cu3SbSe4                                                  0   \n",
       "ZnO                                                       0   \n",
       "\n",
       "                       ('AtomicOrbitals', 'LUMO_element')_V  \\\n",
       "(Input Data, formula)                                         \n",
       "Hg0.7Cd0.3Te                                              0   \n",
       "CuBr                                                      0   \n",
       "LuP                                                       0   \n",
       "Cu3SbSe4                                                  0   \n",
       "ZnO                                                       0   \n",
       "\n",
       "                       ('AtomicOrbitals', 'LUMO_element')_W  \\\n",
       "(Input Data, formula)                                         \n",
       "Hg0.7Cd0.3Te                                              0   \n",
       "CuBr                                                      0   \n",
       "LuP                                                       0   \n",
       "Cu3SbSe4                                                  0   \n",
       "ZnO                                                       0   \n",
       "\n",
       "                       ('AtomicOrbitals', 'LUMO_element')_Y  \\\n",
       "(Input Data, formula)                                         \n",
       "Hg0.7Cd0.3Te                                              0   \n",
       "CuBr                                                      0   \n",
       "LuP                                                       0   \n",
       "Cu3SbSe4                                                  0   \n",
       "ZnO                                                       0   \n",
       "\n",
       "                       ('AtomicOrbitals', 'LUMO_element')_Yb  \\\n",
       "(Input Data, formula)                                          \n",
       "Hg0.7Cd0.3Te                                               0   \n",
       "CuBr                                                       0   \n",
       "LuP                                                        0   \n",
       "Cu3SbSe4                                                   0   \n",
       "ZnO                                                        0   \n",
       "\n",
       "                       ('AtomicOrbitals', 'LUMO_element')_Zn  \\\n",
       "(Input Data, formula)                                          \n",
       "Hg0.7Cd0.3Te                                               0   \n",
       "CuBr                                                       0   \n",
       "LuP                                                        0   \n",
       "Cu3SbSe4                                                   0   \n",
       "ZnO                                                        1   \n",
       "\n",
       "                       ('AtomicOrbitals', 'LUMO_element')_Zr  \n",
       "(Input Data, formula)                                         \n",
       "Hg0.7Cd0.3Te                                               0  \n",
       "CuBr                                                       0  \n",
       "LuP                                                        0  \n",
       "Cu3SbSe4                                                   0  \n",
       "ZnO                                                        0  \n",
       "\n",
       "[5 rows x 327 columns]"
      ]
     },
     "execution_count": 7,
     "metadata": {},
     "output_type": "execute_result"
    }
   ],
   "source": [
    "# rf = ReliefF(n_features_to_select=50, n_jobs=N_JOBS)\n",
    "# x = rf.fit_transform(df.drop(TARGET, axis=1).values, df[TARGET].values)\n",
    "# pcacols = [\"ReliefF feature {}\".format(i) for i in range(x.shape[1])]\n",
    "# df_rebate = pd.DataFrame(columns=pcacols, data=x, index=df.index)\n",
    "# df_rebate.head()\n",
    "\n",
    "## no feature selection\n",
    "df_rebate = df.drop(TARGET, axis=1)\n",
    "df_rebate.head()"
   ]
  },
  {
   "cell_type": "markdown",
   "metadata": {},
   "source": [
    "## Data visualization (unbalanced, many metals (target=0))"
   ]
  },
  {
   "cell_type": "markdown",
   "metadata": {},
   "source": [
    "Let's start by the distribution of the target:"
   ]
  },
  {
   "cell_type": "code",
   "execution_count": 8,
   "metadata": {},
   "outputs": [
    {
     "data": {
      "image/png": "[encoded data removed]",
      "text/plain": [
       "<matplotlib.figure.Figure at 0x116023ef0>"
      ]
     },
     "metadata": {},
     "output_type": "display_data"
    }
   ],
   "source": [
    "ax = df[TARGET].hist(bins=20)\n",
    "ax.set_xlabel('Band gap (eV) - all');"
   ]
  },
  {
   "cell_type": "code",
   "execution_count": 9,
   "metadata": {},
   "outputs": [
    {
     "name": "stdout",
     "output_type": "stream",
     "text": [
      "39.30% of the compounds are metal (expt gap == 0 eV)\n"
     ]
    }
   ],
   "source": [
    "print('{:.2f}% of the compounds are metal (expt gap == 0 eV)'.format(sum(df[TARGET]==0)/len(df)*100))"
   ]
  },
  {
   "cell_type": "markdown",
   "metadata": {},
   "source": [
    "We note that it is very unbalanced with most of the target variable being close to 0 (metals). Metals have very different properties and chemistry than nonmetals (gap>0). We return to this point in the following sections."
   ]
  },
  {
   "cell_type": "code",
   "execution_count": 10,
   "metadata": {},
   "outputs": [
    {
     "data": {
      "image/png": "[encoded data removed]",
      "text/plain": [
       "<matplotlib.figure.Figure at 0x1177d2940>"
      ]
     },
     "metadata": {},
     "output_type": "display_data"
    }
   ],
   "source": [
    "ax = df[TARGET][df[TARGET]>0.0].hist(bins=20)\n",
    "ax.set_xlabel('Band gap (eV) - nonmetals');"
   ]
  },
  {
   "cell_type": "markdown",
   "metadata": {},
   "source": [
    "Much better! Although, the high band-gap materials/insulators are still underrepresented."
   ]
  },
  {
   "cell_type": "markdown",
   "metadata": {},
   "source": [
    "## Further pre-processing of the data: standardization + PCA"
   ]
  },
  {
   "cell_type": "code",
   "execution_count": 11,
   "metadata": {
    "collapsed": true
   },
   "outputs": [],
   "source": [
    "# from sklearn.preprocessing import StandardScaler\n",
    "\n",
    "# scaler = StandardScaler()\n",
    "# df_scaled = scaler.fit_transform(df.drop(TARGET, axis=1))"
   ]
  },
  {
   "cell_type": "markdown",
   "metadata": {},
   "source": [
    "We generated more than 300 features some of which are highly cross-correlated and some may be just noise for this particular problem. I already tried training a random forest with a full feature set and the performance is much poorer than (RMSE difference of ~ 0.25 eV!). So, we proceed with standardization+PCA:"
   ]
  },
  {
   "cell_type": "code",
   "execution_count": 12,
   "metadata": {
    "collapsed": true
   },
   "outputs": [],
   "source": [
    "# from sklearn.decomposition import PCA\n",
    "# N_COMPONENTS = 10\n",
    "# pca = PCA(n_components=N_COMPONENTS)"
   ]
  },
  {
   "cell_type": "code",
   "execution_count": 13,
   "metadata": {
    "collapsed": true
   },
   "outputs": [],
   "source": [
    "# df_pca = pca.fit_transform(df_scaled)\n",
    "# df_pca = pd.DataFrame(df_pca, columns=['PCA{}'.format(i+1) for i in range(N_COMPONENTS)], index=df.index)"
   ]
  },
  {
   "cell_type": "code",
   "execution_count": 14,
   "metadata": {
    "collapsed": true
   },
   "outputs": [],
   "source": [
    "# df_pca.head()"
   ]
  },
  {
   "cell_type": "code",
   "execution_count": 15,
   "metadata": {
    "collapsed": true
   },
   "outputs": [],
   "source": [
    "# plt.bar(height=pca.explained_variance_, x=range(1, N_COMPONENTS+1));\n",
    "# plt.ylabel('explained variance');\n",
    "# plt.xlabel('PCA eigenvectors #');"
   ]
  },
  {
   "cell_type": "code",
   "execution_count": 16,
   "metadata": {
    "collapsed": true
   },
   "outputs": [],
   "source": [
    "# from matminer.figrecipes.plot import PlotlyFig\n",
    "\n",
    "# pf = PlotlyFig(df_pca, mode='notebook', margins=0, x_title='PCA1', y_title='PCA2')\n",
    "# pf.xy(('PCA1', 'PCA2'), labels=df.index, colors=df[TARGET])"
   ]
  },
  {
   "cell_type": "markdown",
   "metadata": {},
   "source": [
    "Looking at this plot we learn that the compounds don't particularly cluster based on the first 2 PCA directions. So, we need more than just 2 PCA features to model this data. Also, not even in terms of metal/nonmetal which may be one more reason to have separate classifier for metal/nonmetal."
   ]
  },
  {
   "cell_type": "code",
   "execution_count": 17,
   "metadata": {
    "collapsed": true
   },
   "outputs": [],
   "source": [
    "df_reduced = df_rebate"
   ]
  },
  {
   "cell_type": "markdown",
   "metadata": {},
   "source": [
    "# Training models"
   ]
  },
  {
   "cell_type": "code",
   "execution_count": 18,
   "metadata": {},
   "outputs": [
    {
     "name": "stderr",
     "output_type": "stream",
     "text": [
      "/Users/alirezafaghaninia/Documents/py3/lib/python3.6/site-packages/sklearn/ensemble/weight_boosting.py:29: DeprecationWarning:\n",
      "\n",
      "numpy.core.umath_tests is an internal NumPy module and should not be imported. It will be removed in a future NumPy release.\n",
      "\n"
     ]
    }
   ],
   "source": [
    "from sklearn.model_selection import RandomizedSearchCV, GridSearchCV\n",
    "from sklearn.ensemble import RandomForestRegressor\n",
    "from sklearn.metrics import r2_score\n",
    "rf_params_dict = {\n",
    "        'n_estimators': [100, 200, 400],\n",
    "        'max_features': np.arange(0.05, 1.01, 0.05),\n",
    "        'min_samples_split': range(2, 21),\n",
    "        'min_samples_leaf': range(1, 21),\n",
    "        'bootstrap': [True, False]\n",
    "    }"
   ]
  },
  {
   "cell_type": "code",
   "execution_count": 19,
   "metadata": {
    "collapsed": true
   },
   "outputs": [],
   "source": [
    "from sklearn.model_selection import train_test_split\n",
    "X_train0, X_test0, y_train0, y_test0 = train_test_split(df_reduced, df[TARGET], test_size=0.2, random_state=SEED)"
   ]
  },
  {
   "cell_type": "markdown",
   "metadata": {},
   "source": [
    "## 1) Single model on the mixed data (metals + nonmetals: higher RMSE)"
   ]
  },
  {
   "cell_type": "code",
   "execution_count": 20,
   "metadata": {
    "collapsed": true
   },
   "outputs": [],
   "source": [
    "model_reg1 = RandomizedSearchCV(estimator=RandomForestRegressor(), \n",
    "                           random_state=SEED,\n",
    "                           param_distributions=rf_params_dict,\n",
    "                           n_iter=15,\n",
    "                           scoring='neg_mean_squared_error',\n",
    "                           cv=5,\n",
    "                           verbose=1,\n",
    "                           n_jobs=N_JOBS)\n",
    "# with open(os.path.join(CALC_DIR, 'rf_mixed_optimized.pickle'), 'rb') as fm:\n",
    "#     model_reg1 = pickle.load(fm)"
   ]
  },
  {
   "cell_type": "code",
   "execution_count": 21,
   "metadata": {},
   "outputs": [
    {
     "name": "stdout",
     "output_type": "stream",
     "text": [
      "Fitting 5 folds for each of 15 candidates, totalling 75 fits\n"
     ]
    },
    {
     "name": "stderr",
     "output_type": "stream",
     "text": [
      "[Parallel(n_jobs=4)]: Done  42 tasks      | elapsed:  3.2min\n",
      "[Parallel(n_jobs=4)]: Done  75 out of  75 | elapsed:  4.7min finished\n"
     ]
    }
   ],
   "source": [
    "model_reg1.fit(X_train0, y_train0)\n",
    "with open(os.path.join(CALC_DIR, 'rf_mixed_optimized.pickle'), 'wb') as fm:\n",
    "    pickle.dump(model_reg1, fm)"
   ]
  },
  {
   "cell_type": "code",
   "execution_count": 22,
   "metadata": {},
   "outputs": [
    {
     "data": {
      "text/plain": [
       "-0.4183838120754042"
      ]
     },
     "execution_count": 22,
     "metadata": {},
     "output_type": "execute_result"
    }
   ],
   "source": [
    "model_reg1.score(X_test0, y_test0)"
   ]
  },
  {
   "cell_type": "code",
   "execution_count": 23,
   "metadata": {},
   "outputs": [
    {
     "data": {
      "text/plain": [
       "0.6468259519186009"
      ]
     },
     "execution_count": 23,
     "metadata": {},
     "output_type": "execute_result"
    }
   ],
   "source": [
    "abs(model_reg1.score(X_test0, y_test0))**0.5"
   ]
  },
  {
   "cell_type": "code",
   "execution_count": 24,
   "metadata": {},
   "outputs": [
    {
     "data": {
      "text/plain": [
       "0.816940304761123"
      ]
     },
     "execution_count": 24,
     "metadata": {},
     "output_type": "execute_result"
    }
   ],
   "source": [
    "y_pred0 = model_reg1.predict(X_test0)\n",
    "r2_score(y_test0, y_pred0)"
   ]
  },
  {
   "cell_type": "code",
   "execution_count": 25,
   "metadata": {},
   "outputs": [
    {
     "data": {
      "text/plain": [
       "{'bootstrap': False,\n",
       " 'max_features': 0.3,\n",
       " 'min_samples_leaf': 6,\n",
       " 'min_samples_split': 5,\n",
       " 'n_estimators': 100}"
      ]
     },
     "execution_count": 25,
     "metadata": {},
     "output_type": "execute_result"
    }
   ],
   "source": [
    "model_reg1.best_params_"
   ]
  },
  {
   "cell_type": "code",
   "execution_count": 26,
   "metadata": {},
   "outputs": [
    {
     "name": "stdout",
     "output_type": "stream",
     "text": [
      "5-fold cross-validation scores for the basic model (metals+nonmentals)\n",
      "RMSE: 0.7661 +- 0.0785\n"
     ]
    }
   ],
   "source": [
    "from sklearn.model_selection import KFold, cross_val_score\n",
    "\n",
    "cv = KFold(n_splits=NFOLD, shuffle=False, random_state=SEED)\n",
    "model_cv = RandomForestRegressor(**model_reg1.best_params_, n_jobs=N_JOBS)\n",
    "\n",
    "rmse_scores = [np.sqrt(abs(score)) for score in cross_val_score(model_cv, df_reduced, df[TARGET], scoring='neg_mean_squared_error', cv=cv)]\n",
    "print('{}-fold cross-validation scores for the basic model (metals+nonmentals)'.format(NFOLD))\n",
    "print('RMSE: {0:.4f} +- {1:.4f}'.format(np.mean(rmse_scores), np.std(rmse_scores)))"
   ]
  },
  {
   "cell_type": "code",
   "execution_count": 27,
   "metadata": {},
   "outputs": [
    {
     "name": "stderr",
     "output_type": "stream",
     "text": [
      "IOPub data rate exceeded.\n",
      "The notebook server will temporarily stop sending output\n",
      "to the client in order to avoid crashing it.\n",
      "To change this limit, set the config variable\n",
      "`--NotebookApp.iopub_data_rate_limit`.\n"
     ]
    },
    {
     "data": {
      "text/html": [
       "<div id=\"9564b86f-6167-4984-9740-b59534d2a82b\" style=\"height: 525px; width: 100%;\" class=\"plotly-graph-div\"></div><script type=\"text/javascript\">require([\"plotly\"], function(Plotly) { window.PLOTLYENV=window.PLOTLYENV || {};window.PLOTLYENV.BASE_URL=\"https://plot.ly\";Plotly.newPlot(\"9564b86f-6167-4984-9740-b59534d2a82b\", [{\"hoverinfo\": \"x+y+text\", \"hoverlabel\": {\"font\": {\"family\": \"Courier\", \"size\": 25.0}}, \"line\": {\"dash\": \"solid\", \"width\": 2}, \"marker\": {\"colorscale\": \"Viridis\", \"line\": {\"color\": \"black\", \"width\": 1}, \"showscale\": false, \"size\": 10.0, \"symbol\": \"circle\"}, \"mode\": \"markers\", \"text\": [\"Cu2Se\", \"TlBr\", \"Ga2Te3\", \"Tl3AsSe3\", \"Mg2Pb\", \"LiInS2\", \"Ti5B12O26\", \"Li8PrO6\", \"LiMn9Se10\", \"HfAsRh\", \"EuTm2Se4\", \"BaPrO3\", \"Pr5In11Ni6\", \"Si4Cu15\", \"CdSe\", \"TiCoSb\", \"RbAg2SbS4\", \"PrFe2Si2\", \"Yb2Ge2Ir\", \"H2Ti6O13\", \"RbNb4Br11\", \"HfGaCo2\", \"SrTlHg2\", \"InS\", \"La3GaGe0.5S7\", \"PdPb2\", \"InN\", \"Te4Mo(WS)2\", \"YbS\", \"TmAs\", \"GaAs\", \"TbZrSb\", \"Li2Ni2SbO6\", \"BeFe2Si\", \"CsNb6I11\", \"TaPd3\", \"BiOCl\", \"LiCa3As2H\", \"TlBr\", \"TmAlCu\", \"PbTe\", \"CuGa1.6In0.4S3.5\", \"ZnB12O24H10\", \"CdF2\", \"NaBiSe2\", \"Cs2AgVS4\", \"In0.4Ga0.6P\", \"Mn5O7\", \"CoP3\", \"CsCd4Ga5Te12\", \"LiInAg2\", \"PrBN2\", \"GaAs\", \"GaSe\", \"LiTiSiO4\", \"Zn0.4Hg0.6Se\", \"Pr3Cd\", \"RuSbSe\", \"Gd2Zn17\", \"Tl2InGaSe4\", \"Ga1.02Sb0.98Te0.06\", \"Sc2MnC\", \"LaCuOS\", \"Sc2O3\", \"SiTe2\", \"Mg2Sn\", \"In3Pd5\", \"Sr2Co2O5\", \"LuIr\", \"CsUCuS3\", \"ReO3\", \"Ba5Ga6GeP12\", \"Rb2SCl6F\", \"Bi2Te2.7Se0.3\", \"Fe2P3B1O12\", \"EuHo2Se4\", \"Tb2Mo3O12\", \"Rb2TeBr6\", \"Li3Ni2(GeO4)3\", \"K0.8Hg1.2Sn2S8\", \"SrTiO3\", \"K2Bi8Se13\", \"AgPbBiS3\", \"YbNd3\", \"V3Si\", \"Cd4P2Cl3\", \"Zn2LiGaO4\", \"PtAs2\", \"InP\", \"HfSe2\", \"YbIn3S6\", \"AlSb\", \"InSe\", \"Cd4P2Br3\", \"Hg0.25Zn0.75Te\", \"Ce2Sb\", \"Cu0.4In1.6Se2.6\", \"ZnO\", \"SnS\", \"Dy2S3\", \"LiHoAu2\", \"Ag0.5Pb1.75GeSe4\", \"CsPbPO4\", \"TmAl4Ni\", \"K2ZnTe2\", \"Zn3As2\", \"AgW6Br14\", \"AgSbTe2\", \"Li2Co4O7F\", \"Bi2Te2.4Se0.6\", \"TiHgO3\", \"Ag2GeSe3\", \"Cs2PtI6O18\", \"CuBr\", \"CuGaSe2\", \"Sb2S3\", \"Ba3ThSe7\", \"Pr2InPd2\", \"ErSi2Pd2\", \"Y2Mo2O7\", \"K2Au2Sn2Se6\", \"MgPb3\", \"Ni2InVO6\", \"CdGeAs2\", \"YbPr11Se16\", \"V2O5\", \"CdSiAs2\", \"TaGaS2\", \"Hg8As4Bi3Cl13\", \"Ba2GaDySe5\", \"TiOs3\", \"AsNMg3\", \"VB2\", \"Mg3Rh\", \"Sr2Li2Nb3O10\", \"HgIn2Se4\", \"Ti2BRh6\", \"Li8PO3\", \"YErRh2\", \"Li2CdGeS4\", \"Li2V3CrO8\", \"Bi2Te2.1Se0.9\", \"Ag3Ga3SiSe8\", \"SrZnSb2\", \"Li3Co2(GeO4)3\", \"Ga1.001Sb0.999Se0.003\", \"TiC\", \"Er6MnBi2\", \"Hg3Te2UCl6\", \"ZnS\", \"Na8Cu5O10\", \"Sb3O4I\", \"Gd2Zn6Ge3\", \"InSe\", \"In6Se7\", \"GdH2NO5\", \"Ga0.2In0.8As\", \"Pb0.9Ge0.1Te\", \"DyAl8Cu4\", \"Rb2TeI6\", \"V3Cu\", \"NdTlPd\", \"MgAgAs\", \"CeCo2As2\", \"ErSe2\", \"LaSi2\", \"GaN\", \"ScGe2\", \"Ti4ZnO8\", \"SmIn2Rh\", \"Na0.75Eu1.625GeSe4\", \"ErMg2\", \"GaAs0.65Sb0.35\", \"BiSBr\", \"CdGeAs2\", \"Ba2GaBiTe5\", \"PtP2\", \"Cu2H3ClO3\", \"Cd3As2\", \"SnGa2GeS6\", \"SrThP2S8\", \"GaSb\", \"CsLu7Se11\", \"MgRh2Pb\", \"FeOF\", \"Ba3B1.5S6Sb0.5\", \"Dy2CuOs\", \"BaAs2Rh2\", \"MgMnO3\", \"AgS\", \"Ho2CuRh\", \"Tb3Rb2AlF16\", \"SiAs\", \"AgInCd2Te3\", \"YbCaInSe4\", \"Pb0.99Sn0.01Se\", \"Y3Ge4\", \"Pb0.97Se0.97Sn0.03Se0.03\", \"Li3Mn3NiO8\", \"CuGaSe2\", \"MnTePd\", \"Mn3Cr3(TeO8)2\", \"Sr3EuP3O12\", \"Cu0.1Ga1.9S2.9\", \"Hg3PS3\", \"Li3Mn2CuO6\", \"AgBiP2Se6\", \"NaF\", \"AgInTe2\", \"K3B6O10Cl\", \"TlSe\", \"Pb3Br2Se2O6\", \"ErAl20Cr2\", \"NdPt\", \"Na2ZnGe2S6\", \"CdIO4H\", \"CdSb\", \"ZrAlPt\", \"BiPd\", \"AgBiP2S6\", \"BaPdI4O12\", \"Ba2DyCu3O7\", \"Cu2CdSnS4\", \"Li2FeGeS4\", \"Nd2Se3\", \"KAgO\", \"CoCu2Sn\", \"K2CsSb\", \"La2MnNiO6\", \"Rb2Cu2Sb2S5\", \"LiMo3O8\", \"Ba2InTaO6\", \"TlCl\", \"Pb2BiS2I3\", \"EuIn2Te4\", \"Cs3Sn3F2Cl7\", \"Li4MgNi3O8\", \"GaS\", \"Na3Sb\", \"IrSe2\", \"ZnS\", \"Zn0.43Cd0.57Se\", \"NiGe\", \"CeCd2Ag\", \"CsZn2B3O7\", \"CdS\", \"TlCr5Se8\", \"GaTe\", \"PrAu\", \"CeAl2Zn2\", \"Ce4InSbSe9\", \"As2S3\", \"AlB12\", \"Rb2Cu2SnS4\", \"AgGaS2\", \"AlN\", \"CdAs2\", \"Li2Nb2(PO4)3\", \"EuGe3Pt\", \"Ba2UCuO6\", \"AgTe\", \"Dy2Ti3Si4\", \"KNbSe2O7\", \"CaAl8Co2\", \"Cu3DyTe3\", \"SrBiO2Cl\", \"Te2Mo3Se4\", \"NaCdSb\", \"CuInSe2\", \"GaAs\", \"TmBPd3\", \"AgLi0.33Ti0.67O2\", \"Pb0.85Sn0.15Te\", \"Cd3In2S2Te4\", \"LiSbTe2\", \"MnI2\", \"Mg3As2\", \"K2Au2Sn2S6\", \"TlSe\", \"Na2Ga2SnS6\", \"RbCaBO3\", \"HfInCu2\", \"Cd3As2\", \"KSb5S8\", \"CuIn2S3.5\", \"ZnO\", \"Cs2Ga2Se5\", \"ScTiNbO6\", \"AlSb\", \"Ba2V4Te3O18\", \"Cd3P2\", \"OsPSe\", \"Pb0.87Sn0.13Se\", \"Bi2Te2.97Se0.03\", \"CdP4\", \"Ag2CdGeS4\", \"K2Nd2Ti3O10\", \"Sb2Te3\", \"GaN\", \"AgGaO2\", \"Pb0.85Se0.85Sn0.15Se0.15\", \"Ce3MnAlS7\", \"Pb0.999TeGa0.001\", \"Ba2YReO6\", \"BaIn2P4O14\", \"LuHfRu2\", \"CsCaBO3\", \"SrTaO2N\", \"In2Se3\", \"Bi4PdSe4O12\", \"HfS3\", \"Cs2MgGe3Se8\", \"YMg4Cu\", \"HfSiPt\", \"Na2BaSnS4\", \"CdSiAs2\", \"CsErZnSe3\", \"FeSi2\", \"La3AlN\", \"LiCd2Rh\", \"P2Se5\", \"InSb\", \"Li17Ti20O40\", \"LiCaO3\", \"YNiSb\", \"Li3Mn2(PO4)3\", \"SmNi2B2C\", \"Cd3As2\", \"ReCl4\", \"Ba2B6O9(OH)4\", \"Ca3Al2Ge3\", \"Ba2Cu5F14\", \"BiSeI\", \"Sm3AlN\", \"ZrRe2\", \"CsCu2AsS3\", \"Ba2V2Te2O11\", \"VFeSb\", \"PbSe0.01S0.99\", \"TlPrSe2\", \"CuGa0.4In1.6S3.5\", \"TlSe\", \"KCl\", \"ThAl8Fe4\", \"TlBr\", \"Hf2Fe\", \"K3Ti2P5S18\", \"B4C\", \"AlP\", \"LiBePt2\", \"NaCd4P3\", \"InSe\", \"PH2NO2\", \"Cr2HgSe4\", \"La8Sb2S15\", \"GaN\", \"Al2Se3\", \"CuN2O6\", \"UAlNi4\", \"LiSiRh2\", \"K3LiNb6O15\", \"HoSi2Pd2\", \"YAgO3\", \"Nb5Ga4\", \"TiAsRh\", \"Ga0.85Al0.15As\", \"Li5Mn6(BO3)6\", \"Yb14Ti10O41\", \"Sn2BiS2I3\", \"CeLu3\", \"Ca10Ge16B6O51\", \"InAs\", \"Mg2AgIr\", \"Zn2Ni9O13\", \"Ba4CuGa5Se12\", \"TaGaS2\", \"La6Sb4S3O12\", \"MgSn4O8\", \"K6Nb2.97Ta1.03S25\", \"CdIn2Te4\", \"ThCrB4\", \"Zr6O\", \"EuVO4\", \"TlSe\", \"Rb9Bi13S24\", \"GaN\", \"Ag3SbS3\", \"TlS\", \"Ge2Os\", \"Yb3Ti3O14\", \"MnSbPd\", \"BiOI\", \"ZnAs\", \"TmScHg2\", \"Er2Ga9Co3\", \"CdI2\", \"K2Ge3B2O10\", \"Zn0.99Cd0.01Se\", \"Pb2Nb2Se4O15\", \"AlVCo2\", \"InAs\", \"V6AgO15\", \"Pb2V3Se5O18\", \"Cs4Ag9Sb4S12\", \"RbI\", \"As2S3\", \"Rb3Sm\", \"LaMg3\", \"Ti2TcPd\", \"AsSeI\", \"TaGaSe2\", \"GaTe\", \"Ag0.5Pb1.75GeS4\", \"GeAs\", \"La10OSe14\", \"GaN\", \"V2NO\", \"BaPd2O4\", \"TlInSe2\", \"RbSbO3\", \"LaInS2O\", \"La3InGe0.5S7\", \"YbS\", \"Pb0.999Sn0.001Te\", \"ZrCrSi2\", \"CsSbTe2\", \"K2Hg3Ge2S8\", \"Mn3PtN\", \"Ta5N6\", \"Ba5Bi3\", \"U4S3\", \"AgSO4\", \"Zr3O\", \"Mg2Sn\", \"AgInS2\", \"AlNi2S4\", \"Cd4Sb3\", \"ZnSnP2\", \"Hf4Co4Si7\", \"Rb2Mo3Se3O16\", \"Hf2Si\", \"TlSe\", \"ZnO\", \"NbHg3F6\", \"TlW3O9\", \"Pb0.85Ge0.15Te\", \"CdGeAs2\", \"Li3Bi\", \"CdSe\", \"PbGa2SiSe6\", \"RbNa2NiO2\", \"Hf2ReRh\", \"Dy2Sn5\", \"Tl2TeBr6\", \"CdIn2S4\", \"Ag2SnSe3\", \"NaNO2\", \"CuIn3S5\", \"CsRbP2Se8\", \"CuCdInSe3\", \"CuGaTe2\", \"CeHg\", \"Pb7Bi4Se13\", \"ErSnAu\", \"Ce5Si3\", \"Ag3SbS3\", \"LiRbCO3\", \"Ce3MoO7\", \"CsInSnS4\", \"CsB3GeO7\", \"La5In3S9O3\", \"EuRhO3\", \"CdS0.99Se0.01\", \"Ag3AsS3\", \"ReTe2Cl12\", \"Eu2TeO2\", \"Ba6Sn6Se13\", \"NdNi2Sn2\", \"As2S3\", \"LiI\", \"CaSe\", \"SrMgSnSe4\", \"GaAs\", \"CsBiSe2\", \"SrPb3\", \"MnCu3\", \"SrLa2S4\", \"Cs2Sn3Sb2S10\", \"Pb0.9Sn0.1Se\", \"Sr3Ti2O7\", \"As2S3\", \"GeO2\", \"Ag2Ga2SiS6\", \"V3As2O9\", \"ZrRu3C\", \"Sb2I2F11\", \"TlSe\", \"HoInAu2\", \"CaOsO3\", \"YScO2\", \"SnSe\", \"K2Cd2Te3\", \"Cu11Sb4S13\", \"LaCuOSe\", \"ZnIn2S4\", \"ZnTe\", \"Hg7InS6Cl5\", \"Hg0.25Zn0.75Te\", \"TlHg6S4Br5\", \"SrO\", \"MoTe2\", \"Dy4S4Te3\", \"Zr3Al2\", \"Pr2S3\", \"LiInS2\", \"PrBPt4\", \"EuNi12B6\", \"Sb2Te3\", \"GaAs0.4P0.6\", \"Rb15Hg16\", \"RuPS\", \"TiTc2Sb\", \"Li3MnAs2\", \"Rb1.45Pb3.1Sb7.45Se15\", \"HoB2Rh3\", \"PbSe\", \"Sr2ZnReO6\", \"Al6Fe\", \"NdFeSi2\", \"Fe2Cu(PO4)3\", \"Mn5O3F5\", \"Yb2BaO4\", \"Zr5Sb3\", \"LuAl2Pd5\", \"LiBi4Ta3O12\", \"Li2CrCuO4\", \"Mg23Al30\", \"K3Fe2S4\", \"PbI2\", \"U4Re7Si6\", \"CdS\", \"TmCu2S2\", \"Sr8Co8O23\", \"CsGaS3\", \"NiS2\", \"Cu0.9Ga1.1Se2.1\", \"TlInS2\", \"Cs3Bi\", \"Sr2YBi2O7\", \"SmCrGe3\", \"Eu3Sb4S9\", \"GaAs0.99P0.01\", \"SmAu3\", \"CdRhF6\", \"InSe\", \"Cu2ZnSiS4\", \"TeSe3\", \"U3Cu2Se7\", \"Zn2WN2\", \"Rb3Sb2I9\", \"PbI2\", \"Bi2Cu0.96Se3I\", \"SiP2\", \"Hg3Sb\", \"EuO\", \"Cs2Hg6S7\", \"HgO\", \"TlPSe2\", \"CsInGeS4\", \"LuIn3S6\", \"LaIn\", \"Ba2GaSbTe5\", \"Na3WO4Cl\", \"AgGaSe2\", \"InSb0.9As0.1\", \"La2YbCuS5\", \"ThOS\", \"MgNiSb\", \"BiTeNO6\", \"AgI\", \"Ir2Sn3Se3\", \"DyBiPd\", \"Li2MgSn\", \"Pb6B2MoO12\", \"LiMgSnPd\", \"Cs2Cu3DyTe4\", \"ZrSi2\", \"Hf7P4\", \"Dy12Co7\", \"HoBi2O6\", \"Na2TeS3\", \"SbI3\", \"ZrInPd2\", \"Li2In2SiSe6\", \"PdSe\", \"PbS\", \"InBi2S4Br\", \"GeSe2\", \"Pb0.95Sn0.05Se\", \"Tl9SbSe6\", \"FeSi2\", \"CeMgAg2\", \"Ca2CdAs2\", \"PrInAu2\", \"Bi2Te2.4Se0.6\", \"RbBiS2\", \"KFe2BiO5\", \"PbSe\", \"GdZnIn\", \"P2H4RhO9\", \"Hg6As4CdBr6\", \"Ga0.7In0.3As\", \"GaTe\", \"PbTe\", \"InP2Se4\", \"Co5RuO8\", \"As4S4\", \"YbH3O3\", \"SnB\", \"Ba3Nb2CoO9\", \"Hf3P3Pd4\", \"Ni4P3O12\", \"Lu2Fe2Si2C\", \"InSe\", \"La4InSbS9\", \"LaCdAu\", \"YbTe\", \"HfCo3B2\", \"Cr2S3\", \"ReSn3\", \"Li5Mn2Cu5O12\", \"La2NiVO6\", \"Ti4O5\", \"Na19Zr11S30\", \"LiCo7O7F\", \"ZrIr2\", \"InSb\", \"SmHoHg2\", \"PbSe0.99S0.01\", \"TlCl\", \"Rh0.67S2\", \"Bi1.8Te3Sb0.2\", \"Ba4CuInSe6\", \"Ho2S3\", \"NdMg2\", \"Fe3B\", \"Cd4P2I3\", \"YbB66\", \"Li2Ni5(PO4)4\", \"TaGaSe2\", \"CrNiAs\", \"Mg2Ge\", \"Sm2CuAs3O\", \"CdS\", \"EuSnAu2\", \"SnS0.01Se0.99\", \"GaAs\", \"ZnSe\", \"Ba3Ho2P4S16\", \"PrZn\", \"InS\", \"In0.8Al0.2P\", \"CsH3Se2O6\", \"ZnAs2\", \"YAs\", \"AgN3\", \"KPbPO4\", \"Pb2MnO4\", \"SeTe\", \"Rb2TiCu2S4\", \"ZnGa2Se4\", \"Lu2CdIn\", \"K3V\", \"YAlPd\", \"Fe4I3O24H15\", \"CoOF\", \"K2Hg3S1.03Se2.97\", \"ScRh3C\", \"Ag0.1Cd0.8In2.1Te4\", \"Hf6PbO18\", \"Ni4Bi9O18\", \"Cd3As2\", \"CsYbCoSe3\", \"CaO\", \"CdAs2\", \"Mn5Ge2\", \"CdSiP2\", \"SrRhF6\", \"Zn4Sb3\", \"Cu0.5Ga1.5S2.5\", \"Li4Fe3NiO8\", \"K4Nb2S11\", \"LiHf2Ir\", \"HfS3\", \"KSbS2O8\", \"Gd3.04Sc0.96S6\", \"Ca5Au2\", \"LiAsSe2\", \"TiMn2Ge\", \"BaMn4O7\", \"Rb8Ga8Si38\", \"V3Pt\", \"CuGa3Te5\", \"LiBi4Nb3O12\", \"Hg0.77Cd0.23Te\", \"YbDyPd2\", \"Lu5Si3B\", \"Ta4AlC3\", \"PbSe\", \"Lu2Mn12P7\", \"BaSi2\", \"LiScHg2\", \"BaSbBS4\", \"GaS\", \"Cs3Nb9Te4O32\", \"SmTe\", \"YbLiPb\", \"OsAsS\", \"TlBr\", \"K3UF3\", \"EuTb2Se4\", \"Li3Co3SbO8\", \"Li3Mn4(PO4)6\", \"La2Ni5B4\", \"CoAsSe\", \"Sn5B2Rh6\", \"Cu2Ga4Te7\", \"InP\", \"Ba2InYSe5\", \"SnS0.99Se0.01\", \"ZnCo2O4\", \"Mg5As\", \"La2O2FeSe2\", \"RbI\", \"LaGa\", \"Ho3Ni19B10\", \"EuSn3\", \"NaSbSe2\", \"La2Ge5Ir3\", \"AgS\", \"OsSb2\", \"Cu2Te\", \"Sc2FeB2Ir5\", \"K3SmAs2S8\", \"BaGa2S4\", \"Li4NbNi3O8\", \"TlCoBi\", \"LiAsSe2\", \"TiSe\", \"Cu0.35Ga1.65Se2.65\", \"GeS2\", \"Ba3Tb2P4S16\", \"RbMn4In5Se12\", \"EuTiO3\", \"CaTaO2N\", \"CdSe\", \"TmMn6Ge6\", \"LiCu2Ge\", \"MnB2W2\", \"HoMgAu2\", \"CuAlTe2\", \"SiAu3\", \"Er3SnC\", \"In2S3\", \"Ba3In2P4O16\", \"PbCoO3\", \"PrCo2As2\", \"Na2Mo2Se2O11\", \"K2Dy2Ti3O10\", \"Ag3Pd\", \"LiZnBO3\", \"HfS3\", \"AlP\", \"CuBiP2Se6\", \"CsBi2\", \"La2YbCuSe5\", \"Hg3PS4\", \"MgCuSb\", \"Bi3TeBO9\", \"Pb0.85Sn0.15Te\", \"KAu5PS8\", \"Pr2Ir2O7\", \"CaO\", \"CuCl\", \"CdS\", \"Eu2BaMn2O7\", \"Rb2Na2IrO4\", \"Al2Cu\", \"LiHfPd2\", \"AgInSe2\", \"BeS\", \"GaSe\", \"KBiCu2S3\", \"CuGaS2\", \"Zn3Sb2\", \"La2Si5Rh3\", \"HoN\", \"Sr8Fe3N8\", \"RbAg2TeS6\", \"MnTe9\", \"BaGa4S7\", \"Nd2Fe14B\", \"TbCu5\", \"CeN\", \"Zn2Sb3O8\", \"Fe2S\", \"SrCuBi\", \"CdS\", \"CaS\", \"SmHgPd\", \"Ga2S3\", \"La2O2ZnSe2\", \"Cs3Bi2I9\", \"PmMgCd2\", \"Eu2Ga9Rh3\", \"Zr2Ni12P7\", \"Y2Ge5Ir3\", \"BaGa2GeS6\", \"BaPt5\", \"Bi2Pd3S2\", \"Mn5As4\", \"Ba2ZnV2O8\", \"TlGaSe2\", \"BiO\", \"LiLu2Ru\", \"LaAl4\", \"Tb4GaSbS9\", \"Eu2Ga2GeS7\", \"NdTe\", \"Cd4V3Te3O15\", \"Si4Cu5O14\", \"Mg3Al9FeSi5\", \"Nb5OF14\", \"Zn0.99Hg0.01Se\", \"CsAgSb4S7\", \"RuTe2\", \"Hg2Br2Te2\", \"CoTe1.88\", \"Ba2Ce2O5\", \"LaH2NO5\", \"AgGaS2\", \"CaGaGe\", \"PrGe3\", \"CaInAu\", \"K8N3O\", \"Sr7Bi23O40\", \"Li7Ti7O16\", \"KTaO3\", \"GaTe\", \"Bi2S3\", \"GaAs\", \"CeF3\", \"GaSe\", \"Tm2AlOs\", \"TmMnO3\", \"EuYb2Se4\", \"GaAs\", \"ZnSe\", \"Na2Nb4Se4O19\", \"Te2Au\", \"AgSbS2\", \"Sr4V2Se6O21\", \"Li3Ni3(PO4)4\", \"InSb\", \"Li9Ga13Te21O66\", \"RbIn4\", \"Ti2ReRh\", \"NaFe2(SiO3)4\", \"Sr2TiO4\", \"YCo2\", \"Pr27Se40\", \"MoO3\", \"EuN\", \"PbSe0.95S0.05\", \"BaTi4O7\", \"CsTiCl3\", \"CuInSe2\", \"CaVO2\", \"Li3Cr3(CuO6)2\", \"SmSi3Pt5\", \"Nd5Ge4\", \"WO3\", \"BaGe2\", \"Ag3AsSe3\", \"Ba4Ge3S9Cl2\", \"LiBr\", \"GaN\", \"CdSnAs2\", \"Sb2S3\", \"Zr2Te\", \"AgSbSe2\", \"K2CuNbSe4\", \"ZrHCl\", \"Cu2Se\", \"Ba5V3O12F\", \"Dy2Ge3Pt9\", \"CdIn2S4\", \"HgSe\", \"NdTiGe\", \"PbBiBO4\", \"AgI\", \"Pb0.83Sn0.17Se\", \"Ba2GaErSe5\", \"K2Bi8Se13\", \"Ba5Ga4Se10\", \"TbMn6Ge6\", \"CuInS2\", \"YbAgO2\", \"Tl2BiP2S7\", \"Ta0.67Zr1.33O1.89N1.63\", \"Bi2Te2.97Se0.03\", \"Zr2Co12P7\", \"BAs\", \"Tm3Ge4Pd4\", \"Ca11Bi10\", \"ZnTe\", \"Zn3Cu\", \"K4Sn3Ce3S14\", \"Zn0.4Hg0.6Se\", \"EuBi3\", \"PbBr2\", \"CsYbZnSe3\", \"Sm4MgRh\", \"TmAu\", \"V6PbO11\", \"LaAl4Co\", \"Cu2GeSe3\", \"Ba3La3Cu6O14\", \"LuU2S3O2\", \"As2Se3\", \"Cu0.35Ga1.65S2.65\", \"NdBRh3\", \"AgSbTe2\", \"Ni23B6\", \"Sm2Fe17\", \"Na2BaGeS4\", \"Dy5Sn3\", \"Sc3C4\", \"Cd3Sb2\", \"HgIn2Te4\", \"Cu2Te\", \"TlCu6S4\", \"Ta4N5\", \"Li2MgIn\", \"PbCdP4O12\", \"Zn0.8Hg0.2Se\", \"CdS\", \"Bi2O3\", \"Er2Fe14B\", \"SnGa4S7\", \"AgInTe2\", \"Rb2Te\", \"Hg0.8Cd0.2Se\", \"CdSiAs2\", \"U4N7\", \"Lu2TlAg\", \"Lu5Si10Ir4\", \"SbSeI\", \"EuIn2Se4\", \"Ag7S2I2\", \"Nb5Ge3\", \"Sb2S3\", \"FeCo2Si\", \"Pr2Sr2PtO7.07\", \"Ti2NiSe4\", \"Tl3Cr\", \"Ba2InDyTe5\", \"Ga0.99In0.01As\", \"TlPTe\", \"NiI\", \"GaS\", \"Sb2Se3\", \"Li6FeNi9O20\", \"Hg4As2CdI4\", \"HoGeAu\", \"Na3W4O12\", \"EuScO3\", \"EuTe\", \"Pr2Te3\", \"Tl3VS4\", \"Ca4Al3O10\", \"YbAl2Ga2\", \"Ag2CdP2S6\", \"Mg3Ni20B6\", \"ZnSe\", \"YbLiF4\", \"ZnTe\", \"TaF3\", \"BaB2O4\", \"LiFe2(SiO4)2\", \"InAs\", \"Si2Te3\", \"KNb3Se2O12\", \"Li4Co5SbO12\", \"CaF2\", \"U2Cu2As3O\", \"Cu2Te\", \"KTa3CuO9\", \"ScZnPt2\", \"HoNi2B2\", \"EuNiGe3\", \"Li2CdGe\", \"CuGaSe2\", \"CdSe\", \"WO3\", \"TlCuCl3\", \"Bi2S3\", \"NdGa2Ni\", \"YWO3\", \"Li2Fe5O10\", \"Cs3Sb2I9\", \"HfTiF6\", \"YbKSe2\", \"NaGe3P3\", \"AgF\", \"SrAl\", \"InSb\", \"In3Bi7(Pb2S9)2\", \"TlSbS2\", \"CaMg2N2\", \"RePO5\", \"Zn6S5Cl2\", \"Zn3In2S6\", \"Pb3BiP3O12\", \"BaAu2\", \"RbF\", \"CeMn0.5OSe\", \"In2Se\", \"Cu2Ta4O11\", \"GaAs0.2Sb0.8\", \"GaAs0.7Sb0.3\", \"Ce3Al\", \"Na2GeIn2Se6\", \"RbCu2SbS3\", \"PmLi2Al\", \"Li4VF7\", \"NbIrSn\", \"Li4.5Fe0.5TeO6\", \"SrSnO3\", \"ThGe2Pd2\", \"Tm2ZnGa\", \"InAs\", \"Re3As7\", \"MgFe2S4\", \"CdIn2Se4\", \"Gd1.05Sc0.95Se3\", \"Cu3NbSe4\", \"CuCN2\", \"TlScTe2\", \"InAs\", \"LiNi4O8\", \"Mn2Nb\", \"TlBr\", \"Pr2YbCuS5\", \"InAs\", \"ZnIn2S4\", \"Li3Mn(CuO3)2\", \"Nd2Sn3Se9\", \"Nd1.33Lu0.67S3\", \"AsI3\", \"NdCr2Si2\", \"CdS0.35Se0.65\", \"La2O3\", \"Y3GaS6\", \"Pb6B4O13H2\", \"MnO\", \"Li4Co3CuO8\", \"GaFeNi2\", \"NaI\", \"GaAs\", \"ZnS\", \"CoSb3\", \"YbAg2\", \"Er5Bi3\", \"HfTl3\", \"Zn0.5Cd0.5Se\", \"TlPS2\", \"InSb0.99As0.01\", \"Al2CoIr\", \"Ce2SiSeO4\", \"Cs3Nb2AsSe11\", \"TiS2\", \"LaNi12B6\", \"Tl2TeI6\", \"NaBiS2\", \"CuIn3Se5\", \"BaAuI5O15\", \"PdSe2\", \"Ti2TcNi\", \"Fe10O9F11\", \"CsInTe3O8\", \"BaHgSe2\", \"CsCd4In5Te12\", \"BaTiO3\", \"Gd3S4\", \"RbBiSe2\", \"ZnO\", \"SbSI\", \"CdSiP2\", \"BaCuSbS3\", \"Cs2Ta2P2Se12\", \"Cr2P3O11\", \"Hg0.2Zn0.8Te\", \"YDyAg2\", \"KNb2Se\", \"SbI3\", \"Ba2InYTe5\", \"BiOI\", \"Sc3GaC\", \"ScAlNi2\", \"CsAu\", \"Rb3Al3Ge7Se20\", \"AlSb\", \"K4C2O3\", \"TbBe13\", \"CdIO3Cl\", \"La2In\", \"Ba3P3O10Cl\", \"ZnIn2S4\", \"PbCdP4O12\", \"Rb4Ag9Sb4S12\", \"Rb2AgPS4\", \"YbGa2S4\", \"NaInSe2\", \"Sm3Al\", \"Sn2WO5\", \"LiB3O5\", \"SrPb3Br8\", \"TiO2\", \"PbTe\", \"TlBiTe3\", \"Ti2Cd\", \"Ho3Pd2\", \"Pb0.95Ge0.05Se\", \"V5SiB2\", \"U3Nb\", \"CdSe\", \"MnSi\", \"YHg2\", \"Th2CrN3\", \"Ca5Sn4S13\", \"YbGeRh\", \"HgTe\", \"K2CuVS4\", \"RbNbSe2O7\", \"Pb0.999TeTl0.001\", \"U2SnRh2\", \"GeS\", \"Ba2SmCu3O7\", \"Pm2LiSi\", \"Li3Mo2P5O18\", \"RbF3\", \"CeMn2Si2\", \"Cu0.01In1.99Se2.99\", \"CaGa3Ni2\", \"SmTe\", \"K4Nb2S11\", \"PrIn3S6\", \"ZnFe2N2\", \"In2Bi3Se7I\", \"HgTe\", \"Ag2SnS3\", \"Zn0.55Hg0.45Se\", \"HoSb2O6\", \"Ba3PN\", \"SnSe\", \"Mg2Sn\", \"GeRh\", \"Hg5AsS2I3\", \"Mn2GeS4\", \"CdTe\", \"Sr2V2Se3O15\", \"CdPt\", \"Ba2HgS5\", \"ErCu\", \"ErIn3S6\", \"LiTlPd2\", \"Mg2CrN2\", \"Sr2YReO6\", \"GdNiO3\", \"KI\", \"TaGaSe2\", \"TmCoSi2\", \"Cu0.15In1.85Se2.85\", \"USbSe\", \"NaNO2\", \"Ce5Si3N9\", \"ZnS\", \"CrSb2\", \"RhAs2\", \"HgSc\", \"Na2GdP2O8\", \"Lu7Te2Pd2\", \"TbGe2Pd2\", \"Pr6Fe13Si\", \"Ba2In2S5\", \"LaSi2Ru\", \"InSb0.5As0.5\", \"ZnIn2S4\", \"Cd2V2Te2O11\", \"V2ZnO4\", \"Ca5Bi14O26\", \"Tm2MgTl\", \"KYTe2O6\", \"Er2Te3\", \"RbSbSe2\", \"LiSm3SiS7\", \"Ba1.88Ta15O32\", \"GaSe\", \"DyBiPt\", \"Eu2O3\", \"GaTe\", \"Cu2Se\", \"K4GeP4Se12\", \"CuBr\", \"CdS\", \"Pr10OSe14\", \"GdScS3\", \"K2Mo2Se2O11\", \"PmCdPd2\", \"YCdPt2\", \"InSb\", \"DyInPt2\", \"Co7Re17O48\", \"MnCu2Sn\", \"IrSSe\", \"InSb2Se4Br\", \"BiI3\", \"Li4.5Mn0.5TeO6\", \"Li4HgGe2S7\", \"ScRh\", \"Zn2BIr2\", \"Cu2Se\", \"GaAs0.2P0.8\", \"PbTe\", \"Mg2Si\", \"CeAl2Pt3\", \"TmThRu2\", \"SnS\", \"YNi4B\", \"ZnTc\", \"NdSn2\", \"PbSnS3\", \"CdGeAs2\"], \"x\": [1.1, 3.12, 1.45, 1.3, 0.15, 3.56, 0.0, 0.0, 0.0, 0.0, 1.8, 2.0, 0.0, 0.0, 2.26, 0.95, 2.3, 0.0, 0.0, 3.4, 0.46, 0.0, 0.0, 1.9, 2.54, 0.0, 2.05, 0.0, 1.1, 1.18, 1.51, 0.0, 0.0, 0.0, 0.0, 0.0, 3.46, 1.4, 3.02, 0.0, 0.19, 2.15, 4.6, 6.0, 0.28, 1.77, 2.05, 0.0, 0.45, 1.67, 0.0, 4.0, 1.44, 2.04, 0.0, 0.5, 0.0, 0.9, 0.0, 2.05, 0.68, 0.0, 3.14, 6.2, 2.18, 0.34, 0.0, 0.0, 0.0, 0.0, 2.3, 1.39, 0.0, 0.2, 3.52, 1.8, 1.41, 2.14, 0.0, 2.78, 3.0, 0.59, 1.2, 0.0, 0.0, 2.17, 4.0, 0.5, 1.26, 2.2, 1.31, 1.6, 1.27, 2.19, 1.25, 0.0, 1.32, 3.49, 1.2, 3.0, 0.0, 1.51, 4.39, 0.0, 3.0, 1.1, 0.0, 0.6, 0.0, 0.25, 0.0, 0.9, 2.4, 2.94, 1.7, 1.92, 1.96, 0.0, 0.0, 0.0, 2.28, 0.0, 1.92, 0.65, 0.0, 2.54, 1.51, 2.4, 2.43, 2.35, 0.0, 1.33, 0.0, 0.0, 0.0, 0.6, 0.0, 0.0, 0.0, 3.1, 0.0, 0.3, 2.3, 0.0, 0.0, 0.71, 0.0, 0.0, 2.6, 3.7, 0.0, 2.61, 0.0, 1.35, 0.64, 4.84, 0.5, 0.35, 0.0, 1.4, 0.0, 0.0, 0.0, 0.0, 1.07, 0.19, 3.4, 0.0, 0.0, 0.0, 2.0, 0.0, 0.68, 1.92, 0.5, 1.43, 0.8, 0.0, 0.14, 2.04, 3.02, 0.81, 1.78, 0.0, 0.0, 3.01, 0.0, 0.0, 0.0, 1.2, 0.0, 0.0, 1.57, 0.47, 0.0, 0.26, 0.0, 0.21, 0.0, 1.68, 0.0, 0.0, 3.99, 2.6, 1.98, 0.0, 1.4, 10.5, 0.96, 6.89, 0.79, 3.73, 0.0, 0.0, 3.25, 4.35, 0.58, 0.0, 0.0, 1.7, 1.97, 0.0, 1.37, 1.42, 1.75, 0.0, 0.0, 1.0, 1.2, 1.6, 0.0, 4.17, 3.46, 1.6, 1.22, 2.96, 0.0, 2.58, 1.0, 0.9, 3.7, 2.9, 0.0, 0.0, 5.69, 2.53, 0.67, 1.8, 0.0, 0.0, 1.69, 2.78, 1.9, 2.08, 2.73, 6.09, 1.14, 0.0, 0.0, 0.0, 0.73, 0.0, 4.0, 0.0, 0.34, 3.52, 0.0, 0.0, 0.95, 1.52, 0.0, 2.7, 0.13, 1.23, 0.13, 4.04, 2.6, 2.3, 0.96, 2.29, 3.67, 0.0, 0.24, 1.67, 1.43, 3.44, 1.95, 3.58, 1.65, 2.64, 0.58, 1.4, 0.02, 0.15, 1.05, 2.32, 3.25, 0.35, 3.24, 2.2, 0.22, 0.0, 0.3, 0.0, 3.97, 0.0, 3.93, 1.99, 1.18, 2.06, 2.8, 2.04, 0.0, 0.0, 3.27, 1.62, 2.63, 0.95, 0.0, 0.0, 2.2, 0.18, 0.0, 0.0, 0.29, 0.0, 0.0, 0.11, 0.0, 6.53, 0.0, 0.0, 1.3, 0.0, 0.0, 2.3, 3.16, 0.46, 0.37, 1.18, 1.55, 0.65, 8.5, 0.0, 3.07, 0.0, 1.61, 1.64, 2.42, 0.0, 1.1, 1.3, 0.0, 0.0, 2.3, 3.44, 3.15, 0.0, 0.0, 0.0, 0.0, 0.0, 0.0, 0.0, 0.0, 1.6, 0.0, 0.0, 1.22, 0.0, 5.47, 0.35, 0.0, 0.0, 1.45, 2.46, 2.6, 0.0, 2.01, 1.28, 0.0, 0.18, 3.26, 0.57, 1.3, 3.25, 1.75, 1.36, 0.0, 0.0, 0.0, 2.12, 0.9, 0.0, 0.0, 3.8, 5.38, 3.7, 2.79, 0.0, 0.45, 0.0, 3.14, 2.0, 6.25, 2.56, 0.0, 0.0, 0.0, 1.76, 2.23, 1.63, 1.83, 1.65, 2.04, 3.6, 0.0, 0.0, 1.22, 0.0, 2.73, 2.61, 0.98, 0.21, 0.0, 0.43, 2.64, 0.0, 0.0, 0.0, 0.0, 0.18, 0.2, 0.22, 2.0, 0.0, 1.25, 1.66, 0.0, 3.1, 0.0, 0.71, 3.44, 0.0, 0.0, 0.36, 0.61, 0.7, 1.67, 2.17, 0.0, 0.0, 0.0, 2.06, 2.6, 0.81, 3.1, 1.2, 2.41, 1.66, 1.18, 0.0, 0.29, 0.0, 0.0, 2.17, 6.28, 2.0, 2.9, 5.76, 2.6, 0.0, 2.4, 2.18, 0.0, 0.0, 1.52, 0.0, 2.64, 6.0, 4.87, 2.0, 1.52, 1.07, 0.0, 0.0, 2.85, 2.34, 0.12, 3.26, 2.35, 5.54, 2.35, 0.76, 0.0, 0.0, 0.56, 0.0, 0.0, 0.0, 0.88, 1.93, 0.0, 2.83, 2.99, 2.25, 2.54, 1.37, 3.03, 5.7, 1.1, 1.43, 0.0, 2.6, 3.59, 0.0, 0.0, 0.22, 2.1, 0.0, 1.4, 0.0, 0.0, 0.45, 0.0, 0.27, 0.0, 0.0, 0.0, 0.0, 0.0, 0.0, 0.0, 0.0, 3.5, 0.0, 0.0, 0.0, 2.32, 0.0, 2.58, 0.0, 0.0, 3.0, 0.64, 1.59, 2.3, 0.7, 0.0, 0.0, 1.2, 1.37, 0.0, 0.0, 1.36, 3.25, 1.4, 0.0, 0.0, 1.94, 2.53, 0.68, 1.89, 0.0, 1.12, 1.63, 2.21, 0.5, 2.1, 1.27, 0.0, 1.66, 4.99, 1.8, 0.27, 1.45, 2.22, 0.0, 3.62, 2.8, 0.43, 0.0, 0.0, 2.9, 0.0, 1.38, 0.0, 0.0, 0.0, 0.0, 2.35, 2.22, 0.0, 2.54, 0.2, 0.39, 1.5, 2.38, 0.12, 0.0, 0.85, 0.0, 0.95, 0.0, 0.27, 1.26, 1.76, 0.31, 0.0, 0.0, 1.94, 1.0, 1.78, 0.33, 1.29, 0.0, 2.4, 0.0, 0.0, 0.0, 0.0, 0.0, 0.0, 1.29, 2.07, 0.0, 1.8, 0.0, 1.1, 0.0, 0.0, 0.45, 0.0, 0.0, 0.0, 0.0, 0.22, 0.0, 0.26, 3.47, 1.5, 0.15, 2.23, 0.5, 0.0, 0.0, 2.17, 1.27, 0.0, 2.03, 0.0, 1.67, 0.0, 2.5, 0.0, 0.95, 1.51, 2.82, 3.3, 0.0, 1.9, 1.7, 4.77, 0.91, 0.0, 3.44, 4.44, 1.5, 1.58, 2.19, 1.72, 0.0, 0.0, 0.0, 2.3, 0.0, 2.11, 0.0, 0.29, 0.0, 0.0, 0.19, 0.95, 6.97, 1.13, 0.0, 2.16, 0.0, 1.0, 2.46, 0.0, 1.96, 0.0, 3.1, 4.64, 1.5, 0.0, 1.1, 0.0, 0.0, 1.18, 0.0, 1.09, 3.0, 0.21, 0.0, 0.0, 0.0, 0.14, 0.0, 1.3, 0.0, 2.34, 2.5, 3.22, 0.38, 0.0, 1.3, 2.64, 0.0, 2.0, 0.0, 0.0, 0.0, 0.2, 0.0, 1.18, 1.42, 2.31, 1.08, 0.0, 0.0, 0.7, 6.26, 0.0, 0.0, 0.0, 1.2, 0.0, 1.0, 0.3, 1.08, 0.0, 2.2, 4.13, 0.0, 0.0, 1.5, 0.0, 1.81, 3.6, 3.37, 1.76, 0.0, 2.4, 1.83, 0.0, 0.0, 0.0, 0.0, 2.06, 0.0, 0.0, 2.0, 3.87, 0.28, 0.0, 3.1, 3.38, 0.0, 3.1, 2.85, 2.52, 1.2, 0.55, 1.15, 2.03, 0.0, 2.6, 0.1, 2.14, 0.0, 7.03, 3.21, 2.6, 0.0, 0.0, 0.0, 0.0, 1.24, 4.17, 2.1, 1.29, 2.38, 0.11, 0.0, 1.79, 0.0, 2.04, 2.0, 3.54, 0.0, 0.0, 0.7, 0.0, 0.0, 0.0, 2.41, 6.0, 0.0, 2.8, 3.4, 1.8, 0.0, 0.0, 0.0, 0.0, 3.23, 0.0, 0.0, 0.0, 3.48, 1.65, 0.0, 0.0, 0.0, 2.44, 2.3, 0.0, 2.66, 0.0, 0.0, 0.0, 2.6, 2.04, 0.25, 2.06, 0.2, 0.0, 4.76, 2.73, 0.0, 0.0, 0.0, 0.0, 0.0, 0.0, 3.5, 1.74, 1.2, 1.52, 4.85, 2.17, 0.0, 0.0, 1.3, 1.51, 2.87, 3.56, 0.0, 1.9, 2.66, 0.0, 0.24, 4.45, 0.0, 0.0, 0.0, 3.41, 0.0, 0.0, 3.7, 1.25, 0.26, 0.0, 0.0, 1.01, 0.0, 0.0, 0.0, 0.0, 2.9, 1.0, 1.98, 2.91, 7.5, 3.48, 0.41, 1.71, 0.0, 0.85, 2.14, 0.0, 1.23, 3.85, 0.0, 2.3, 0.6, 0.0, 3.2, 2.92, 0.04, 1.95, 0.47, 2.2, 0.0, 1.52, 0.0, 1.8, 2.48, 0.16, 0.0, 1.45, 0.0, 0.0, 2.29, 0.0, 2.46, 0.42, 0.0, 3.2, 2.1, 0.0, 0.0, 0.0, 0.0, 1.1, 1.8, 0.0, 1.81, 2.53, 0.0, 0.48, 0.0, 0.0, 3.7, 0.0, 0.0, 0.3, 1.25, 1.02, 0.0, 0.0, 0.0, 4.85, 1.4, 2.44, 2.86, 0.0, 3.1, 0.93, 4.5, 0.95, 1.47, 0.0, 0.0, 0.0, 1.63, 1.31, 0.0, 0.0, 1.72, 0.0, 3.05, 0.0, 0.0, 1.35, 1.4, 0.3, 0.0, 2.38, 1.15, 0.0, 1.45, 0.0, 0.0, 0.0, 1.96, 1.5, 1.7, 0.0, 0.0, 2.49, 0.0, 2.82, 0.0, 2.3, 0.0, 6.43, 0.0, 0.28, 2.0, 3.46, 0.0, 9.92, 0.0, 1.15, 0.0, 0.0, 0.0, 0.0, 0.99, 1.63, 1.8, 2.8, 2.98, 1.4, 0.0, 0.0, 0.0, 1.89, 0.0, 0.0, 2.06, 2.8, 0.0, 0.18, 0.0, 1.42, 3.25, 0.0, 2.71, 2.8, 3.7, 0.0, 10.4, 2.01, 0.69, 2.6, 1.02, 0.67, 0.0, 2.47, 1.67, 0.0, 0.0, 0.28, 3.25, 4.1, 0.0, 0.0, 0.42, 0.0, 0.0, 1.3, 1.2, 2.45, 0.0, 0.85, 0.35, 0.0, 0.0, 3.4, 1.25, 0.43, 2.68, 0.0, 0.5, 1.5, 2.54, 0.0, 1.93, 5.4, 2.88, 3.24, 3.6, 0.0, 0.0, 6.75, 1.48, 3.58, 0.49, 0.0, 0.0, 0.0, 2.9, 1.7, 0.35, 0.0, 0.0, 1.35, 1.95, 0.0, 1.47, 0.42, 0.6, 2.32, 0.4, 0.0, 0.0, 3.9, 1.56, 1.42, 2.96, 0.0, 0.72, 3.25, 1.92, 2.2, 2.0, 2.29, 0.0, 1.4, 0.0, 0.0, 2.49, 1.36, 1.89, 0.0, 0.0, 2.3, 2.4, 1.7, 0.0, 0.0, 4.3, 0.0, 6.89, 2.8, 4.87, 2.0, 2.6, 2.3, 2.8, 0.0, 2.6, 7.75, 3.2, 3.3, 0.21, 0.5, 0.0, 0.0, 0.28, 0.0, 0.0, 1.74, 0.6, 0.0, 0.0, 0.0, 0.0, 0.18, 1.82, 4.1, 0.3, 0.0, 1.77, 0.0, 0.0, 0.0, 0.0, 0.0, 1.45, 0.0, 0.35, 2.42, 1.14, 0.0, 1.38, 0.19, 1.26, 0.8, 0.0, 0.0, 0.91, 0.3, 0.0, 1.57, 0.0, 1.65, 2.96, 0.0, 2.4, 0.0, 1.28, 0.0, 0.0, 0.0, 0.0, 6.25, 1.65, 0.0, 1.32, 0.0, 3.13, 0.0, 3.78, 0.14, 1.15, 0.24, 4.19, 0.0, 0.0, 0.0, 2.47, 0.0, 0.1, 2.86, 2.48, 0.0, 2.6, 0.0, 3.8, 0.9, 1.62, 2.83, 0.13, 2.12, 0.0, 4.5, 1.69, 1.29, 2.0, 3.02, 2.57, 1.89, 2.1, 3.3, 0.0, 0.0, 0.27, 0.0, 0.0, 0.0, 1.2, 1.35, 2.03, 1.97, 2.75, 0.0, 0.0, 1.3, 2.2, 0.36, 2.27, 0.0, 0.0, 1.26, 0.0, 2.37, 0.0, 0.9, 0.41], \"y\": [1.1551849330365571, 2.8897719742757233, 1.396200409573264, 0.8612455000554999, 0.08785970196470201, 3.205634697247199, 2.14354533910534, 0.7496789682539684, 1.3490053535353532, 0.00997664502164502, 1.6958749927849923, 0.9450948340548337, 0.0, 0.04011055194805194, 1.8613258156408807, 0.1955547835497836, 2.253268827766436, 0.0, 0.005633333333333334, 1.1245056240981246, 0.6290057431457431, 0.0, 0.012722222222222222, 2.0084127705627717, 1.9055245779220786, 0.06955448051948053, 2.094566147186147, 0.06974098484848486, 1.3420104299387736, 0.5563010606060607, 1.4631546503513682, 0.0584009235209235, 0.33416234487734486, 0.05442095238095239, 0.40875264790764787, 0.0, 3.11013047979798, 0.798336980709349, 2.8897719742757233, 0.0, 0.2852192741043784, 2.1040511255411256, 3.797738513708513, 3.5574910606225707, 0.45114634199134207, 2.017479249639249, 2.044581268878548, 1.1929827741702745, 0.44390142316017306, 1.5550867875459593, 0.005333333333333333, 1.640157961760462, 1.4631546503513682, 2.077787638060092, 0.24428838383838386, 0.9505213343965973, 0.0, 0.4897729473304473, 0.0003363636363636364, 1.2615312041759408, 0.6725471483633327, 0.08504445526695525, 2.735812360964199, 4.594293387445889, 1.777079380619381, 0.27084157176157164, 0.0013533333333333333, 0.015316666666666666, 0.0008500000000000001, 0.8791705014430015, 0.6879166305916306, 1.352467878787878, 2.1560168470418475, 0.2509781034024454, 0.6467707142857142, 1.6919813564213573, 1.7264262481962473, 1.9944216486291482, 0.3317003391053391, 2.20534695887446, 3.332114823232325, 0.7420119345931847, 1.0503553427128431, 0.04499943722943723, 0.04704541125541125, 2.249011502830502, 3.771946072053532, 0.6817866218576745, 1.365996883909379, 1.2040374160235907, 1.1568382683982683, 1.6384188507326014, 1.2269120433895424, 2.0179842049411234, 1.3355240434028477, 0.15346263528138526, 1.1713897005772007, 3.378988287368616, 1.187819991674991, 1.85700744949495, 0.0, 0.7643105810202868, 2.496031507936509, 0.0, 1.5088298329700098, 0.9420101010101015, 0.4335605375180374, 0.48649814152136117, 0.0, 0.2687390223665223, 2.420103362193363, 1.0599173653831548, 2.322182824675325, 2.9628018362193353, 1.5306586183261184, 1.6285480025530021, 1.2967950324675326, 0.0, 0.0007142857142857143, 0.2171961002886003, 1.5352610059385055, 0.13051867826617827, 1.8016300324675325, 0.7733361760461759, 1.320983048340548, 2.2949463780663786, 1.4348387240047529, 2.7729275627150622, 2.1449658694083693, 2.116765292207792, 0.0006666666666666666, 1.4230606529581535, 0.4490320923520923, 0.06673302669552668, 0.6895984740259739, 1.29993536597547, 0.0013333333333333333, 1.3073280194805195, 0.0002666666666666667, 2.991559411976912, 0.0005727272727272727, 0.27212306998556995, 1.795490800588301, 0.28739875965537726, 0.04805416666666667, 0.6961523606364399, 0.3239018650793652, 0.008266666666666667, 1.9674037907925404, 3.7126927068562656, 0.11777141053391053, 2.3560283751248745, 0.0, 1.2269120433895424, 0.656871192672062, 3.1433008694083684, 0.7108760552338955, 0.3498471743083198, 0.0009666666666666667, 1.479819707792208, 0.002072727272727273, 0.0016666666666666666, 0.21245792313895254, 0.021962247474747478, 0.9171367352092349, 0.0810378787878788, 3.437020335497835, 0.09574991702741703, 0.6327371356421355, 0.0, 1.44367672077922, 0.038200663780663766, 0.8904909952629073, 1.8894304004329003, 0.7733361760461759, 1.0708397113997112, 0.7095256673881677, 0.35681513708513696, 0.3079996608946609, 2.782356457708959, 2.011126893939394, 0.7837995274337806, 1.6191541505390037, 0.01591555555555556, 0.12947123015873016, 2.0649093795093796, 0.002022222222222222, 0.03315658730158732, 0.0070999999999999995, 1.147808773448773, 0.002022222222222222, 2.0855535569985566, 1.276824684632533, 0.9434626123463739, 1.467244213564213, 0.2342425104427737, 0.02702878787878788, 0.24409186944634317, 0.0, 1.5306586183261184, 0.13997573593073592, 0.3396495418470418, 3.665242586580088, 2.674948746808746, 1.7469520113340762, 0.010137499999999999, 1.6194256995781993, 9.716213189033184, 0.6677368434343434, 6.4084152561327565, 0.8091222299922295, 2.5200590548340536, 0.10306889249639252, 0.0, 3.085503683261183, 3.5259664854589845, 0.4876803400044225, 0.0, 0.08247333333333336, 2.075917333333332, 2.547237160894661, 0.11042270202020203, 1.5732899242424248, 1.4732547597402594, 1.7028881313131314, 1.0909133259614776, 0.0439176948051948, 1.1472981421356423, 0.7866874422799424, 1.6935924675324672, 0.22487627705627708, 3.15489335137085, 3.445219770784771, 1.4379326547961844, 0.8182901146806408, 3.3715027834665325, 0.24677800865800864, 2.6301411684149207, 1.0541728210678214, 0.8139172402597401, 3.7126927068562656, 2.8277899025974023, 0.026956259018759022, 0.020306060606060602, 3.569320349927849, 2.535706762657631, 0.6896585064935067, 1.5846711044511046, 0.0, 0.027056998556998554, 1.2375742429792427, 2.384613814417466, 1.7912088383838387, 1.4565019336219327, 2.568028325008325, 5.583306803751808, 0.9860330375910636, 0.7945935642135643, 0.015316865079365081, 0.9348958333333328, 0.6436800541125542, 0.0011666666666666668, 3.8151104292929285, 0.11059380952380954, 0.34733062409812404, 3.155086966921967, 0.29039201659451647, 0.3374729761904762, 0.8845569227994226, 1.4631546503513682, 0.0, 1.0698358189033188, 0.1571191522366523, 1.32997623015873, 1.14623512765786, 2.4618197582972585, 1.590486442764751, 2.409476493506494, 0.8091222299922295, 2.640610770895771, 4.795081327561329, 0.0, 0.3079996608946609, 1.904377341269841, 1.7463046411594947, 3.378988287368616, 2.29629985930736, 3.5109184992784996, 1.6384188507326014, 2.936782968975468, 0.5787462753912757, 0.8796879004329001, 0.12058850288600284, 0.2603365485683906, 0.9880399760022586, 2.072964236374737, 1.9082294408369405, 0.2400725865800866, 3.437020335497835, 0.9685980241980241, 0.1180749675324675, 1.386449195526696, 0.36309233773493443, 0.06463095238095237, 2.60745452020202, 0.00066, 4.355822142857143, 2.1858759487734485, 1.2038584018759018, 2.30669369047619, 1.8525905375180363, 2.139778701298702, 0.03199270923520924, 0.0, 2.313026266233766, 1.4348387240047529, 2.3070722931697936, 0.9148902183927186, 0.20540927489177488, 0.014733333333333331, 2.090634702020202, 0.22653671384343205, 0.0, 3.8129471495171496, 0.18882466810966814, 0.07240156926406928, 0.11909395021645025, 0.3079996608946609, 0.523539862914863, 4.56191875180375, 0.09039041666666668, 0.5957925288600289, 1.246406089466089, 0.22736740981240988, 0.0004090909090909091, 1.806212702020202, 3.0440415512265497, 0.122583575036075, 0.518364266942208, 0.9645171804861806, 1.9429723529248537, 0.8091222299922295, 8.357485609668105, 0.009667261904761904, 2.8897719742757233, 0.001671428571428571, 1.12122740981241, 1.4102375438450434, 2.8690410739260743, 0.0002666666666666667, 0.8275916171545132, 1.2269120433895424, 5.072648152958153, 0.7052647763347762, 1.7341166690009333, 3.437020335497835, 2.6874074380233286, 0.9427913747363746, 0.0, 0.018564105339105342, 0.605626165223665, 0.0007142857142857143, 0.1561594841269841, 0.02636471861471861, 0.03443369047619048, 1.6912168378289234, 0.13902809523809523, 0.5178879906204906, 1.242844829059829, 0.09683848484848484, 3.280703163780664, 0.4036936534350585, 0.0131568253968254, 1.0584744841269844, 2.0528128626325364, 2.7729275627150622, 1.7248480844155836, 3.185713800535213, 1.7304048484848484, 1.1936646926027195, 0.12873430014430012, 0.07519370490620492, 1.584655050505051, 0.8091222299922295, 1.3550966977466976, 3.437020335497835, 2.0603685231435236, 1.384783092685093, 0.12605804112554106, 1.0371237842712844, 0.08474787878787877, 2.341828502886003, 0.940718515512266, 0.016245833333333334, 0.00367, 2.615460924575425, 3.6781032647907654, 3.02922161064984, 2.9707909704184714, 0.0017666666666666666, 0.4036936534350585, 0.12739762626262627, 2.2938814466089466, 1.933793297258297, 6.220770952380959, 2.384613814417466, 0.11357936507936507, 0.015551161616161617, 0.0, 1.7594134441114446, 2.142249157231657, 1.5846711044511046, 1.41772836940837, 1.0612539402264405, 1.5644721536796538, 3.437020335497835, 0.18708976551226553, 0.11609960317460316, 1.19075613053613, 2.105175515873015, 1.9816520598845602, 1.82265161976912, 1.3420104299387736, 0.25226603450471097, 0.03287272727272727, 0.9602440845429078, 2.6443484220779214, 0.09932932539682537, 0.886886328116328, 0.07184395743145744, 0.37330487373737375, 0.8266246536796535, 0.19031598124098126, 0.27084157176157164, 1.8415140395715393, 0.6005292649017647, 0.4411398950211294, 1.6622655483405488, 0.003342857142857143, 3.3801483072483065, 0.0, 0.8091222299922295, 3.378988287368616, 1.3186204365079361, 0.4847796717171717, 0.4046680630497814, 0.7733361760461759, 0.43043701295436576, 1.8613258156408807, 1.947169987234987, 0.8546206746031744, 0.0, 0.027018495670995676, 2.0043912240537254, 2.2776411936179755, 0.7860602011877011, 2.6538032900432897, 1.4476317474192468, 2.208387402597402, 0.9970319552669558, 1.069356246677299, 0.03882041847041847, 0.3855658836996338, 0.0, 0.03871931818181818, 2.0603685231435236, 5.827673044733043, 0.3652777597402598, 2.4643801753246746, 4.838505923520924, 1.7940010137085136, 0.3235853066378066, 2.0789742787816046, 2.0542156782106797, 1.426875854978355, 0.40710357503607514, 1.8572544129179993, 0.0, 2.384613814417466, 5.398011702741702, 4.756206727994225, 2.0570886587513804, 1.4631546503513682, 1.024089797979798, 0.07718940476190475, 0.00075, 1.9283208939393932, 2.291838498651106, 0.12387274891774885, 3.722131316738819, 2.384613814417466, 4.858137319624819, 2.3066195213368625, 0.13710904761904763, 0.03564761904761905, 2.7275459530175703, 0.8091222299922295, 0.0, 0.07132344877344876, 1.3058365416772768, 0.9856950135975139, 1.3884842201649397, 0.6578447727272726, 2.2964216164391162, 2.683944444444442, 2.2876799673202624, 2.2342978932178927, 1.3355240434028477, 2.3495396431394684, 6.09630162337662, 1.0009306132756137, 1.2518086616161617, 0.0, 2.4581452705627713, 3.205634697247199, 0.0, 0.0022166666666666667, 0.2400725865800866, 2.021232571428571, 0.00806111111111111, 1.0087700901875905, 0.09551653679653675, 0.34612213203463205, 1.115210040515041, 0.0, 0.24280755411255409, 0.09444384920634921, 0.13519377344877348, 0.030764242424242427, 0.12262984126984124, 0.8618187049062053, 0.8901531818181819, 0.03702388528138528, 0.003304761904761904, 1.3768112373737373, 0.6115292857142858, 0.5101750703463204, 0.8500003499278502, 2.5703961507936515, 0.0008590909090909091, 2.535706762657631, 0.6918176875901874, 0.015316666666666666, 2.771475544733045, 0.7357019597069596, 1.5613005075969784, 2.1968718031968044, 0.487994069264069, 1.4875496861471869, 0.01186686507936508, 1.3288479256854258, 1.4529475491413473, 0.02400714285714286, 0.5774952561327562, 1.2269120433895424, 2.928621617810295, 1.7827696292596298, 0.7311609704184705, 0.26417931457431454, 1.6784652308802301, 2.5703961507936515, 0.8903035642135646, 2.047062513320013, 0.2287316233766234, 1.1791819264069268, 2.0888207274978496, 2.62646938095238, 0.9706048579198584, 2.5774886313131304, 1.4143268903318909, 0.0, 1.141311677489177, 2.347078192640694, 1.6524220995670995, 0.1897321114283034, 1.4451298304473301, 1.6056953607503608, 0.15951833694083697, 3.2287520923520936, 2.901346890989129, 0.5467133053745362, 0.009093809523809525, 0.1238598051948052, 2.2099095779220765, 0.03668454545454545, 0.705573051948052, 0.12271887445887444, 0.05290375901875902, 0.0, 1.9862347979797974, 2.2866790440115445, 2.268088127705627, 0.0, 2.258446291486292, 0.47878673902894514, 0.3694041349745028, 1.6768024422799415, 2.1763865542790546, 0.20398297197986057, 0.7079270887445887, 0.9148902183927186, 0.006566666666666666, 0.21348746593533743, 0.0, 0.2687390223665223, 1.219698692696193, 0.27590836219336223, 0.24280755411255409, 0.0040999999999999995, 0.5470027922077921, 1.7831182251082254, 0.8612557140958458, 1.5846711044511046, 0.2852192741043784, 1.874763892887305, 0.16976619047619046, 1.7971850785374057, 0.5166875432900434, 0.6158884161671663, 0.040316309523809525, 0.008788095238095239, 0.12248055555555556, 0.06692748196248197, 1.2269120433895424, 1.7043209595959596, 0.0052928571428571426, 1.0196329963500554, 0.0, 0.797911125541126, 0.09350949494949493, 0.010546666666666666, 1.411279480519481, 0.16119720418470418, 0.9552069191919195, 0.1466497366522366, 0.0, 0.22653671384343205, 0.0, 0.30940069791319796, 3.445219770784771, 1.3756171808746809, 0.18512847818847827, 1.365735512265512, 1.7636961976911985, 0.02257578282828283, 0.026529033189033192, 1.61792948154312, 1.523960685425685, 0.04508333333333333, 2.142249157231657, 0.009976190476190477, 0.23508979936729943, 1.107808120490621, 2.535706762657631, 0.001391919191919192, 0.8754551254301256, 1.4631546503513682, 2.7860893841834966, 3.107074469696971, 0.0, 2.0084127705627717, 1.7058902813852819, 4.501057792207796, 1.0469996400821402, 0.36394563131313135, 2.7759755231369945, 3.4133596278721274, 0.992151865079365, 1.312425985958486, 2.091252839105339, 2.1684003000188223, 0.0003272727272727272, 0.08636781024531025, 0.003748571428571429, 0.5866002597402598, 0.17053416666666668, 1.9187661166284697, 0.014286904761904761, 0.7091538203463205, 1.6461605555555556, 1.4476598665223666, 0.3079996608946609, 1.5429525468975458, 6.6455040440115445, 0.9860330375910636, 7.142857142857143e-05, 2.088380167887668, 0.526717481962482, 0.8554495421735132, 2.3914006854256864, 0.0, 1.8373734018759016, 0.0, 1.8525905375180363, 3.1457265007215, 1.8717883261183261, 0.07270921717171716, 1.4732614362108478, 0.0, 0.1183982142857143, 0.6878558802308798, 0.0, 1.198269383116883, 1.7740194913419913, 0.13406259018759023, 0.0008333333333333333, 0.012793463203463204, 0.11424258658008657, 0.24280755411255409, 0.09406038961038962, 0.154627331002331, 0.020724999999999997, 2.431257301587302, 2.6301411684149207, 3.247575613275613, 0.4701847402597401, 0.042173492063492066, 0.9055486002886003, 2.8897719742757233, 0.8564445634920633, 1.4000076443001441, 0.004416666666666667, 0.11117522005772006, 0.00016, 0.6171177200577199, 0.004226984126984127, 1.1053054241664766, 1.365996883909379, 2.0990075045485916, 1.1225785530525918, 0.13705080447330445, 0.3749323481583776, 1.213517294372294, 6.220770952380959, 0.0, 0.0, 0.04114967532467533, 1.4356322024758867, 0.005636666666666667, 1.147808773448773, 0.1893879986035636, 0.883878499180558, 0.013158293650793651, 2.1371440836940834, 2.8206692673992664, 0.42854093795093795, 0.0422323593073593, 1.4732614362108478, 0.23413641774891775, 1.7953632298136641, 3.3265566123369394, 2.3509848520923526, 1.7074771536796534, 0.5088439754689756, 2.0755138780663778, 1.8613258156408807, 0.015638095238095243, 0.05654330447330448, 0.0, 0.0, 1.3754152092352094, 0.0, 0.01174809523809524, 1.7829863387988822, 3.395268553391055, 0.14316753246753247, 0.011570616883116884, 3.2674097979797985, 1.356028275613275, 0.016195151515151513, 2.7856902272727275, 1.8525905375180363, 2.8690410739260743, 1.422376623099123, 0.3882951551226551, 1.346507016594516, 1.7929105110369872, 0.1975559668109668, 2.682909711399711, 0.1571191522366523, 2.0248670231821313, 0.21900570346320347, 6.6455040440115445, 3.2910250140056, 2.535706762657631, 1.165787507215007, 0.2649607142857142, 0.033453650793650806, 0.0, 1.1451805303030296, 4.608430342500636, 2.077787638060092, 1.5647353030303028, 2.390038488455987, 0.6134776745476751, 0.03435833333333334, 2.161069549617049, 0.21947240259740255, 2.2363671275946277, 0.9303449956330219, 2.918138572538573, 0.0006666666666666666, 0.00406, 0.8723708838383838, 3.530088149857389, 0.47351055194805197, 0.009413603896103897, 2.535706762657631, 5.075752777777774, 0.0016666666666666666, 2.8459286684149188, 1.801472197403335, 1.8617561219336218, 0.0077, 0.0019585858585858583, 0.005783333333333334, 0.0051866666666666675, 3.1536543867243876, 0.0031178571428571427, 0.4172131134878195, 0.17602858225108217, 2.9253592279942278, 1.2988303029976558, 2.045892853535353, 0.0018233333333333335, 0.10280151515151513, 1.988299143079143, 1.9093702056277062, 0.934115071937866, 1.6531168290043292, 0.28434280663780664, 0.2853727505827506, 1.1320851767676772, 2.090142618107502, 1.968452664557664, 0.8016985696248193, 1.6180016469641467, 0.5707609597020626, 0.5481478499278498, 3.458549884559886, 2.568028325008325, 0.050450238095238104, 0.10626987734487736, 0.0, 1.4126342424242424, 1.9606868297258304, 0.035646666666666674, 4.073127518037516, 1.5846711044511046, 1.3021423667998673, 1.4631546503513682, 2.4176851731601734, 2.077787638060092, 0.0, 0.3764644047619048, 1.4155539653679652, 1.4631546503513682, 2.7860893841834966, 3.3584523196248193, 0.4504212579087578, 1.8379990184815183, 3.328446904761906, 0.0, 0.22653671384343205, 4.009827249139749, 0.03302604617604618, 0.0, 0.136875165945166, 4.076017680375184, 0.01262714285714286, 1.7309365888700674, 3.6036367027417047, 1.3649067388167386, 0.3117821030302688, 0.0, 0.24169667027417027, 0.8845569227994226, 0.04715828282828283, 0.04088333333333333, 0.0002666666666666667, 0.004707142857142858, 2.5450402236652243, 0.20553544733044726, 2.081974365079364, 2.4623442316017323, 7.238166681929182, 3.437020335497835, 0.35948306277056297, 1.6285480025530021, 0.06451309884559885, 0.6741919408369411, 2.0806468542568552, 0.6692895634920636, 1.1551849330365571, 3.4931351118326126, 0.0, 2.2776411936179755, 0.24928717684362417, 0.0, 2.5737736976911973, 2.901346890989129, 0.12091192640692638, 2.0923479978354975, 0.7420119345931847, 2.190570189754691, 0.00037142857142857143, 1.5340860223110218, 1.0546905988455988, 1.8130324730824723, 1.3236700541125543, 0.2603365485683906, 0.0016277777777777777, 1.5821103680603028, 0.001966666666666667, 0.13819507936507935, 2.2876799673202624, 0.046168181818181823, 2.125851453823955, 0.9505213343965973, 0.19652367354867362, 3.203932985347986, 2.099112554112554, 0.02485238095238095, 0.0, 0.19711418109668116, 0.00626, 0.7195937218045114, 0.13256782106782106, 0.7811059126984129, 1.7726503571428573, 2.5546600363525367, 0.0, 0.48649814152136117, 0.0, 0.0057933333333333335, 2.382313088023088, 0.0, 0.3369846248196249, 0.4013549153847529, 0.9537944480519478, 0.883878499180558, 0.6668564502164503, 0.8826370424020422, 0.05030893939393939, 1.7844615367965369, 1.4966562126762122, 2.535706762657631, 2.8789379545454548, 0.002, 2.8274583116883125, 0.6677368434343434, 2.294088650793651, 1.27280255050505, 1.4348387240047529, 0.9405023051948049, 0.0003272727272727272, 0.007847222222222222, 1.6309300396825392, 1.2449284295687975, 0.8187734945317839, 0.0008500000000000001, 1.6285480025530021, 0.034074242424242424, 1.2560100685425684, 0.5831424261246, 0.0436676948051948, 1.2795959812409814, 1.0405805473800365, 0.8611196503496507, 1.2888613888888891, 2.6301411684149207, 1.177237801087801, 0.009416666666666667, 1.3132501226551225, 0.003933333333333334, 0.02988647186147186, 1.2663497294372297, 1.6269320995670995, 1.1157424422799425, 1.7861911188811186, 3.4496188270063266, 0.016144642857142857, 2.5407419877344886, 0.005763636363636363, 2.7860893841834966, 0.7749493362193361, 2.2876799673202624, 1.2336637676212674, 5.931787958152955, 0.017097575757575756, 0.4036936534350585, 1.9944050577200583, 3.2613135930735933, 0.004416666666666667, 9.683141641414137, 0.4839915873015875, 0.883878499180558, 1.059910562770563, 0.0002666666666666667, 0.0, 0.036831132756132756, 0.28994631673881677, 1.5306586183261184, 1.8613258156408807, 2.5450402236652243, 0.9601217452482161, 1.3021423667998673, 0.0, 0.11295484126984126, 0.007333333333333334, 1.6712851370851367, 0.751262103174603, 1.3312970959595956, 1.7498833225108228, 2.4509637935022495, 0.06242708333333333, 0.22653671384343205, 1.3643216414141413, 1.7654726612276612, 2.3866539795470234, 2.0900025505050506, 3.5890317703572645, 2.920748178210677, 3.29111054112554, 0.055298412698412694, 9.696813189033184, 1.2797402236652233, 0.7995150407391999, 2.2242145562770554, 0.9711102577462098, 0.8640132292853347, 0.023919404761904763, 2.180198113275615, 1.7653700541125545, 0.020233030303030305, 0.7040538095238097, 0.0005, 1.9476019733044745, 2.6427030808080816, 0.0, 0.00705, 0.4036936534350585, 0.4120915428723322, 0.18537242146742153, 1.6883344849594835, 1.3399203679653677, 1.091051973701206, 1.591210548340548, 0.6750813562091501, 0.4036936534350585, 0.33568481962481955, 0.04666212121212121, 2.8897719742757233, 1.348425937950938, 0.4036936534350585, 2.683944444444442, 0.035396666666666673, 1.0093175198412694, 1.2747471176046172, 2.250817153175895, 0.00055, 1.956433906707743, 3.9202797132034615, 2.061184540688069, 3.224657492784994, 0.6463779329004329, 0.010137499999999999, 0.033202878787878795, 5.671377496947498, 1.4631546503513682, 3.7126927068562656, 0.3368054002430318, 0.006990909090909091, 0.010612619047619048, 0.006683333333333334, 2.8723290856039374, 1.7612933173525809, 0.1985660847193742, 0.004141666666666667, 0.6607818037518038, 1.5849163997114, 1.014218453213453, 0.0, 1.5137102489177494, 0.4546771067821067, 1.1368094723577074, 2.1353621572871577, 0.8886744624819625, 0.0013666666666666666, 0.12947123015873016, 3.5679610642135655, 1.6207092936507936, 1.3806833607972697, 3.1221245111832605, 1.8759795743145744, 0.8398309595959595, 3.378988287368616, 1.923611899211898, 2.088380167887668, 1.6391409487734487, 2.059645811688311, 0.049205555555555544, 1.4566937415117565, 0.0002666666666666667, 0.20713916666666662, 2.268088127705627, 1.1780417243867247, 2.341828502886003, 0.06925805555555557, 0.008296969696969697, 0.08483212481962481, 2.1459310223037824, 1.6384188507326014, 1.879558134920635, 0.1055978354978355, 3.253840304140304, 0.0, 3.9587533910533925, 2.683944444444442, 1.7844615367965369, 1.94048584054834, 2.4315074675324677, 2.190640683982685, 2.3444030631783686, 0.03425238095238095, 2.5452220598845603, 7.160237088744587, 2.83804318986569, 3.0049665698190697, 0.2852192741043784, 0.355624061099719, 0.009092478354978355, 0.0008333333333333333, 0.28217027116158705, 0.03275125541125541, 0.0049694805194805194, 1.8613258156408807, 0.17739876262626267, 0.0032866666666666665, 0.37448966089466107, 2.158057402597402, 0.001966666666666667, 0.26746300314065, 1.7240291197691204, 3.876090046897547, 0.42078866481042193, 0.0, 1.6506474042624035, 0.15038186868686867, 0.014795454545454547, 0.7250626551226551, 3.329288167388167, 0.0014833333333333335, 1.3274633593281506, 0.005904545454545455, 0.4701847402597401, 1.8373734018759016, 1.147637655122655, 0.4291386363636363, 1.0826619931457437, 0.26746300314065, 1.6410916630591625, 0.9385750957375957, 2.3512110209235195, 0.6519013023088024, 0.9856950135975139, 0.27084157176157164, 0.004382738095238096, 1.5813026714951712, 1.1667895499967862, 1.54319144263846, 2.6272846067821063, 0.011863690476190474, 2.1019021645021643, 0.0028499999999999997, 1.336045295815296, 0.0046, 0.6001590692640693, 0.08540873015873016, 1.1400062121212122, 6.091046245143737, 2.142249157231657, 0.0, 1.3266587821655471, 0.46630843434343416, 2.6538032900432897, 0.8821722835497835, 3.7126927068562656, 0.26859414245841884, 0.7012080501443004, 0.2944927633477634, 2.491225878332195, 0.04334679653679654, 0.00155, 0.009238095238095238, 2.481536024531024, 0.030030952380952387, 0.15513325244930515, 2.683944444444442, 2.8550733477633474, 0.09948466089466088, 2.877091756854256, 0.0, 3.722987370129871, 0.774369678932179, 1.6826227561327562, 2.0110789862914866, 0.8888133585858584, 2.077787638060092, 0.008143809523809524, 2.232114386724387, 1.5846711044511046, 1.1551849330365571, 2.153849072871573, 2.9628018362193353, 2.535706762657631, 1.4301841991341993, 1.831352568542569, 3.447268232323231, 0.0, 0.002920833333333333, 0.22653671384343205, 0.0, 0.2897028138528139, 0.0, 0.9184795274170274, 1.5344649494949492, 1.9025484668109667, 2.123116341991343, 2.5136510173160165, 0.29556599927849936, 0.010685714285714284, 1.1551849330365571, 2.1033241534914358, 0.2852192741043784, 0.6556838924963926, 0.006025, 0.0, 1.187819991674991, 0.0, 0.13407510822510812, 0.058993560606060605, 1.2422959146409145, 0.7733361760461759], \"type\": \"scatter\", \"uid\": \"2e609398-c218-11e8-85a8-c4b301c0ad2d\"}], {\"hoverlabel\": {\"font\": {\"family\": \"Courier\", \"size\": 25.0}}, \"hovermode\": \"closest\", \"legend\": {\"font\": {\"family\": \"Courier\", \"size\": 25.0}}, \"margin\": {\"b\": 50.0, \"l\": 50.0, \"pad\": 0, \"r\": 0, \"t\": 0}, \"paper_bgcolor\": \"white\", \"plot_bgcolor\": \"white\", \"title\": \"\", \"titlefont\": {\"family\": \"Courier\", \"size\": 25.0}, \"xaxis\": {\"tickfont\": {\"family\": \"Courier\", \"size\": 25.0}, \"title\": \"Actual gap (eV)\", \"titlefont\": {\"family\": \"Courier\", \"size\": 25.0}, \"type\": \"linear\"}, \"yaxis\": {\"tickfont\": {\"family\": \"Courier\", \"size\": 25.0}, \"title\": \"Predicted gap (eV)\", \"titlefont\": {\"family\": \"Courier\", \"size\": 25.0}, \"type\": \"linear\"}}, {\"showLink\": true, \"linkText\": \"Export to plot.ly\"})});</script>"
      ]
     },
     "metadata": {},
     "output_type": "execute_result"
    }
   ],
   "source": [
    "from matminer.figrecipes.plot import PlotlyFig\n",
    "pf = PlotlyFig(mode='notebook', margins=0, x_title='Actual gap (eV)', y_title='Predicted gap (eV)')\n",
    "pf.xy([(y_test0, y_pred0)], labels=X_test0.index)"
   ]
  },
  {
   "cell_type": "markdown",
   "metadata": {},
   "source": [
    "## 2) Two models: 1 regressor on nonmetals + 1 classifier for metal/nonmetals"
   ]
  },
  {
   "cell_type": "markdown",
   "metadata": {},
   "source": [
    "### Regressor for nonmetals (gap > 0)"
   ]
  },
  {
   "cell_type": "code",
   "execution_count": 28,
   "metadata": {
    "collapsed": true
   },
   "outputs": [],
   "source": [
    "df_reduced_nonmetal = df_reduced[df[TARGET]>0]"
   ]
  },
  {
   "cell_type": "code",
   "execution_count": 29,
   "metadata": {
    "collapsed": true
   },
   "outputs": [],
   "source": [
    "X_train, X_test, y_train, y_test = train_test_split(df_reduced_nonmetal, df[df[TARGET]>0][TARGET], test_size=0.2, random_state=SEED)"
   ]
  },
  {
   "cell_type": "code",
   "execution_count": 30,
   "metadata": {
    "collapsed": true
   },
   "outputs": [],
   "source": [
    "model_reg2 = RandomizedSearchCV(estimator=RandomForestRegressor(), \n",
    "                           random_state=SEED,\n",
    "                           param_distributions=rf_params_dict,\n",
    "                           n_iter=15,\n",
    "                           scoring='neg_mean_squared_error',\n",
    "                           cv=5,\n",
    "                           verbose=1,\n",
    "                           n_jobs=N_JOBS)\n",
    "# with open(os.path.join(CALC_DIR, 'rf_optimized.pickle'), 'rb') as fm:\n",
    "#     model_reg2 = pickle.load(fm)\n",
    "\n",
    "# from matbench.automl.tpot_utils import TpotAutoml\n",
    "# tpot = TpotAutoml(mode=\"regression\",\n",
    "#                       max_time_mins=120,\n",
    "# #                   generations=1,\n",
    "# #                   population_size=10,\n",
    "#                       scoring='neg_mean_squared_error',\n",
    "#                       random_state=SEED,\n",
    "#                       feature_names=df_reduced.columns,\n",
    "#                       n_jobs=N_JOBS,\n",
    "#                       verbosity=2)\n",
    "# model_reg2 = tpot"
   ]
  },
  {
   "cell_type": "code",
   "execution_count": 31,
   "metadata": {},
   "outputs": [
    {
     "name": "stdout",
     "output_type": "stream",
     "text": [
      "Fitting 5 folds for each of 15 candidates, totalling 75 fits\n"
     ]
    },
    {
     "name": "stderr",
     "output_type": "stream",
     "text": [
      "[Parallel(n_jobs=4)]: Done  42 tasks      | elapsed:  1.3min\n",
      "[Parallel(n_jobs=4)]: Done  75 out of  75 | elapsed:  2.1min finished\n"
     ]
    },
    {
     "data": {
      "text/plain": [
       "RandomizedSearchCV(cv=5, error_score='raise',\n",
       "          estimator=RandomForestRegressor(bootstrap=True, criterion='mse', max_depth=None,\n",
       "           max_features='auto', max_leaf_nodes=None,\n",
       "           min_impurity_decrease=0.0, min_impurity_split=None,\n",
       "           min_samples_leaf=1, min_samples_split=2,\n",
       "           min_weight_fraction_leaf=0.0, n_estimators=10, n_jobs=1,\n",
       "           oob_score=False, random_state=None, verbose=0, warm_start=False),\n",
       "          fit_params=None, iid=True, n_iter=15, n_jobs=4,\n",
       "          param_distributions={'n_estimators': [100, 200, 400], 'max_features': array([0.05, 0.1 , 0.15, 0.2 , 0.25, 0.3 , 0.35, 0.4 , 0.45, 0.5 , 0.55,\n",
       "       0.6 , 0.65, 0.7 , 0.75, 0.8 , 0.85, 0.9 , 0.95, 1.  ]), 'min_samples_split': range(2, 21), 'min_samples_leaf': range(1, 21), 'bootstrap': [True, False]},\n",
       "          pre_dispatch='2*n_jobs', random_state=53, refit=True,\n",
       "          return_train_score='warn', scoring='neg_mean_squared_error',\n",
       "          verbose=1)"
      ]
     },
     "execution_count": 31,
     "metadata": {},
     "output_type": "execute_result"
    }
   ],
   "source": [
    "model_reg2.fit(X_train, y_train)\n",
    "# with open(os.path.join(CALC_DIR, 'rf_optimized.pickle'), 'wb') as fm:\n",
    "#     pickle.dump(model_reg2, fm)"
   ]
  },
  {
   "cell_type": "code",
   "execution_count": 32,
   "metadata": {
    "collapsed": true
   },
   "outputs": [],
   "source": [
    "# model_reg2.get_top_models()"
   ]
  },
  {
   "cell_type": "code",
   "execution_count": 33,
   "metadata": {},
   "outputs": [
    {
     "data": {
      "text/plain": [
       "-0.22381989140001013"
      ]
     },
     "execution_count": 33,
     "metadata": {},
     "output_type": "execute_result"
    }
   ],
   "source": [
    "model_reg2.score(X_test, y_test)"
   ]
  },
  {
   "cell_type": "code",
   "execution_count": 34,
   "metadata": {},
   "outputs": [
    {
     "data": {
      "text/plain": [
       "0.473096069947754"
      ]
     },
     "execution_count": 34,
     "metadata": {},
     "output_type": "execute_result"
    }
   ],
   "source": [
    "(abs(model_reg2.score(X_test, y_test)))**0.5"
   ]
  },
  {
   "cell_type": "code",
   "execution_count": 35,
   "metadata": {},
   "outputs": [
    {
     "data": {
      "text/plain": [
       "0.9145684950448425"
      ]
     },
     "execution_count": 35,
     "metadata": {},
     "output_type": "execute_result"
    }
   ],
   "source": [
    "y_pred = model_reg2.predict(X_test)\n",
    "r2_score(y_test, y_pred)"
   ]
  },
  {
   "cell_type": "code",
   "execution_count": 36,
   "metadata": {},
   "outputs": [
    {
     "name": "stdout",
     "output_type": "stream",
     "text": [
      "5-fold cross-validation scores for the model only nonmentals\n",
      "RMSE: 0.4933 +- 0.0347\n"
     ]
    }
   ],
   "source": [
    "from sklearn.model_selection import KFold, cross_val_score\n",
    "\n",
    "cv = KFold(n_splits=NFOLD, shuffle=False, random_state=SEED)\n",
    "model_cv2 = RandomForestRegressor(**model_reg2.best_params_, n_jobs=N_JOBS)\n",
    "\n",
    "rmse_scores = [np.sqrt(abs(score)) for score in cross_val_score(model_cv2, df_reduced_nonmetal, df[df[TARGET]>0][TARGET], scoring='neg_mean_squared_error', cv=cv)]\n",
    "print('{}-fold cross-validation scores for the model only nonmentals'.format(NFOLD))\n",
    "print('RMSE: {0:.4f} +- {1:.4f}'.format(np.mean(rmse_scores), np.std(rmse_scores)))"
   ]
  },
  {
   "cell_type": "code",
   "execution_count": 37,
   "metadata": {},
   "outputs": [
    {
     "name": "stderr",
     "output_type": "stream",
     "text": [
      "IOPub data rate exceeded.\n",
      "The notebook server will temporarily stop sending output\n",
      "to the client in order to avoid crashing it.\n",
      "To change this limit, set the config variable\n",
      "`--NotebookApp.iopub_data_rate_limit`.\n"
     ]
    },
    {
     "data": {
      "text/html": [
       "<div id=\"f2945eeb-2c75-4332-a357-5eb1e33ad660\" style=\"height: 525px; width: 100%;\" class=\"plotly-graph-div\"></div><script type=\"text/javascript\">require([\"plotly\"], function(Plotly) { window.PLOTLYENV=window.PLOTLYENV || {};window.PLOTLYENV.BASE_URL=\"https://plot.ly\";Plotly.newPlot(\"f2945eeb-2c75-4332-a357-5eb1e33ad660\", [{\"hoverinfo\": \"x+y+text\", \"hoverlabel\": {\"font\": {\"family\": \"Courier\", \"size\": 25.0}}, \"line\": {\"dash\": \"solid\", \"width\": 2}, \"marker\": {\"colorscale\": \"Viridis\", \"line\": {\"color\": \"black\", \"width\": 1}, \"showscale\": false, \"size\": 10.0, \"symbol\": \"circle\"}, \"mode\": \"markers\", \"text\": [\"Sm3Al0.33SiS7\", \"K2ReH9\", \"Ba3B1.5S6Sb0.5\", \"CuYO2\", \"AgInS2\", \"SiAs\", \"InSe\", \"GaS\", \"Lu2O3\", \"K3Ga3Ge7Se20\", \"RbBr\", \"CuGa3Se5\", \"GaAs\", \"K1.46Sn3.09Bi7.45Se15\", \"LiAlB14\", \"AgN3\", \"ZnS\", \"CuBiP2Se6\", \"MgO\", \"Cs2Cu2Sb2S5\", \"GaSe\", \"HgSe\", \"NdB6\", \"As2S3\", \"Na0.75Eu1.625GeSe4\", \"Cs4Zr3S14\", \"Cs3Sn3F2Cl7\", \"Sc2O3\", \"NaI\", \"RbBiSe2\", \"TlBr\", \"SrPb3Br8\", \"K4Nb2S11\", \"AgGaSe2\", \"AgPbBiS3\", \"Mg2Sn\", \"GaSe\", \"ZnTe\", \"LiB3O5\", \"Rb2Cu2Sn2Se6\", \"CdGa2Se4\", \"BaGa4S7\", \"Na2ZnGe2Se6\", \"Cs8Ga8Si38\", \"InP2S4\", \"Ag3SbS3\", \"CdSe\", \"NaInSnS4\", \"Bi24VO41\", \"PtSe2\", \"CsInTe3O8\", \"TlCr5S8\", \"Ba2HgS5\", \"ZnIn2Te4\", \"CaF2\", \"Er3SmSe6\", \"Ba2V2Te2O11\", \"CsErZnSe3\", \"PdPS\", \"CaSe\", \"GdN\", \"SrZnSO\", \"As2Te3\", \"V2O5\", \"MnI2\", \"CaSnO3\", \"Ag2S\", \"Al2S3\", \"LiB3O5\", \"SbSBr\", \"Al2Se3\", \"SmSe\", \"HgIn2Te4\", \"Rb2Hg3Sn2S8\", \"Pd3P2S8\", \"Tl2O3\", \"PbI2\", \"GaS\", \"MnSe\", \"CaZnOS\", \"CsCl\", \"Sb2Se3\", \"InAs\", \"Sm2YbCuS5\", \"K2Nd2Ti3O10\", \"PbTe\", \"Zn2In2S5\", \"CsTbZnTe3\", \"GaAs0.7Sb0.3\", \"SnBr2\", \"Er2O3\", \"CdS\", \"Pb0.99TeIn0.01\", \"InAsI\", \"TlInTe2\", \"Nd10OSe14\", \"Hg0.8Cd0.2Se\", \"Zn0.9Hg0.1Se\", \"CuCl\", \"Cu2GeSe3\", \"PbSnS3\", \"K2AuI5O15\", \"CaNd2S4\", \"ZnIn2S4\", \"Hg0.796Cd0.204Te\", \"CuInSe2\", \"InSe\", \"GeS\", \"Cs3As\", \"CuCl\", \"La2MoO5\", \"Zn3P2S8\", \"Mg2Sn\", \"Tl3TaS4\", \"AlSb\", \"Pb0.8Sn0.2Se\", \"SbSI\", \"Ga0.85Al0.15As\", \"Ag3AsS3\", \"InSb0.99As0.01\", \"GeS\", \"EuYb2Se4\", \"ZnS\", \"Cu0.1Ga1.9S2.9\", \"AlN\", \"H6PtI6O20\", \"EuVO4\", \"NaInTe2\", \"RbI\", \"K2AgIn3Se6\", \"CoSb2\", \"Pb0.94Se0.94Sn0.06Se0.06\", \"Na2In4SSe6\", \"K10Zn4Sn4S17\", \"Li3ScN2\", \"InSb\", \"Ta0.67Zr1.33O1.38N1.97\", \"ReS2\", \"SbI3\", \"CuBr\", \"InP\", \"LaP\", \"Ba2ZnV2O8\", \"GdIn3S6\", \"CsCd4Ga5Te12\", \"Sb2S3\", \"CeFMoO4\", \"Li3PS4\", \"PtAs2\", \"AlB12\", \"Cd3As2\", \"CuFeTe2\", \"CdGa2Se4\", \"CdSiAs2\", \"HgIn2Te4\", \"CdIn2Te4\", \"BaGa2SiS6\", \"K6Nb2.97Ta1.03S25\", \"ZnIn2S4\", \"Ba2ZnTe3\", \"KH2PO4\", \"Na2Hg3S2.51Se1.49\", \"K3Cr2P3S12\", \"Pb3BiP3O12\", \"Ga1.002Sb0.998Te0.006\", \"InAs\", \"K2Sn3Sb2S10\", \"Bi0.2Te3Sb1.8\", \"Pb14B2O14Br6\", \"KBiSiS4\", \"CuGaInS3.5\", \"Bi2Te2.97Se0.03\", \"Cu2Se\", \"GaHSeO4\", \"TlSe\", \"GeAs2\", \"InSe\", \"Ba3B1.5S6Bi0.5\", \"TlSe\", \"InP\", \"Li0.2Na0.8AsSe2\", \"Tl2BiP2S7\", \"B2O3\", \"PdI2O6\", \"KPbPO4\", \"PdSe\", \"Y2S3\", \"GaN\", \"GaAs\", \"KScSe2O6\", \"As2Se3\", \"InAs\", \"Li2ZnSnSe4\", \"GaSb\", \"Be3N2\", \"AgF\", \"CdSnAs2\", \"GaAs\", \"Cu3SmS3\", \"AgInCd2Te3\", \"CaF2\", \"AsNMg3\", \"CsSbTe2\", \"LaCuOSe\", \"Cu3SbS4\", \"Cs2ZnGe3Te8\", \"GaAs0.65Sb0.35\", \"La4FeSb2Se10\", \"AgFeTe2\", \"SbI3\", \"Ba3P3O10Cl\", \"InP\", \"HfO2\", \"Cd3P2\", \"EuSb4S7\", \"RbCd4Ga5S12\", \"AgS\", \"Zn0.5Cd0.5Se\", \"In0.9Al0.1P\", \"CaTaO2N\", \"CdSiAs2\", \"Cu0.99Ga1.01Se2.01\", \"CdIn2Te4\", \"CdP4\", \"Rb1.54Cd1.54Bi2.46S6\", \"Ba2BiInS5\", \"CsAg5Te3\", \"KCeSe4\", \"ZnTe\", \"TlBr\", \"CsSmHgSe3\", \"CdP2\", \"CsMn4In5Te12\", \"Hg2Br2\", \"SiSe2\", \"Ag3AsSe3\", \"AgGaSe2\", \"PbS\", \"PrB6\", \"Li4Cs3B7O14\", \"CdSe\", \"EuS\", \"Rb4Mo5P2O22\", \"TlInS2\", \"NaYbP2S6\", \"Ba2SmTaO6\", \"GaN\", \"As4S4\", \"Zn3As2\", \"Li2Ga2GeS6\", \"CsAgSb4S7\", \"NaI\", \"NaCd4P3\", \"RbYTe2O6\", \"LiCl\", \"Pb0.93TeIn0.07\", \"La2CoVO6\", \"RbCuSb2S4\", \"Sb5O7I\", \"Sb2Te3\", \"InSb\", \"Ba2SnSe4\", \"TlSe\", \"CdS\", \"Pb0.99Ge0.01Te\", \"CaSe\", \"Ga1.02Sb0.98Te0.06\", \"CdIn2Se4\", \"CuGaO2\", \"InSb\", \"Ba1.88Ta15O32\", \"TiSe2\", \"In4S5\", \"Eu3Sb4S9\", \"AgAsTe2\", \"Nd2ZrS5\", \"In4Te3\", \"NaCl\", \"K2Cd3Te4\", \"Na3Sb\", \"Cu3YSe3\", \"CdSnAs2\", \"CsSmCdSe3\", \"PbI2\", \"La20Mo12O63Cl4\", \"EuO\", \"InSb\", \"NaSmP2S6\", \"InP\", \"Cu2CdSnS4\", \"TlInGeS4\", \"CsTb9Cd4Se18\", \"Bi2Te2.7Se0.3\", \"RhP2\", \"Er2Te3\", \"Ga1.05Sb0.95Te0.15\", \"TlBr\", \"Cu3HoTe3\", \"V2O5\", \"Tl3VS4\", \"Cu2ZnSiSe4\", \"GeSe2\", \"Ba3GeS5\", \"Sr3EuP3O12\", \"Hg0.63Cd0.37Te\", \"SrTaO2N\", \"CdTe\", \"CdSb\", \"Hg0.8Cd0.2Se\", \"KBr\", \"As2S3\", \"SbTeI\", \"LaZnAsO\", \"TlInSe2\", \"CdGa2Se4\", \"Rb3Ta2AsS11\", \"GaAs\", \"Cu2In4Te7\", \"Mg3B50C8\", \"TlInSe2\", \"YNiSb\", \"NaAsS2\", \"PbSe\", \"GaAs\", \"PbGeS3\", \"Gd4GaSbS9\", \"InP\", \"CuCl\", \"Bi2Te2.7Se0.3\", \"TlGaTe2\", \"BaRh2Ge4Se6\", \"KZrPSe6\", \"K2CuGa3Se6\", \"RbI\", \"La2NiVO6\", \"ZnAs2\", \"KCuThS3\", \"Mg2Pb\", \"CdP2\", \"BiTeI\", \"CsAu\", \"Pb0.9Sn0.1Se\", \"WSe2\", \"CdSe\", \"AgI\", \"BaB2O4\", \"InSb\", \"K2Hg3Ge2S8\", \"Ce2YbCuSe5\", \"Cs2AgVS4\", \"InS\", \"TlCl\", \"NaScSe2O6\", \"Hg4As2HfCl6\", \"CdSnP2\", \"Hg0.08Zn0.92Te\", \"Zn4Sb3\", \"H2Ti6O13\", \"Pb0.01Sn0.99Te\", \"CuIn3Se5\", \"Li6Ga2Te8O22\", \"GeS2\", \"Hg0.1Zn0.9Te\", \"Na2RbSb\", \"Na3Sn2F6Cl\", \"GaAs0.2P0.8\", \"SrZrS3\", \"K3Ti2P5S18\", \"Sn2BiS2I3\", \"Dy2Te3\", \"CuCl\", \"Cs2MgGe3Se8\", \"CuPbBiSe3\", \"Cd3As2\", \"CsCdInSe3\", \"Ag3SbS3\", \"Zr3O\", \"RbI\", \"Zn3Sb2\", \"CdGeP2\", \"Sn2S\", \"Pb0.995TeGa0.005\", \"In0.3Al0.7P\", \"CsGdZnTe3\", \"Pb0.8Sn0.2Se\", \"Cs3Nb9Te4O32\", \"InSb0.2As0.8\", \"TlScS2\", \"ZnS\", \"AgI\", \"TlSbSe2\", \"Cs1.43Cd1.43Bi2.57S6\", \"PbTe0.01Se0.99\", \"AgI\", \"BiSe\", \"CsB3GeO7\", \"CdSb\", \"InAs\", \"InSb0.7As0.3\", \"CuCl\", \"NaSb\", \"InSb\", \"La2O3\", \"InP\", \"Rb2HgP2Se6\", \"Ca2SmTaO6\", \"PdPAs\", \"Ba5Ga6GeP12\", \"Hg2Br2Te2\", \"Cu3HoSe3\", \"YH2NO5\", \"Ag2CdP2S6\", \"CsYCdSe3\", \"CdSe\", \"RbI\", \"ZnSe\", \"La5In3S9O3\", \"CdSiP2\", \"BaSbBS4\", \"PbO2\", \"FeAsSe\", \"Ga2Te3O9\", \"RuTe2\", \"Ca10Ge16B6O51\", \"EuAl2O4\", \"TaGaSe2\", \"K2CeP2O8\", \"Bi2O3\", \"HfS3\", \"Tl4CdI6\", \"K0.8Hg1.2Sn2S8\", \"CdTeO3\", \"CuNb3O8\", \"Fe2P3B1O12\", \"CdP4\", \"K8Ce2I18O53\", \"GaN\", \"GaSb\", \"AgSbTe2\", \"TlInSe2\", \"Tl2TeI6\", \"Cs2ZnGe3Se8\", \"CsYbZnSe3\", \"Ba2InSbSe5\", \"GaSe\", \"GaTe\", \"SrTe\", \"InSb2Se4Br\", \"LiBi4Ta3O12\", \"DyN\", \"SnS0.01Se0.99\", \"SnS\", \"Gd6Ge2.5S14\", \"Ag3AsSe3\", \"EuIn2Se4\", \"K2Hg3Sn2S8\", \"KF\", \"ErIn3S6\", \"CdIn2S4\", \"SnSe\", \"GaSe\", \"InAs\", \"Cu3AsS4\", \"GaAs\", \"As2S3\", \"Tl2GeTe3\", \"Cs2Ba3P4O14\", \"BaTeMo2O9\", \"VTeO5H\", \"ZnS\", \"LaInS2O\", \"Sr4V2Se6O21\", \"BaGa2GeS6\", \"TlSe\", \"CsLu7S11\", \"TcS2\", \"Rb2CuVS4\", \"HoIn3S6\", \"PbS\", \"InSn2As2Se\", \"TlAsSe2\", \"GaAs0.6P0.4\", \"CsPSe6\", \"Na2BaSnSe4\", \"AgS\", \"TlPSe2\", \"Cs3Bi2Br9\", \"Ba2V4Te3O18\", \"GeO2\", \"Ni2Te3O8\", \"GaN\", \"HgSe\", \"Pb0.7Ge0.3Te\", \"CuIn5S8\", \"RbAg2SbS4\", \"Ag2Ga2SiS6\", \"GaSe\", \"CuIn3S5\", \"LaB6\", \"GaTe\", \"Ba4Ge3Se9Cl2\", \"As2S3\", \"CdS\", \"CuGaSe2\", \"RuP4\", \"Sb2Te3\", \"Sn2S\", \"La2O2FeSe2\", \"Ba3Ta2Se9\", \"La4InSbS9\", \"ZnTe\", \"Cd4P2Br3\", \"CuI\", \"Ag3AsS3\", \"CdS\", \"Sr5V3O12F\", \"Ba2In2Se5\", \"GaSe\", \"Na2CdGe2Se6\", \"RbInSnS4\", \"Li9Ga13Te21O66\", \"Cs3Nb2AsSe11\", \"InSnAsSe\", \"RbAg2TeS6\", \"CsAg2AsS3\", \"CsYHgSe3\", \"RbCd4In5Se12\", \"ZnTe\", \"K2SmP2S7\", \"TlBr\", \"SrTiO3\", \"Ba4CuGa5Se12\", \"GaS\", \"InSe\", \"SnSe\", \"Na2Zn3Se4O12\", \"KI\", \"CdSe\", \"YB66\", \"Sr2TiO4\", \"PrCuOS\", \"CrSb2\", \"TeSe3\", \"CsRbP2Se8\", \"PbCrO4\", \"CuCl\", \"As2Se3\", \"BiFeSe3O9\", \"SiP\", \"CsCd4In5Te12\", \"CsGaSn2Se6\", \"GaSb\", \"CsBiS2\", \"AgTlTe2\", \"Cs3Bi2I9\", \"Cu3YbS3\", \"RbBiSe2\", \"CdSe\", \"PbSe\", \"Ga0.5Al0.5As\", \"SnSe\", \"CuGa0.4In1.6S3.5\", \"ThO2\", \"Cs6Na2Zn4Ge42\", \"GaSe\", \"AgS\", \"RuPS\", \"BaTiO3\", \"Li2HgSiS4\", \"Pb2GeSe4O12\", \"CsYbMnSe3\", \"Cs2HgI2Cl2\", \"RbPbPO4\", \"EuTe\", \"CdTe\", \"Ce2Sn3Se9\", \"GaAs\", \"Ce4Te7\", \"CdAs2\", \"Ba3Tb2P4S16\", \"AlSb\", \"Ga0.2Al0.8P\", \"CuInSe2\", \"InSb\", \"Ce4Ge3S12\", \"BiSeI\", \"KBiSe2\", \"Th2Se5\", \"BSb\", \"Zn0.99Cd0.01Se\", \"InSb\", \"InSe\", \"NiS2\", \"Cd12Ge17B8O58\", \"Hg0.1Zn0.9Te\", \"Mn2.04Gd1.47In0.49S5\", \"Ba4Si3Se9Cl2\", \"Sr0.5TaO3\", \"Rb3Bi2I9\", \"VO2\", \"CsAg2TeS6\", \"Rb2AgVS4\", \"CuGaSe2\", \"CdSiAs2\", \"Pb3Cl4TeO3\", \"YbSe\", \"SnI4\", \"CdSiAs2\", \"GaTe\", \"ZnYBiO4\", \"SeTe\", \"CuBr\", \"ZrSe2\", \"AgTe\", \"In2Se2O7\", \"KZn4B3O9\", \"Cd3P2\", \"Ba7AgGa5S15\", \"TlSbS2\", \"LaGaS3\", \"TlPS2\", \"Na2Hg3Si2S8\", \"GaS\", \"GeSe\", \"ThOS\", \"ZnSnAs2\", \"NH7Se2O6\", \"CdBr2\", \"Cu0.2Ga1.8S2.8\", \"Zn0.4Hg0.6Se\", \"Ta0.67Zr1.33O1.89N1.63\", \"Ga0.2In0.8As\", \"BaF2\", \"ZnS\", \"FeSc2\", \"Cu0.1Ga1.9S2.9\", \"CdSe\", \"Sb3O4I\", \"La10OSe14\", \"FeAsS\", \"SrNd2S4\", \"IrSe2\", \"NaBr\", \"PbCdP4O12\", \"PrIn3S6\", \"K6CdTe4\", \"CdS0.55Se0.45\", \"Sb2Te3\", \"Ba2In2S5\", \"Zn3As2\", \"Bi14.7In11.3S38\", \"BaF2\", \"MnTe9\", \"AgGaGe3Se8\", \"IrS2\", \"InP\", \"Na2TeSe3\", \"LiInS2\", \"Na2BaGeS4\", \"La2GeSe5\", \"Bi3TeBO9\", \"Zr6O\", \"Hg8As4Bi3Cl13\", \"Tl2Se\", \"Cu2Ta4O11\", \"AgGaS2\", \"LaH2NO5\", \"AlSb\", \"Cd3As2\", \"CsLuCoS3\", \"TiO2\", \"PbI2\", \"RbCl\", \"Rb2TiAg2S4\", \"RuS2\", \"GaN\", \"KAlGeS4\", \"CsH3Se2O6\", \"SnS\", \"CdSiP2\", \"CdSnP2\", \"FeSi2\", \"LiI\", \"LiPbSb3S6\", \"AgAlO2\", \"Mg2Sn\", \"Cd3As2\", \"Bi1Te3Sb1\", \"GeSe\", \"BaGa4Se7\", \"PbCoO3\", \"Ba2InDySe5\", \"CsDy9Cd4Se18\", \"Cu0.3Ga1.7S2.7\", \"Gd2Mo3O12\", \"GaAs0.9P0.1\", \"La2Se3\", \"InSe\", \"Bi24BO39\", \"CdS\", \"InSb\", \"Cs2CuNbSe4\", \"Li2CdGe\", \"Pb0.999Se0.999Sn0.001Se0.001\", \"AlP\", \"Tl4GaIn3S8\", \"Ba2GaBiSe5\", \"PbN6\", \"AsI3\", \"Fe2TiSi\", \"CuBr\", \"SnS0.99Se0.01\", \"AgInSe2\", \"OsP4\", \"Tl2AuPS4\", \"GaAs\", \"Dy2Mo3O12\", \"Tl6CuTe2O10\", \"Cu2Te\", \"Cs2Cd3B16O28\", \"HgSe\", \"TlSe\", \"SnS\", \"TlInSe2\", \"In0.7Al0.3P\", \"BaHgSe2\", \"OsP4\", \"CaO\", \"Li8GeN4\", \"NiP2\", \"Ag3Ga3SiSe8\", \"TaGaSe2\", \"CdSnAs2\", \"CsCdBO3\", \"BaTiO3\", \"RbI\", \"Hg4As2.5InBr3.5\", \"KH3Se2O6\", \"In4Te3\", \"PbSeO4\", \"LaS1.86Se0.14\", \"AgFeTe2\", \"Cd3P2\", \"ZnO\", \"AlSb\", \"Na0.5Pb1.75GeSe4\", \"TlScTe2\", \"ScTa2O5N\", \"Mg2Pb\", \"SbSeBr\", \"Ba6Ga2SnSe11\", \"Pb3O4\", \"BiI3\", \"Cu0.2Ga1.8S2.8\", \"CdTeO3\"], \"x\": [2.26, 5.71, 3.01, 3.5, 1.88, 1.57, 1.29, 2.38, 5.5, 2.23, 7.25, 1.89, 1.46, 0.39, 1.82, 3.44, 3.87, 1.2, 7.7, 1.6, 2.09, 0.6, 4.9, 2.64, 2.0, 2.35, 2.96, 6.2, 5.89, 0.9, 3.02, 3.2, 2.42, 1.66, 1.2, 0.34, 2.1, 2.3, 8.0, 1.04, 2.27, 3.54, 2.36, 1.14, 2.75, 2.1, 2.26, 2.4, 3.25, 0.1, 3.9, 1.01, 2.4, 1.87, 10.0, 2.0, 3.16, 2.63, 1.38, 5.0, 1.54, 3.1, 1.62, 2.3, 4.4, 4.4, 1.23, 4.1, 7.75, 2.17, 3.1, 0.46, 0.86, 2.48, 2.12, 2.25, 3.01, 2.5, 2.5, 3.7, 7.8, 1.2, 0.43, 1.28, 3.25, 0.33, 2.95, 2.12, 0.67, 3.5, 5.42, 2.49, 0.53, 0.41, 0.68, 1.98, 0.95, 1.75, 3.29, 0.85, 0.9, 2.65, 2.7, 2.99, 0.06, 0.95, 1.29, 1.74, 0.6, 3.4, 0.49, 3.07, 0.23, 2.18, 1.5, 0.06, 1.92, 1.6, 2.1, 0.35, 1.74, 1.3, 3.58, 2.6, 6.03, 2.12, 3.26, 1.6, 6.37, 1.64, 0.2, 0.22, 1.92, 3.2, 2.9, 0.24, 2.31, 1.1, 2.41, 3.07, 1.5, 0.54, 3.48, 1.13, 1.67, 1.92, 2.52, 3.68, 0.8, 1.9, 0.19, 0.16, 2.5, 1.51, 1.25, 1.17, 3.75, 2.01, 2.6, 2.1, 7.0, 2.03, 1.35, 3.7, 0.7, 0.45, 2.3, 0.28, 2.62, 2.25, 1.84, 0.16, 1.29, 5.51, 0.7, 1.1, 1.27, 2.43, 0.75, 1.41, 1.72, 1.8, 4.89, 1.31, 4.44, 0.2, 2.9, 3.5, 1.52, 5.4, 1.7, 0.43, 1.87, 0.77, 3.8, 2.8, 0.4, 1.51, 1.82, 0.47, 9.92, 1.33, 0.43, 2.83, 0.8, 1.07, 0.68, 0.85, 0.31, 2.5, 6.89, 1.42, 5.55, 0.59, 0.98, 3.02, 1.34, 2.9, 1.5, 2.4, 1.52, 1.59, 1.44, 1.0, 1.33, 1.55, 0.65, 1.54, 2.37, 3.12, 2.37, 2.11, 1.48, 2.6, 1.72, 1.98, 1.8, 0.31, 4.9, 6.53, 1.87, 1.65, 3.51, 2.3, 1.85, 3.02, 3.8, 2.4, 1.1, 3.65, 2.04, 6.75, 1.1, 3.6, 9.33, 0.32, 0.41, 1.6, 1.95, 0.3, 0.26, 1.9, 0.73, 2.43, 0.32, 4.87, 0.68, 1.3, 1.47, 0.27, 0.13, 1.55, 0.9, 1.2, 0.8, 1.83, 0.42, 8.5, 2.26, 1.17, 0.88, 0.5, 2.45, 2.53, 2.4, 1.12, 0.18, 2.54, 1.42, 1.37, 2.3, 1.95, 0.21, 1.0, 0.9, 0.68, 2.63, 0.26, 2.54, 1.76, 2.33, 2.38, 3.0, 3.99, 0.35, 1.99, 1.6, 0.48, 1.3, 7.6, 2.21, 1.25, 1.5, 1.22, 2.2, 2.21, 1.51, 1.1, 2.7, 1.4, 0.29, 2.33, 0.29, 1.48, 2.4, 2.41, 1.41, 3.2, 0.2, 1.8, 1.09, 2.0, 1.72, 6.05, 0.45, 0.91, 2.95, 0.1, 2.15, 0.46, 2.3, 0.12, 1.45, 1.82, 2.82, 6.2, 0.22, 2.64, 1.05, 1.77, 1.9, 3.23, 5.5, 2.47, 1.4, 1.9, 1.2, 3.4, 0.26, 0.6, 3.85, 3.6, 1.74, 1.0, 3.88, 2.2, 0.8, 1.61, 1.22, 0.69, 3.22, 2.04, 0.07, 0.14, 2.4, 2.2, 0.2, 6.1, 0.22, 1.65, 0.95, 0.37, 2.3, 2.13, 0.06, 3.22, 0.12, 1.51, 3.68, 3.01, 0.82, 1.28, 0.26, 2.8, 0.4, 5.76, 0.47, 0.46, 0.16, 3.21, 0.82, 0.24, 5.4, 1.35, 2.32, 3.45, 0.45, 1.39, 2.06, 0.16, 4.83, 2.49, 2.58, 1.74, 6.25, 2.76, 2.6, 2.16, 2.34, 2.0, 0.6, 4.15, 0.25, 5.47, 2.74, 2.03, 2.46, 2.86, 2.8, 2.8, 2.78, 3.91, 1.47, 3.52, 0.91, 2.34, 3.44, 0.67, 0.48, 1.21, 1.47, 2.31, 2.1, 1.92, 2.12, 1.52, 3.77, 1.35, 3.5, 2.1, 0.95, 1.25, 2.2, 2.1, 1.31, 2.4, 10.3, 1.28, 2.3, 0.95, 2.07, 0.41, 1.24, 1.52, 2.32, 0.37, 6.31, 3.12, 2.51, 3.56, 2.73, 2.66, 3.26, 1.3, 1.86, 1.0, 1.85, 1.23, 0.41, 0.2, 1.35, 1.91, 1.9, 2.46, 0.85, 0.6, 2.5, 2.64, 5.56, 3.84, 3.24, 0.07, 0.48, 1.34, 2.3, 2.35, 2.02, 1.2, 4.1, 1.74, 1.89, 2.6, 2.5, 1.68, 0.64, 0.19, 0.85, 0.7, 1.6, 2.07, 2.1, 2.19, 3.05, 1.86, 2.42, 4.5, 2.12, 2.12, 2.37, 2.7, 4.45, 1.35, 0.26, 2.04, 2.7, 2.54, 1.57, 2.39, 2.59, 3.01, 3.4, 1.45, 2.6, 1.35, 1.2, 4.9, 6.25, 1.67, 0.8, 3.41, 3.03, 0.14, 1.87, 2.41, 2.25, 3.28, 1.73, 2.54, 2.0, 1.42, 1.87, 0.81, 1.46, 0.1, 1.8, 1.56, 0.72, 1.9, 0.35, 2.12, 0.88, 1.55, 3.3, 0.3, 2.17, 1.2, 1.4, 2.96, 2.68, 4.1, 1.59, 2.15, 4.35, 2.0, 1.45, 0.3, 1.42, 0.5, 1.13, 3.37, 1.7, 2.43, 0.92, 0.24, 2.3, 1.32, 0.61, 0.37, 2.6, 3.6, 0.22, 1.18, 0.64, 4.29, 1.83, 1.75, 1.76, 3.7, 2.1, 0.66, 2.04, 1.83, 1.63, 1.62, 3.79, 1.5, 2.38, 1.47, 1.67, 1.58, 1.58, 3.08, 2.0, 0.73, 2.97, 2.32, 0.59, 2.6, 1.88, 2.5, 1.7, 2.86, 2.53, 1.08, 2.22, 0.65, 4.81, 4.47, 2.7, 0.42, 2.48, 0.5, 9.21, 3.78, 0.77, 2.65, 2.18, 2.61, 2.04, 0.4, 2.45, 0.9, 7.26, 4.85, 1.14, 2.51, 2.05, 0.22, 2.47, 0.51, 1.45, 9.1, 2.0, 2.17, 0.9, 1.25, 1.87, 3.56, 3.7, 1.24, 2.6, 0.18, 2.43, 0.37, 2.6, 2.73, 4.76, 1.7, 0.17, 1.18, 3.3, 2.36, 8.1, 2.33, 1.8, 3.4, 3.5, 4.77, 1.07, 2.2, 1.16, 0.85, 5.9, 1.6, 3.6, 0.18, 0.43, 0.19, 1.1, 2.64, 0.28, 2.27, 1.99, 2.55, 4.06, 1.5, 1.65, 1.29, 2.91, 2.52, 0.18, 2.19, 0.99, 0.32, 2.5, 2.63, 2.21, 3.02, 2.47, 0.4, 2.9, 1.08, 1.04, 0.6, 2.2, 1.51, 1.92, 2.3, 1.08, 4.76, 0.24, 0.57, 1.09, 1.14, 1.9, 1.56, 0.4, 7.03, 2.61, 0.5, 2.3, 2.17, 0.26, 2.58, 3.06, 6.26, 1.71, 4.88, 0.5, 4.3, 2.5, 0.58, 0.53, 3.3, 1.52, 1.6, 0.85, 2.67, 0.15, 1.84, 1.99, 2.12, 1.92, 2.65, 3.55], \"y\": [2.325757968975468, 2.584992599491152, 2.264225732323233, 3.0798939929514932, 1.9600680772005765, 1.3111683298645798, 1.2361164476755606, 2.632181395271396, 3.994101140942391, 2.1165561004029034, 7.370221226551226, 1.699917117604617, 1.4620440762780393, 0.7208533083583083, 1.7700756854256858, 3.424334190115439, 3.7099317621259047, 1.4744606385281391, 7.995953784271288, 1.7958864033189028, 2.07313818047132, 0.3214043270618269, 2.955427669552669, 2.4043481228176, 1.5525861363636364, 2.249088535353535, 3.629802698412697, 5.046267907647907, 5.776023491785988, 0.8838202344877343, 3.011631917151474, 2.7202764083302333, 2.0277186616161615, 1.6263853853754944, 0.9106076996614493, 0.28183615051615063, 2.07313818047132, 2.2884442913656695, 7.084236028138529, 1.3808003715728714, 2.3982305555555556, 3.1326804223554223, 2.280269788568919, 0.9885449819624819, 2.701962257962649, 2.0145950033300024, 1.8405968464804956, 2.3990075858585853, 2.89009704906205, 0.6747173046690151, 3.794470411255412, 1.125631507936508, 2.4453389908239904, 1.617114066388119, 9.884112420634919, 1.6978962914862914, 2.822251237373737, 2.293765313852814, 1.0243914538239536, 4.519322781597488, 1.9390984202271153, 3.162785494227994, 1.6454451479076466, 2.3083693506493503, 3.59729985616121, 3.860342629791708, 1.0226872835497836, 2.8239976460493414, 7.084236028138529, 2.1188252172827173, 2.8145160719844187, 2.0348978066378063, 0.9292638463007583, 2.473992511100011, 1.5537021969696978, 2.397308511798659, 2.4885323989899, 2.632181395271396, 1.656575011409841, 3.174994889080218, 8.10901686868688, 1.1532998717948721, 0.39164710875897396, 1.596061807359308, 3.170856646131646, 0.27778825305241733, 2.6819212229600464, 1.5075633874458874, 0.8832682683982688, 3.155867487177856, 4.8337311219336225, 2.548564573124944, 0.3650913627875393, 1.456837143616618, 0.6727778823953824, 1.992160393217892, 1.2487774927849935, 1.8878538177998476, 3.27888208236208, 0.945728335801625, 1.4172268452380958, 2.6377456385281386, 2.531377113997114, 2.7443118828557096, 0.17247457708957714, 0.9647860714285718, 1.2361164476755606, 1.6667736002886002, 1.6154490994531787, 3.27888208236208, 1.4006231385281385, 2.9027898480441143, 0.28183615051615063, 1.9863442965367963, 1.6689266895604382, 0.07766537518037508, 1.925603113553113, 1.4981993565567557, 2.1262822943722948, 0.2397299691974692, 1.6667736002886002, 1.6998118713450296, 3.7099317621259047, 2.6799403868353853, 5.774033427128429, 2.4963625595238095, 3.219843297258296, 1.7288288997113996, 6.235744606782107, 1.8901791666666667, 0.35876023270589047, 0.18641065295815293, 2.3103558599733605, 2.9213690945165944, 2.8541243145743147, 0.22523994671994668, 2.0657138311688317, 1.3773719011544012, 2.2350967388167393, 2.9726840126540153, 1.3499484385690845, 1.6691270440670436, 2.8766381096681095, 1.283836746031746, 1.5869207919857922, 1.6779145202020194, 3.3632381812631813, 3.0088491774891786, 0.6569611507936508, 2.0042957106782113, 0.2969319841269843, 0.7830030735930739, 2.3982305555555556, 1.3556173236485736, 0.9292638463007583, 1.1399303034323782, 3.0487064285714287, 2.105580674603175, 2.7443118828557096, 1.7095941197467814, 6.643888712121211, 1.7173969283167807, 2.228038376623377, 3.556840773809522, 0.7010649614927554, 0.39164710875897396, 2.4315159467384473, 0.31152555555555556, 2.8314453323147446, 2.5586106457431446, 2.0750422355422353, 0.2013599688727166, 1.2658076759351757, 4.746152175324678, 0.7535739121989125, 1.1521321368543742, 1.2361164476755606, 2.1202521320346315, 0.7535739121989125, 1.3499484385690845, 1.5749297871572867, 1.800495423187922, 5.659329347041847, 2.5474567135642125, 3.909792012987013, 0.7964299134199132, 2.141642302789803, 3.429635219780221, 1.4620440762780393, 4.425800782550783, 1.8598482731157742, 0.39164710875897396, 2.4729267712842717, 0.791168710676578, 4.034835113636364, 2.9863328890553884, 0.4018708532257216, 1.4620440762780393, 1.6423535786435783, 0.8985146396126232, 9.884112420634919, 3.1104906764069256, 1.0908050962925957, 2.491834308561808, 1.0400831709956708, 1.4979342316017317, 0.8959313636363639, 1.61001983044733, 0.3939547150072151, 2.2350967388167393, 5.298991244588747, 1.3499484385690845, 3.4635427020202014, 0.5721269949494946, 1.6757658802308808, 3.0011079925629924, 1.1526416522366523, 2.895557498291183, 1.591702170531567, 2.582655425685427, 1.3556173236485736, 1.5924980485304168, 1.1399303034323782, 1.096713315295815, 1.3769996536796538, 2.2172613167388153, 1.067801231218472, 1.8377159451659444, 2.2884442913656695, 3.011631917151474, 1.9189275360750364, 1.7900507647907649, 1.393400551948052, 2.8091340598617074, 1.8214886517347384, 1.9496878817679915, 1.6263853853754944, 0.3693791470049559, 2.8742958080808076, 6.3234784199134175, 1.8405968464804956, 1.6923281854256853, 3.344672896825398, 2.2195693145743145, 2.674820934343434, 3.062765375180376, 3.429635219780221, 1.9567063444301263, 0.9913507128982129, 3.31718420995671, 2.0468377128427124, 5.776023491785988, 1.4251437352516771, 3.8090433838383837, 8.427876626984132, 0.3207612445887446, 1.6833628138528132, 1.7385658910533912, 2.7891070274170278, 0.30927442640692643, 0.22523994671994668, 1.6841015043290044, 0.7535739121989125, 2.548564573124944, 0.3311779442925494, 4.519322781597488, 0.6862518612596553, 1.6472463269339346, 2.877089324286823, 0.22523994671994668, 1.1897790259740262, 1.4915528434138958, 1.3433688540163546, 1.6202509487734489, 0.7335176280663783, 1.858017604617604, 0.6313166924832132, 8.418068373015885, 1.9854693429094126, 1.0813284451659448, 0.904855307698837, 0.4018708532257216, 2.430987189754689, 2.4885323989899, 2.251598127705628, 1.430633192640692, 0.22523994671994668, 2.595070458152958, 1.3499484385690845, 1.5772957287157283, 1.785005544733045, 1.9980138023088025, 0.22661606060606068, 0.8476006709956708, 0.8462165584415589, 0.7056614644342584, 3.011631917151474, 0.3291690631590632, 2.3083693506493503, 1.8330330844155844, 1.4310094516594511, 2.157982967032968, 2.5130366462241454, 4.684358376623376, 0.37255185786435774, 2.3126045346320354, 1.550527111774534, 0.5266198309555081, 1.2487774927849935, 7.357551774891774, 2.4043481228176, 1.3617482528582536, 2.4088322035834535, 1.183764794372294, 2.3982305555555556, 2.1050781529581526, 1.4620440762780393, 1.0322358694083695, 1.9954871836496832, 1.183764794372294, 0.35761686994292285, 2.1128637729782302, 0.22483493614228892, 1.4620440762780393, 1.6782469696969695, 2.33401683982684, 1.3499484385690845, 3.27888208236208, 0.22661606060606068, 0.7540564792070674, 1.3798845463956337, 1.990086096681097, 1.540946739130435, 6.235744606782107, 2.630880447330448, 1.06207405039405, 2.021331143578644, 0.36248144189144177, 1.7900507647907649, 1.3374950216450214, 1.1560840140415138, 0.11805261904761888, 1.370573416305916, 1.8405968464804956, 3.0072958441558457, 5.960342431457434, 0.22523994671994668, 2.60523190992341, 1.4986172691197692, 2.1336693434343434, 2.020350176767677, 3.4677978071928037, 4.312858152958153, 2.315290541125542, 1.4282831093579624, 1.9001685569985565, 0.854618637424667, 3.293635566378067, 0.44253757770007773, 1.2779825902992772, 3.978212178932178, 3.308475325396825, 1.7170881890331886, 1.019962139249639, 4.437565003607506, 2.11543983849484, 1.7103209126984127, 2.3539309848484846, 1.2530181733299386, 0.7228910101010105, 3.27888208236208, 2.189953088023088, 0.6317082196969698, 0.2969319841269843, 1.9671695598845593, 2.0145950033300024, 1.9915581890331895, 6.235744606782107, 0.528648564360476, 1.7747234271284285, 1.1579488608613613, 0.3499391706173943, 2.2897945158899065, 1.5283775072150072, 0.07766537518037508, 3.4577653427128427, 0.21031118800789841, 1.5004509307359302, 3.7099317621259047, 3.0072958441558457, 1.0195745226995228, 1.3465685209235208, 0.2501398251421781, 3.0072958441558457, 0.32144874473565643, 4.985002582972583, 0.5266198309555081, 0.39164710875897396, 0.16627251082251074, 3.27888208236208, 1.0161377417027417, 0.22523994671994668, 3.8469960101010114, 1.3499484385690845, 2.261932611832611, 3.2916824242424236, 0.8197572155622156, 1.4929434992784996, 2.043853813555725, 0.30527517676767685, 5.812997550505051, 2.589682541031433, 2.4423633730158727, 1.8405968464804956, 6.235744606782107, 2.7881481570347426, 2.4768571753246755, 2.12238664946165, 2.552230097402597, 1.7634198448773446, 0.7165631385281388, 4.062715422077922, 0.8770482767524876, 4.704916601731603, 4.211402878787878, 1.9862073484848486, 4.567030411255409, 2.861431834415584, 2.72333062974063, 2.427917491511755, 2.181743373015873, 3.512803129093129, 2.2577284740259733, 3.087054691142189, 1.096713315295815, 3.9357028571428585, 3.429635219780221, 0.791168710676578, 0.5051472971253892, 1.183764794372294, 1.7583137409812406, 2.122900284992786, 2.0428271500721498, 1.7404255844155845, 2.07313818047132, 1.6754781318681313, 3.3624182017655535, 1.5964481782106779, 2.33009270979021, 2.230647665945165, 0.9435802669552669, 1.2168851970251966, 2.134982211399712, 1.9496878817679915, 1.3186686489898989, 2.535251951936952, 10.06957202380952, 1.334184534632034, 2.3566809403505005, 0.9653832792207793, 2.07313818047132, 0.39164710875897396, 1.1704742496392495, 1.4620440762780393, 2.4043481228176, 0.4924343792318792, 4.554333510101009, 3.414867676767677, 2.953706287878788, 3.7099317621259047, 2.44577963924964, 3.2286460425685415, 3.212595569985571, 0.7535739121989125, 1.7289546176046182, 1.3359491522366518, 2.0932128856891903, 1.316675833333333, 0.3693791470049559, 1.0142838544569464, 1.2451720254010694, 1.8780005699855702, 2.1937837767787762, 2.1956088600288597, 1.1526416522366523, 0.9877571717171718, 2.364597358474858, 2.6651011580086577, 5.294505883838382, 3.346126395826396, 3.429635219780221, 0.3214043270618269, 0.4528430519480519, 1.7257643506493514, 2.2286932900432905, 2.70905645805885, 2.07313818047132, 1.6124954310966815, 2.8966169083694076, 1.6754781318681313, 2.4592670707070714, 2.4043481228176, 2.548564573124944, 1.5403840259740251, 0.7917905411255413, 0.30927442640692643, 1.1579488608613613, 1.808239227994228, 1.6282576190476197, 1.9781355180375177, 2.2884442913656695, 2.174563418188092, 3.064416715588333, 2.1262822943722948, 2.548564573124944, 3.2662847383172395, 1.9666230699855702, 2.07313818047132, 2.2958779256854247, 2.4689783926073927, 4.125617189754689, 1.6789205808080805, 1.051208880819473, 2.3339474711399713, 2.1883540897990903, 2.1711983261183265, 1.776680532524303, 2.2884442913656695, 2.5075798593073584, 3.011631917151474, 3.3002783477633475, 2.1251679870129863, 2.632181395271396, 1.2361164476755606, 0.9653832792207793, 4.451780652173912, 6.08703704156954, 1.8405968464804956, 1.5751917604617605, 3.9766835153735154, 2.661468867243867, 0.3661861555111555, 1.5956338891663888, 2.2555085028860025, 2.738132222222222, 3.27888208236208, 1.8598482731157742, 2.619031282606282, 2.232549228639009, 1.4293809563570248, 1.8228048160173163, 0.791168710676578, 1.3245511291486298, 0.6572247438672438, 1.9683107756132747, 1.5066165187590186, 0.8838202344877343, 1.8405968464804956, 0.22483493614228892, 2.009234727772227, 0.9653832792207793, 1.9897770274170272, 3.3370060353535367, 0.7417374603174604, 2.07313818047132, 1.1526416522366523, 1.0855546753246754, 3.195449945887448, 2.5987235173160173, 3.7735544913419905, 1.7531094264069258, 2.8082459251859238, 3.8785973917748913, 1.539121544011545, 1.550527111774534, 1.0709833741258736, 1.4620440762780393, 1.1925552200577199, 1.0674467984792984, 3.0195895887445885, 1.6689266895604382, 2.4158979833499843, 0.9647860714285718, 0.22523994671994668, 2.0887299678099676, 1.364330700410701, 0.7179706565656564, 1.3828596439671437, 1.4542936048102229, 3.0059432501429604, 0.22523994671994668, 1.2361164476755606, 1.796344416583416, 4.1642617962592965, 1.7170881890331886, 1.7399798479298474, 2.4919488600288604, 2.488676994949496, 1.9284009740259724, 0.5088378607503601, 2.3403379506121897, 2.027676273448774, 1.5403840259740251, 1.3556173236485736, 3.3071091097954333, 1.5133528366078368, 2.286158798701299, 1.3556173236485736, 1.6754781318681313, 3.1287962570712886, 1.4044241671155637, 2.9726840126540153, 1.6205732363180936, 0.6946822594867289, 4.1289775595238085, 3.654015733300517, 0.5721269949494946, 2.5674304059829067, 1.664313281163281, 2.4192345784288176, 1.76837803030303, 2.505115735930736, 2.632181395271396, 1.2155159090909087, 2.0835179256854257, 0.7122359903658431, 4.4198765645465645, 3.405771928602444, 2.628755678210677, 0.7396303984903986, 2.147315256132756, 0.6709599567937221, 9.931014087301584, 3.7099317621259047, 1.0562657887700535, 2.6799403868353853, 1.8405968464804956, 2.7779262409812393, 2.020423852813853, 0.5232680935730937, 2.5851475505050514, 0.8579598160173156, 7.320630400432901, 4.454944354256853, 1.264607857142857, 2.2300508037138296, 2.054379899562998, 0.30927442640692643, 2.535124238539239, 0.9913507128982129, 1.3493731084193588, 9.931014087301584, 0.9097893939393943, 2.0387903366078364, 1.453048311688312, 1.3499484385690845, 2.024884974747474, 3.3864782431457434, 2.676450757575757, 1.6456997727272724, 3.3069621392496398, 2.034172453102454, 2.3796252272727263, 0.831679358974359, 2.518064511322012, 2.6278743292818296, 5.578016789321789, 1.6689266895604382, 0.2969319841269843, 1.807582272727273, 3.0272876587301583, 2.4885323989899, 8.31155071789323, 2.1728617431837174, 1.1931221176046178, 3.429635219780221, 3.009003705665679, 4.758965573593076, 1.2168851970251966, 2.12238664946165, 1.4282831093579624, 0.9695790367965368, 5.635047391497388, 1.8235607936507936, 2.990421398601398, 0.28183615051615063, 0.2969319841269843, 0.28204860112110114, 1.2155159090909087, 2.374604445385534, 2.5273065741448093, 2.205462914862915, 2.0082431818181816, 2.590597685370184, 3.597735627705626, 1.5016731727044885, 1.8461945079920086, 1.2361164476755606, 3.1453262355699847, 2.548564573124944, 0.22523994671994668, 1.969113142135642, 0.981351356421356, 0.23356037823287834, 2.798725144389924, 2.3474445730413374, 1.5836302633477635, 3.3853125398212898, 2.3120200353535356, 0.9251247257420943, 2.9726840126540153, 1.0996870973470976, 1.2015751623376614, 1.0579730092130095, 1.7925981204906214, 1.4620440762780393, 1.5411308044733045, 2.3928284235209225, 1.0544566558441562, 4.552823989898988, 0.3214043270618269, 0.7535739121989125, 1.2168851970251966, 1.183764794372294, 1.957358506303638, 1.5332020016095016, 1.0579730092130095, 6.922104415584417, 3.3957707855755337, 0.5352125239792886, 1.7893407575757576, 1.9862073484848486, 0.4018708532257216, 3.6733133430458427, 3.195449945887448, 6.235744606782107, 1.8484460606060602, 4.983191590909092, 0.6313166924832132, 3.4002470598845593, 2.1659759581529583, 0.3939547150072151, 0.5721269949494946, 3.393786517656255, 1.6689266895604382, 0.8972058477633482, 0.7221048048597427, 2.488498167388167, 0.36248144189144177, 1.8473231193806192, 2.092451764069265, 1.915153813131313, 1.897023827561327, 2.628755678210677, 3.512803129093129], \"type\": \"scatter\", \"uid\": \"7cd05818-c218-11e8-8f78-c4b301c0ad2d\"}], {\"hoverlabel\": {\"font\": {\"family\": \"Courier\", \"size\": 25.0}}, \"hovermode\": \"closest\", \"legend\": {\"font\": {\"family\": \"Courier\", \"size\": 25.0}}, \"margin\": {\"b\": 50.0, \"l\": 50.0, \"pad\": 0, \"r\": 0, \"t\": 0}, \"paper_bgcolor\": \"white\", \"plot_bgcolor\": \"white\", \"title\": \"\", \"titlefont\": {\"family\": \"Courier\", \"size\": 25.0}, \"xaxis\": {\"tickfont\": {\"family\": \"Courier\", \"size\": 25.0}, \"title\": \"Actual gap (eV)\", \"titlefont\": {\"family\": \"Courier\", \"size\": 25.0}, \"type\": \"linear\"}, \"yaxis\": {\"tickfont\": {\"family\": \"Courier\", \"size\": 25.0}, \"title\": \"Predicted gap (eV)\", \"titlefont\": {\"family\": \"Courier\", \"size\": 25.0}, \"type\": \"linear\"}}, {\"showLink\": true, \"linkText\": \"Export to plot.ly\"})});</script>"
      ]
     },
     "metadata": {},
     "output_type": "execute_result"
    }
   ],
   "source": [
    "from matminer.figrecipes.plot import PlotlyFig\n",
    "pf = PlotlyFig(mode='notebook', margins=0, x_title='Actual gap (eV)', y_title='Predicted gap (eV)')\n",
    "pf.xy([(y_test, y_pred)], labels=X_test.index)"
   ]
  },
  {
   "cell_type": "markdown",
   "metadata": {},
   "source": [
    "###  Metal vs. Non-metal Classifier"
   ]
  },
  {
   "cell_type": "code",
   "execution_count": 38,
   "metadata": {},
   "outputs": [
    {
     "data": {
      "text/plain": [
       "0.392954801351134"
      ]
     },
     "execution_count": 38,
     "metadata": {},
     "output_type": "execute_result"
    }
   ],
   "source": [
    "cassification_ismetal = df[TARGET].apply(lambda x: int(x==0))\n",
    "sum(cassification_ismetal)/len(cassification_ismetal)"
   ]
  },
  {
   "cell_type": "code",
   "execution_count": 39,
   "metadata": {
    "collapsed": true
   },
   "outputs": [],
   "source": [
    "from sklearn.model_selection import train_test_split\n",
    "X_train, X_test, y_train, y_test = train_test_split(df_reduced, cassification_ismetal, test_size=0.2, random_state=SEED)"
   ]
  },
  {
   "cell_type": "code",
   "execution_count": 40,
   "metadata": {
    "collapsed": true
   },
   "outputs": [],
   "source": [
    "from sklearn.model_selection import StratifiedKFold\n",
    "cv = StratifiedKFold(n_splits=NFOLD, shuffle=False, random_state=SEED)"
   ]
  },
  {
   "cell_type": "code",
   "execution_count": 41,
   "metadata": {
    "collapsed": true
   },
   "outputs": [],
   "source": [
    "from sklearn.ensemble import RandomForestClassifier # actually SVC here scores similarly\n",
    "\n",
    "model_cls = RandomizedSearchCV(estimator=RandomForestClassifier(\n",
    "    class_weight={0: 1., 1:1./(sum(cassification_ismetal)/len(df))}), \n",
    "                           random_state=SEED,\n",
    "                           param_distributions=rf_params_dict,\n",
    "                           n_iter=50,\n",
    "                           scoring='roc_auc',\n",
    "                           cv=cv,\n",
    "                           verbose=1,\n",
    "                           n_jobs=N_JOBS)\n",
    "# with open(os.path.join(CALC_DIR, 'classifier_optimized.pickle'), 'rb') as fm:\n",
    "#     model_cls = pickle.load(fm)\n",
    "\n",
    "# tpot_cls = TpotAutoml(mode=\"classification\",\n",
    "#                       max_time_mins=120,\n",
    "# #                       generations=1,\n",
    "# #                       population_size=10,\n",
    "#                       scoring='roc_auc',\n",
    "#                       random_state=SEED,\n",
    "#                       feature_names=df_reduced.columns,\n",
    "#                       n_jobs=N_JOBS,\n",
    "#                       verbosity=2)\n",
    "# model_cls = tpot_cls"
   ]
  },
  {
   "cell_type": "code",
   "execution_count": 42,
   "metadata": {},
   "outputs": [
    {
     "name": "stdout",
     "output_type": "stream",
     "text": [
      "Fitting 5 folds for each of 50 candidates, totalling 250 fits\n"
     ]
    },
    {
     "name": "stderr",
     "output_type": "stream",
     "text": [
      "[Parallel(n_jobs=4)]: Done  42 tasks      | elapsed:  2.9min\n",
      "[Parallel(n_jobs=4)]: Done 192 tasks      | elapsed: 13.1min\n",
      "[Parallel(n_jobs=4)]: Done 250 out of 250 | elapsed: 15.6min finished\n"
     ]
    },
    {
     "data": {
      "text/plain": [
       "RandomizedSearchCV(cv=StratifiedKFold(n_splits=5, random_state=53, shuffle=False),\n",
       "          error_score='raise',\n",
       "          estimator=RandomForestClassifier(bootstrap=True,\n",
       "            class_weight={0: 1.0, 1: 2.544821940237413}, criterion='gini',\n",
       "            max_depth=None, max_features='auto', max_leaf_nodes=None,\n",
       "            min_impurity_decrease=0.0, min_impurity_split=None,\n",
       "            min_samples_leaf=1, min_samples_split=2,\n",
       "            min_weight_fraction_leaf=0.0, n_estimators=10, n_jobs=1,\n",
       "            oob_score=False, random_state=None, verbose=0,\n",
       "            warm_start=False),\n",
       "          fit_params=None, iid=True, n_iter=50, n_jobs=4,\n",
       "          param_distributions={'n_estimators': [100, 200, 400], 'max_features': array([0.05, 0.1 , 0.15, 0.2 , 0.25, 0.3 , 0.35, 0.4 , 0.45, 0.5 , 0.55,\n",
       "       0.6 , 0.65, 0.7 , 0.75, 0.8 , 0.85, 0.9 , 0.95, 1.  ]), 'min_samples_split': range(2, 21), 'min_samples_leaf': range(1, 21), 'bootstrap': [True, False]},\n",
       "          pre_dispatch='2*n_jobs', random_state=53, refit=True,\n",
       "          return_train_score='warn', scoring='roc_auc', verbose=1)"
      ]
     },
     "execution_count": 42,
     "metadata": {},
     "output_type": "execute_result"
    }
   ],
   "source": [
    "model_cls.fit(X_train, y_train)\n",
    "# with open(os.path.join(CALC_DIR, 'classifier_optimized.pickle'), 'wb') as fm:\n",
    "#     pickle.dump(model_cls, fm)"
   ]
  },
  {
   "cell_type": "code",
   "execution_count": 43,
   "metadata": {
    "collapsed": true
   },
   "outputs": [],
   "source": [
    "# model_cls.get_top_models()"
   ]
  },
  {
   "cell_type": "code",
   "execution_count": 44,
   "metadata": {},
   "outputs": [
    {
     "data": {
      "text/plain": [
       "0.9806323085949759"
      ]
     },
     "execution_count": 44,
     "metadata": {},
     "output_type": "execute_result"
    }
   ],
   "source": [
    "model_cls.score(X_test, y_test)"
   ]
  },
  {
   "cell_type": "code",
   "execution_count": 45,
   "metadata": {},
   "outputs": [
    {
     "name": "stdout",
     "output_type": "stream",
     "text": [
      "5-fold cross-validation scores for the classification (metal/nonmetal) model\n",
      "ROC_AUC: 0.9919 +- 0.0023\n"
     ]
    }
   ],
   "source": [
    "from sklearn.model_selection import cross_val_score\n",
    "\n",
    "model_cv3 = RandomForestClassifier(**model_cls.best_params_, n_jobs=N_JOBS)\n",
    "\n",
    "rmse_scores = [np.sqrt(abs(score)) for score in cross_val_score(model_cv3, df_reduced, cassification_ismetal, scoring='roc_auc', cv=cv)]\n",
    "print('{}-fold cross-validation scores for the classification (metal/nonmetal) model'.format(NFOLD))\n",
    "print('ROC_AUC: {0:.4f} +- {1:.4f}'.format(np.mean(rmse_scores), np.std(rmse_scores)))"
   ]
  },
  {
   "cell_type": "code",
   "execution_count": 46,
   "metadata": {
    "collapsed": true
   },
   "outputs": [],
   "source": [
    "from sklearn.metrics import confusion_matrix\n",
    "from collections import Counter\n",
    "y_pred = model_cls.predict(X_test)\n",
    "# y_pred = list(map(int, model_cls.predict_proba(X_test)[:, 1] > 0.55)) # if .8, we only throw away 3.6% of the data as metal\n",
    "cm = confusion_matrix(y_test, y_pred)/np.array([Counter(y_pred)[0], Counter(y_pred)[1]])"
   ]
  },
  {
   "cell_type": "code",
   "execution_count": 47,
   "metadata": {},
   "outputs": [
    {
     "data": {
      "image/png": "[encoded data removed]",
      "text/plain": [
       "<matplotlib.figure.Figure at 0x11673b438>"
      ]
     },
     "metadata": {},
     "output_type": "display_data"
    }
   ],
   "source": [
    "ax = sns.heatmap(cm, annot=True, cmap='Blues', fmt='.3f');\n",
    "ax.set_xlabel('Predicted');\n",
    "ax.set_ylabel('True'); \n",
    "ax.set_title('Confusion Matrix'); \n",
    "ax.xaxis.set_ticklabels(['nonmetal', 'metal']); \n",
    "ax.yaxis.set_ticklabels(['nonmetal', 'metal']);"
   ]
  },
  {
   "cell_type": "code",
   "execution_count": 48,
   "metadata": {
    "collapsed": true
   },
   "outputs": [],
   "source": [
    "from sklearn.metrics import roc_curve, roc_auc_score\n",
    "y_pred_proba = model_cls.predict_proba(X_test)[:, 1]\n",
    "fpr, tpr, threshold = roc_curve(y_test, y_pred_proba, pos_label=1, drop_intermediate=True)"
   ]
  },
  {
   "cell_type": "code",
   "execution_count": 49,
   "metadata": {},
   "outputs": [
    {
     "data": {
      "text/plain": [
       "Text(0,0.5,'True positive rate')"
      ]
     },
     "execution_count": 49,
     "metadata": {},
     "output_type": "execute_result"
    },
    {
     "data": {
      "image/png": "[encoded data removed]",
      "text/plain": [
       "<matplotlib.figure.Figure at 0x11c4792b0>"
      ]
     },
     "metadata": {},
     "output_type": "display_data"
    }
   ],
   "source": [
    "plt.plot(fpr, tpr);\n",
    "plt.plot([0., 1.], [0., 1.], 'r--')\n",
    "plt.title('ROC, AUC={0:.3f}'.format(roc_auc_score(y_test, y_pred_proba)))\n",
    "plt.xlabel('False positive rate')\n",
    "plt.ylabel('True positive rate')"
   ]
  },
  {
   "cell_type": "code",
   "execution_count": 50,
   "metadata": {},
   "outputs": [],
   "source": [
    "# df[TARGET].hist(bins=50)\n",
    "# plt.xlim([0, 0.9])"
   ]
  },
  {
   "cell_type": "markdown",
   "metadata": {},
   "source": [
    "## Putting it all together: classification first and then regression on predicted nonmetals, what's the RMSE?"
   ]
  },
  {
   "cell_type": "code",
   "execution_count": 51,
   "metadata": {},
   "outputs": [],
   "source": [
    "from sklearn.base import BaseEstimator, TransformerMixin\n",
    "\n",
    "class ProductionModel(BaseEstimator, TransformerMixin):\n",
    "    \"\"\"\n",
    "    Predicts the target using a sequence of classifier (target==0 or not) and regressor that is fit on the \n",
    "    portion of the data with target != 0\n",
    "    \"\"\"\n",
    "    def __init__(self, classifier, regressor):\n",
    "        self.classifier = classifier\n",
    "        self.regressor = regressor\n",
    "    \n",
    "    def fit(self, X=None, y=None):\n",
    "        is_y_0 = y==0.0\n",
    "        self.classifier.fit(X, is_y_0.apply(int))\n",
    "        self.regressor.fit(X[~is_y_0], list(map(int, y[~is_y_0])))        \n",
    "    \n",
    "    def predict(self, X):\n",
    "        is_metal = self.classifier.predict(X)\n",
    "        y_pred = self.regressor.predict(X)\n",
    "        for idx, pred_reg in enumerate(y_pred):\n",
    "            if is_metal[idx]:\n",
    "                y_pred[idx] = 0.0\n",
    "        return y_pred"
   ]
  },
  {
   "cell_type": "code",
   "execution_count": 52,
   "metadata": {},
   "outputs": [],
   "source": [
    "production_model = ProductionModel(model_cv3, model_cv2) # model_cv2 is regression"
   ]
  },
  {
   "cell_type": "code",
   "execution_count": 54,
   "metadata": {
    "collapsed": true
   },
   "outputs": [],
   "source": [
    "X = df_reduced \n",
    "y_true = df[TARGET]"
   ]
  },
  {
   "cell_type": "code",
   "execution_count": 55,
   "metadata": {},
   "outputs": [
    {
     "name": "stdout",
     "output_type": "stream",
     "text": [
      "5-fold cross-validation scores for the model only nonmentals\n",
      "RMSE: 0.9919 +- 0.0023\n"
     ]
    }
   ],
   "source": [
    "from sklearn.model_selection import KFold, cross_val_predict, cross_val_score\n",
    "\n",
    "cv = KFold(n_splits=NFOLD, shuffle=False, random_state=SEED)\n",
    "\n",
    "y_pred_prod = [np.sqrt(abs(score)) for score in cross_val_score(production_model, X, y_true, scoring='neg_mean_squared_error', cv=cv)]\n",
    "print('{}-fold cross-validation scores for the model only nonmentals'.format(NFOLD))\n",
    "print('RMSE: {0:.4f} +- {1:.4f}'.format(np.mean(rmse_scores), np.std(rmse_scores)))"
   ]
  },
  {
   "cell_type": "code",
   "execution_count": null,
   "metadata": {
    "collapsed": true
   },
   "outputs": [],
   "source": []
  },
  {
   "cell_type": "markdown",
   "metadata": {},
   "source": [
    "Just a test score:"
   ]
  },
  {
   "cell_type": "code",
   "execution_count": 56,
   "metadata": {
    "collapsed": true
   },
   "outputs": [],
   "source": [
    "production_model.fit(X_train0, y_train0)"
   ]
  },
  {
   "cell_type": "code",
   "execution_count": 57,
   "metadata": {},
   "outputs": [],
   "source": [
    "y_pred_prod = production_model.predict(X_test0)"
   ]
  },
  {
   "cell_type": "code",
   "execution_count": 58,
   "metadata": {},
   "outputs": [
    {
     "name": "stdout",
     "output_type": "stream",
     "text": [
      "R2: 0.7542865633480316\n",
      "RMSE: 0.74938590778433\n"
     ]
    }
   ],
   "source": [
    "from sklearn.metrics import mean_squared_error, r2_score\n",
    "\n",
    "print('R2: {}'.format(r2_score(y_test0, y_pred_prod)))\n",
    "print('RMSE: {}'.format((mean_squared_error(y_test0, y_pred_prod))**0.5))"
   ]
  },
  {
   "cell_type": "code",
   "execution_count": 65,
   "metadata": {},
   "outputs": [
    {
     "data": {
      "image/png": "[encoded data removed]",
      "text/plain": [
       "<matplotlib.figure.Figure at 0x11c87b5c0>"
      ]
     },
     "metadata": {},
     "output_type": "display_data"
    }
   ],
   "source": [
    "plt.hist(y_test0, bins=50)\n",
    "plt.hist(y_pred_prod, bins=50);"
   ]
  },
  {
   "cell_type": "code",
   "execution_count": 66,
   "metadata": {},
   "outputs": [
    {
     "name": "stderr",
     "output_type": "stream",
     "text": [
      "IOPub data rate exceeded.\n",
      "The notebook server will temporarily stop sending output\n",
      "to the client in order to avoid crashing it.\n",
      "To change this limit, set the config variable\n",
      "`--NotebookApp.iopub_data_rate_limit`.\n"
     ]
    },
    {
     "data": {
      "text/html": [
       "<div id=\"f44da9c7-ab68-4945-8615-612b5ddab819\" style=\"height: 525px; width: 100%;\" class=\"plotly-graph-div\"></div><script type=\"text/javascript\">require([\"plotly\"], function(Plotly) { window.PLOTLYENV=window.PLOTLYENV || {};window.PLOTLYENV.BASE_URL=\"https://plot.ly\";Plotly.newPlot(\"f44da9c7-ab68-4945-8615-612b5ddab819\", [{\"hoverinfo\": \"x+y+text\", \"hoverlabel\": {\"font\": {\"family\": \"Courier\", \"size\": 25.0}}, \"line\": {\"dash\": \"solid\", \"width\": 2}, \"marker\": {\"colorscale\": \"Viridis\", \"line\": {\"color\": \"black\", \"width\": 1}, \"showscale\": false, \"size\": 10.0, \"symbol\": \"circle\"}, \"mode\": \"markers\", \"text\": [\"Cu2Se\", \"TlBr\", \"Ga2Te3\", \"Tl3AsSe3\", \"Mg2Pb\", \"LiInS2\", \"Ti5B12O26\", \"Li8PrO6\", \"LiMn9Se10\", \"HfAsRh\", \"EuTm2Se4\", \"BaPrO3\", \"Pr5In11Ni6\", \"Si4Cu15\", \"CdSe\", \"TiCoSb\", \"RbAg2SbS4\", \"PrFe2Si2\", \"Yb2Ge2Ir\", \"H2Ti6O13\", \"RbNb4Br11\", \"HfGaCo2\", \"SrTlHg2\", \"InS\", \"La3GaGe0.5S7\", \"PdPb2\", \"InN\", \"Te4Mo(WS)2\", \"YbS\", \"TmAs\", \"GaAs\", \"TbZrSb\", \"Li2Ni2SbO6\", \"BeFe2Si\", \"CsNb6I11\", \"TaPd3\", \"BiOCl\", \"LiCa3As2H\", \"TlBr\", \"TmAlCu\", \"PbTe\", \"CuGa1.6In0.4S3.5\", \"ZnB12O24H10\", \"CdF2\", \"NaBiSe2\", \"Cs2AgVS4\", \"In0.4Ga0.6P\", \"Mn5O7\", \"CoP3\", \"CsCd4Ga5Te12\", \"LiInAg2\", \"PrBN2\", \"GaAs\", \"GaSe\", \"LiTiSiO4\", \"Zn0.4Hg0.6Se\", \"Pr3Cd\", \"RuSbSe\", \"Gd2Zn17\", \"Tl2InGaSe4\", \"Ga1.02Sb0.98Te0.06\", \"Sc2MnC\", \"LaCuOS\", \"Sc2O3\", \"SiTe2\", \"Mg2Sn\", \"In3Pd5\", \"Sr2Co2O5\", \"LuIr\", \"CsUCuS3\", \"ReO3\", \"Ba5Ga6GeP12\", \"Rb2SCl6F\", \"Bi2Te2.7Se0.3\", \"Fe2P3B1O12\", \"EuHo2Se4\", \"Tb2Mo3O12\", \"Rb2TeBr6\", \"Li3Ni2(GeO4)3\", \"K0.8Hg1.2Sn2S8\", \"SrTiO3\", \"K2Bi8Se13\", \"AgPbBiS3\", \"YbNd3\", \"V3Si\", \"Cd4P2Cl3\", \"Zn2LiGaO4\", \"PtAs2\", \"InP\", \"HfSe2\", \"YbIn3S6\", \"AlSb\", \"InSe\", \"Cd4P2Br3\", \"Hg0.25Zn0.75Te\", \"Ce2Sb\", \"Cu0.4In1.6Se2.6\", \"ZnO\", \"SnS\", \"Dy2S3\", \"LiHoAu2\", \"Ag0.5Pb1.75GeSe4\", \"CsPbPO4\", \"TmAl4Ni\", \"K2ZnTe2\", \"Zn3As2\", \"AgW6Br14\", \"AgSbTe2\", \"Li2Co4O7F\", \"Bi2Te2.4Se0.6\", \"TiHgO3\", \"Ag2GeSe3\", \"Cs2PtI6O18\", \"CuBr\", \"CuGaSe2\", \"Sb2S3\", \"Ba3ThSe7\", \"Pr2InPd2\", \"ErSi2Pd2\", \"Y2Mo2O7\", \"K2Au2Sn2Se6\", \"MgPb3\", \"Ni2InVO6\", \"CdGeAs2\", \"YbPr11Se16\", \"V2O5\", \"CdSiAs2\", \"TaGaS2\", \"Hg8As4Bi3Cl13\", \"Ba2GaDySe5\", \"TiOs3\", \"AsNMg3\", \"VB2\", \"Mg3Rh\", \"Sr2Li2Nb3O10\", \"HgIn2Se4\", \"Ti2BRh6\", \"Li8PO3\", \"YErRh2\", \"Li2CdGeS4\", \"Li2V3CrO8\", \"Bi2Te2.1Se0.9\", \"Ag3Ga3SiSe8\", \"SrZnSb2\", \"Li3Co2(GeO4)3\", \"Ga1.001Sb0.999Se0.003\", \"TiC\", \"Er6MnBi2\", \"Hg3Te2UCl6\", \"ZnS\", \"Na8Cu5O10\", \"Sb3O4I\", \"Gd2Zn6Ge3\", \"InSe\", \"In6Se7\", \"GdH2NO5\", \"Ga0.2In0.8As\", \"Pb0.9Ge0.1Te\", \"DyAl8Cu4\", \"Rb2TeI6\", \"V3Cu\", \"NdTlPd\", \"MgAgAs\", \"CeCo2As2\", \"ErSe2\", \"LaSi2\", \"GaN\", \"ScGe2\", \"Ti4ZnO8\", \"SmIn2Rh\", \"Na0.75Eu1.625GeSe4\", \"ErMg2\", \"GaAs0.65Sb0.35\", \"BiSBr\", \"CdGeAs2\", \"Ba2GaBiTe5\", \"PtP2\", \"Cu2H3ClO3\", \"Cd3As2\", \"SnGa2GeS6\", \"SrThP2S8\", \"GaSb\", \"CsLu7Se11\", \"MgRh2Pb\", \"FeOF\", \"Ba3B1.5S6Sb0.5\", \"Dy2CuOs\", \"BaAs2Rh2\", \"MgMnO3\", \"AgS\", \"Ho2CuRh\", \"Tb3Rb2AlF16\", \"SiAs\", \"AgInCd2Te3\", \"YbCaInSe4\", \"Pb0.99Sn0.01Se\", \"Y3Ge4\", \"Pb0.97Se0.97Sn0.03Se0.03\", \"Li3Mn3NiO8\", \"CuGaSe2\", \"MnTePd\", \"Mn3Cr3(TeO8)2\", \"Sr3EuP3O12\", \"Cu0.1Ga1.9S2.9\", \"Hg3PS3\", \"Li3Mn2CuO6\", \"AgBiP2Se6\", \"NaF\", \"AgInTe2\", \"K3B6O10Cl\", \"TlSe\", \"Pb3Br2Se2O6\", \"ErAl20Cr2\", \"NdPt\", \"Na2ZnGe2S6\", \"CdIO4H\", \"CdSb\", \"ZrAlPt\", \"BiPd\", \"AgBiP2S6\", \"BaPdI4O12\", \"Ba2DyCu3O7\", \"Cu2CdSnS4\", \"Li2FeGeS4\", \"Nd2Se3\", \"KAgO\", \"CoCu2Sn\", \"K2CsSb\", \"La2MnNiO6\", \"Rb2Cu2Sb2S5\", \"LiMo3O8\", \"Ba2InTaO6\", \"TlCl\", \"Pb2BiS2I3\", \"EuIn2Te4\", \"Cs3Sn3F2Cl7\", \"Li4MgNi3O8\", \"GaS\", \"Na3Sb\", \"IrSe2\", \"ZnS\", \"Zn0.43Cd0.57Se\", \"NiGe\", \"CeCd2Ag\", \"CsZn2B3O7\", \"CdS\", \"TlCr5Se8\", \"GaTe\", \"PrAu\", \"CeAl2Zn2\", \"Ce4InSbSe9\", \"As2S3\", \"AlB12\", \"Rb2Cu2SnS4\", \"AgGaS2\", \"AlN\", \"CdAs2\", \"Li2Nb2(PO4)3\", \"EuGe3Pt\", \"Ba2UCuO6\", \"AgTe\", \"Dy2Ti3Si4\", \"KNbSe2O7\", \"CaAl8Co2\", \"Cu3DyTe3\", \"SrBiO2Cl\", \"Te2Mo3Se4\", \"NaCdSb\", \"CuInSe2\", \"GaAs\", \"TmBPd3\", \"AgLi0.33Ti0.67O2\", \"Pb0.85Sn0.15Te\", \"Cd3In2S2Te4\", \"LiSbTe2\", \"MnI2\", \"Mg3As2\", \"K2Au2Sn2S6\", \"TlSe\", \"Na2Ga2SnS6\", \"RbCaBO3\", \"HfInCu2\", \"Cd3As2\", \"KSb5S8\", \"CuIn2S3.5\", \"ZnO\", \"Cs2Ga2Se5\", \"ScTiNbO6\", \"AlSb\", \"Ba2V4Te3O18\", \"Cd3P2\", \"OsPSe\", \"Pb0.87Sn0.13Se\", \"Bi2Te2.97Se0.03\", \"CdP4\", \"Ag2CdGeS4\", \"K2Nd2Ti3O10\", \"Sb2Te3\", \"GaN\", \"AgGaO2\", \"Pb0.85Se0.85Sn0.15Se0.15\", \"Ce3MnAlS7\", \"Pb0.999TeGa0.001\", \"Ba2YReO6\", \"BaIn2P4O14\", \"LuHfRu2\", \"CsCaBO3\", \"SrTaO2N\", \"In2Se3\", \"Bi4PdSe4O12\", \"HfS3\", \"Cs2MgGe3Se8\", \"YMg4Cu\", \"HfSiPt\", \"Na2BaSnS4\", \"CdSiAs2\", \"CsErZnSe3\", \"FeSi2\", \"La3AlN\", \"LiCd2Rh\", \"P2Se5\", \"InSb\", \"Li17Ti20O40\", \"LiCaO3\", \"YNiSb\", \"Li3Mn2(PO4)3\", \"SmNi2B2C\", \"Cd3As2\", \"ReCl4\", \"Ba2B6O9(OH)4\", \"Ca3Al2Ge3\", \"Ba2Cu5F14\", \"BiSeI\", \"Sm3AlN\", \"ZrRe2\", \"CsCu2AsS3\", \"Ba2V2Te2O11\", \"VFeSb\", \"PbSe0.01S0.99\", \"TlPrSe2\", \"CuGa0.4In1.6S3.5\", \"TlSe\", \"KCl\", \"ThAl8Fe4\", \"TlBr\", \"Hf2Fe\", \"K3Ti2P5S18\", \"B4C\", \"AlP\", \"LiBePt2\", \"NaCd4P3\", \"InSe\", \"PH2NO2\", \"Cr2HgSe4\", \"La8Sb2S15\", \"GaN\", \"Al2Se3\", \"CuN2O6\", \"UAlNi4\", \"LiSiRh2\", \"K3LiNb6O15\", \"HoSi2Pd2\", \"YAgO3\", \"Nb5Ga4\", \"TiAsRh\", \"Ga0.85Al0.15As\", \"Li5Mn6(BO3)6\", \"Yb14Ti10O41\", \"Sn2BiS2I3\", \"CeLu3\", \"Ca10Ge16B6O51\", \"InAs\", \"Mg2AgIr\", \"Zn2Ni9O13\", \"Ba4CuGa5Se12\", \"TaGaS2\", \"La6Sb4S3O12\", \"MgSn4O8\", \"K6Nb2.97Ta1.03S25\", \"CdIn2Te4\", \"ThCrB4\", \"Zr6O\", \"EuVO4\", \"TlSe\", \"Rb9Bi13S24\", \"GaN\", \"Ag3SbS3\", \"TlS\", \"Ge2Os\", \"Yb3Ti3O14\", \"MnSbPd\", \"BiOI\", \"ZnAs\", \"TmScHg2\", \"Er2Ga9Co3\", \"CdI2\", \"K2Ge3B2O10\", \"Zn0.99Cd0.01Se\", \"Pb2Nb2Se4O15\", \"AlVCo2\", \"InAs\", \"V6AgO15\", \"Pb2V3Se5O18\", \"Cs4Ag9Sb4S12\", \"RbI\", \"As2S3\", \"Rb3Sm\", \"LaMg3\", \"Ti2TcPd\", \"AsSeI\", \"TaGaSe2\", \"GaTe\", \"Ag0.5Pb1.75GeS4\", \"GeAs\", \"La10OSe14\", \"GaN\", \"V2NO\", \"BaPd2O4\", \"TlInSe2\", \"RbSbO3\", \"LaInS2O\", \"La3InGe0.5S7\", \"YbS\", \"Pb0.999Sn0.001Te\", \"ZrCrSi2\", \"CsSbTe2\", \"K2Hg3Ge2S8\", \"Mn3PtN\", \"Ta5N6\", \"Ba5Bi3\", \"U4S3\", \"AgSO4\", \"Zr3O\", \"Mg2Sn\", \"AgInS2\", \"AlNi2S4\", \"Cd4Sb3\", \"ZnSnP2\", \"Hf4Co4Si7\", \"Rb2Mo3Se3O16\", \"Hf2Si\", \"TlSe\", \"ZnO\", \"NbHg3F6\", \"TlW3O9\", \"Pb0.85Ge0.15Te\", \"CdGeAs2\", \"Li3Bi\", \"CdSe\", \"PbGa2SiSe6\", \"RbNa2NiO2\", \"Hf2ReRh\", \"Dy2Sn5\", \"Tl2TeBr6\", \"CdIn2S4\", \"Ag2SnSe3\", \"NaNO2\", \"CuIn3S5\", \"CsRbP2Se8\", \"CuCdInSe3\", \"CuGaTe2\", \"CeHg\", \"Pb7Bi4Se13\", \"ErSnAu\", \"Ce5Si3\", \"Ag3SbS3\", \"LiRbCO3\", \"Ce3MoO7\", \"CsInSnS4\", \"CsB3GeO7\", \"La5In3S9O3\", \"EuRhO3\", \"CdS0.99Se0.01\", \"Ag3AsS3\", \"ReTe2Cl12\", \"Eu2TeO2\", \"Ba6Sn6Se13\", \"NdNi2Sn2\", \"As2S3\", \"LiI\", \"CaSe\", \"SrMgSnSe4\", \"GaAs\", \"CsBiSe2\", \"SrPb3\", \"MnCu3\", \"SrLa2S4\", \"Cs2Sn3Sb2S10\", \"Pb0.9Sn0.1Se\", \"Sr3Ti2O7\", \"As2S3\", \"GeO2\", \"Ag2Ga2SiS6\", \"V3As2O9\", \"ZrRu3C\", \"Sb2I2F11\", \"TlSe\", \"HoInAu2\", \"CaOsO3\", \"YScO2\", \"SnSe\", \"K2Cd2Te3\", \"Cu11Sb4S13\", \"LaCuOSe\", \"ZnIn2S4\", \"ZnTe\", \"Hg7InS6Cl5\", \"Hg0.25Zn0.75Te\", \"TlHg6S4Br5\", \"SrO\", \"MoTe2\", \"Dy4S4Te3\", \"Zr3Al2\", \"Pr2S3\", \"LiInS2\", \"PrBPt4\", \"EuNi12B6\", \"Sb2Te3\", \"GaAs0.4P0.6\", \"Rb15Hg16\", \"RuPS\", \"TiTc2Sb\", \"Li3MnAs2\", \"Rb1.45Pb3.1Sb7.45Se15\", \"HoB2Rh3\", \"PbSe\", \"Sr2ZnReO6\", \"Al6Fe\", \"NdFeSi2\", \"Fe2Cu(PO4)3\", \"Mn5O3F5\", \"Yb2BaO4\", \"Zr5Sb3\", \"LuAl2Pd5\", \"LiBi4Ta3O12\", \"Li2CrCuO4\", \"Mg23Al30\", \"K3Fe2S4\", \"PbI2\", \"U4Re7Si6\", \"CdS\", \"TmCu2S2\", \"Sr8Co8O23\", \"CsGaS3\", \"NiS2\", \"Cu0.9Ga1.1Se2.1\", \"TlInS2\", \"Cs3Bi\", \"Sr2YBi2O7\", \"SmCrGe3\", \"Eu3Sb4S9\", \"GaAs0.99P0.01\", \"SmAu3\", \"CdRhF6\", \"InSe\", \"Cu2ZnSiS4\", \"TeSe3\", \"U3Cu2Se7\", \"Zn2WN2\", \"Rb3Sb2I9\", \"PbI2\", \"Bi2Cu0.96Se3I\", \"SiP2\", \"Hg3Sb\", \"EuO\", \"Cs2Hg6S7\", \"HgO\", \"TlPSe2\", \"CsInGeS4\", \"LuIn3S6\", \"LaIn\", \"Ba2GaSbTe5\", \"Na3WO4Cl\", \"AgGaSe2\", \"InSb0.9As0.1\", \"La2YbCuS5\", \"ThOS\", \"MgNiSb\", \"BiTeNO6\", \"AgI\", \"Ir2Sn3Se3\", \"DyBiPd\", \"Li2MgSn\", \"Pb6B2MoO12\", \"LiMgSnPd\", \"Cs2Cu3DyTe4\", \"ZrSi2\", \"Hf7P4\", \"Dy12Co7\", \"HoBi2O6\", \"Na2TeS3\", \"SbI3\", \"ZrInPd2\", \"Li2In2SiSe6\", \"PdSe\", \"PbS\", \"InBi2S4Br\", \"GeSe2\", \"Pb0.95Sn0.05Se\", \"Tl9SbSe6\", \"FeSi2\", \"CeMgAg2\", \"Ca2CdAs2\", \"PrInAu2\", \"Bi2Te2.4Se0.6\", \"RbBiS2\", \"KFe2BiO5\", \"PbSe\", \"GdZnIn\", \"P2H4RhO9\", \"Hg6As4CdBr6\", \"Ga0.7In0.3As\", \"GaTe\", \"PbTe\", \"InP2Se4\", \"Co5RuO8\", \"As4S4\", \"YbH3O3\", \"SnB\", \"Ba3Nb2CoO9\", \"Hf3P3Pd4\", \"Ni4P3O12\", \"Lu2Fe2Si2C\", \"InSe\", \"La4InSbS9\", \"LaCdAu\", \"YbTe\", \"HfCo3B2\", \"Cr2S3\", \"ReSn3\", \"Li5Mn2Cu5O12\", \"La2NiVO6\", \"Ti4O5\", \"Na19Zr11S30\", \"LiCo7O7F\", \"ZrIr2\", \"InSb\", \"SmHoHg2\", \"PbSe0.99S0.01\", \"TlCl\", \"Rh0.67S2\", \"Bi1.8Te3Sb0.2\", \"Ba4CuInSe6\", \"Ho2S3\", \"NdMg2\", \"Fe3B\", \"Cd4P2I3\", \"YbB66\", \"Li2Ni5(PO4)4\", \"TaGaSe2\", \"CrNiAs\", \"Mg2Ge\", \"Sm2CuAs3O\", \"CdS\", \"EuSnAu2\", \"SnS0.01Se0.99\", \"GaAs\", \"ZnSe\", \"Ba3Ho2P4S16\", \"PrZn\", \"InS\", \"In0.8Al0.2P\", \"CsH3Se2O6\", \"ZnAs2\", \"YAs\", \"AgN3\", \"KPbPO4\", \"Pb2MnO4\", \"SeTe\", \"Rb2TiCu2S4\", \"ZnGa2Se4\", \"Lu2CdIn\", \"K3V\", \"YAlPd\", \"Fe4I3O24H15\", \"CoOF\", \"K2Hg3S1.03Se2.97\", \"ScRh3C\", \"Ag0.1Cd0.8In2.1Te4\", \"Hf6PbO18\", \"Ni4Bi9O18\", \"Cd3As2\", \"CsYbCoSe3\", \"CaO\", \"CdAs2\", \"Mn5Ge2\", \"CdSiP2\", \"SrRhF6\", \"Zn4Sb3\", \"Cu0.5Ga1.5S2.5\", \"Li4Fe3NiO8\", \"K4Nb2S11\", \"LiHf2Ir\", \"HfS3\", \"KSbS2O8\", \"Gd3.04Sc0.96S6\", \"Ca5Au2\", \"LiAsSe2\", \"TiMn2Ge\", \"BaMn4O7\", \"Rb8Ga8Si38\", \"V3Pt\", \"CuGa3Te5\", \"LiBi4Nb3O12\", \"Hg0.77Cd0.23Te\", \"YbDyPd2\", \"Lu5Si3B\", \"Ta4AlC3\", \"PbSe\", \"Lu2Mn12P7\", \"BaSi2\", \"LiScHg2\", \"BaSbBS4\", \"GaS\", \"Cs3Nb9Te4O32\", \"SmTe\", \"YbLiPb\", \"OsAsS\", \"TlBr\", \"K3UF3\", \"EuTb2Se4\", \"Li3Co3SbO8\", \"Li3Mn4(PO4)6\", \"La2Ni5B4\", \"CoAsSe\", \"Sn5B2Rh6\", \"Cu2Ga4Te7\", \"InP\", \"Ba2InYSe5\", \"SnS0.99Se0.01\", \"ZnCo2O4\", \"Mg5As\", \"La2O2FeSe2\", \"RbI\", \"LaGa\", \"Ho3Ni19B10\", \"EuSn3\", \"NaSbSe2\", \"La2Ge5Ir3\", \"AgS\", \"OsSb2\", \"Cu2Te\", \"Sc2FeB2Ir5\", \"K3SmAs2S8\", \"BaGa2S4\", \"Li4NbNi3O8\", \"TlCoBi\", \"LiAsSe2\", \"TiSe\", \"Cu0.35Ga1.65Se2.65\", \"GeS2\", \"Ba3Tb2P4S16\", \"RbMn4In5Se12\", \"EuTiO3\", \"CaTaO2N\", \"CdSe\", \"TmMn6Ge6\", \"LiCu2Ge\", \"MnB2W2\", \"HoMgAu2\", \"CuAlTe2\", \"SiAu3\", \"Er3SnC\", \"In2S3\", \"Ba3In2P4O16\", \"PbCoO3\", \"PrCo2As2\", \"Na2Mo2Se2O11\", \"K2Dy2Ti3O10\", \"Ag3Pd\", \"LiZnBO3\", \"HfS3\", \"AlP\", \"CuBiP2Se6\", \"CsBi2\", \"La2YbCuSe5\", \"Hg3PS4\", \"MgCuSb\", \"Bi3TeBO9\", \"Pb0.85Sn0.15Te\", \"KAu5PS8\", \"Pr2Ir2O7\", \"CaO\", \"CuCl\", \"CdS\", \"Eu2BaMn2O7\", \"Rb2Na2IrO4\", \"Al2Cu\", \"LiHfPd2\", \"AgInSe2\", \"BeS\", \"GaSe\", \"KBiCu2S3\", \"CuGaS2\", \"Zn3Sb2\", \"La2Si5Rh3\", \"HoN\", \"Sr8Fe3N8\", \"RbAg2TeS6\", \"MnTe9\", \"BaGa4S7\", \"Nd2Fe14B\", \"TbCu5\", \"CeN\", \"Zn2Sb3O8\", \"Fe2S\", \"SrCuBi\", \"CdS\", \"CaS\", \"SmHgPd\", \"Ga2S3\", \"La2O2ZnSe2\", \"Cs3Bi2I9\", \"PmMgCd2\", \"Eu2Ga9Rh3\", \"Zr2Ni12P7\", \"Y2Ge5Ir3\", \"BaGa2GeS6\", \"BaPt5\", \"Bi2Pd3S2\", \"Mn5As4\", \"Ba2ZnV2O8\", \"TlGaSe2\", \"BiO\", \"LiLu2Ru\", \"LaAl4\", \"Tb4GaSbS9\", \"Eu2Ga2GeS7\", \"NdTe\", \"Cd4V3Te3O15\", \"Si4Cu5O14\", \"Mg3Al9FeSi5\", \"Nb5OF14\", \"Zn0.99Hg0.01Se\", \"CsAgSb4S7\", \"RuTe2\", \"Hg2Br2Te2\", \"CoTe1.88\", \"Ba2Ce2O5\", \"LaH2NO5\", \"AgGaS2\", \"CaGaGe\", \"PrGe3\", \"CaInAu\", \"K8N3O\", \"Sr7Bi23O40\", \"Li7Ti7O16\", \"KTaO3\", \"GaTe\", \"Bi2S3\", \"GaAs\", \"CeF3\", \"GaSe\", \"Tm2AlOs\", \"TmMnO3\", \"EuYb2Se4\", \"GaAs\", \"ZnSe\", \"Na2Nb4Se4O19\", \"Te2Au\", \"AgSbS2\", \"Sr4V2Se6O21\", \"Li3Ni3(PO4)4\", \"InSb\", \"Li9Ga13Te21O66\", \"RbIn4\", \"Ti2ReRh\", \"NaFe2(SiO3)4\", \"Sr2TiO4\", \"YCo2\", \"Pr27Se40\", \"MoO3\", \"EuN\", \"PbSe0.95S0.05\", \"BaTi4O7\", \"CsTiCl3\", \"CuInSe2\", \"CaVO2\", \"Li3Cr3(CuO6)2\", \"SmSi3Pt5\", \"Nd5Ge4\", \"WO3\", \"BaGe2\", \"Ag3AsSe3\", \"Ba4Ge3S9Cl2\", \"LiBr\", \"GaN\", \"CdSnAs2\", \"Sb2S3\", \"Zr2Te\", \"AgSbSe2\", \"K2CuNbSe4\", \"ZrHCl\", \"Cu2Se\", \"Ba5V3O12F\", \"Dy2Ge3Pt9\", \"CdIn2S4\", \"HgSe\", \"NdTiGe\", \"PbBiBO4\", \"AgI\", \"Pb0.83Sn0.17Se\", \"Ba2GaErSe5\", \"K2Bi8Se13\", \"Ba5Ga4Se10\", \"TbMn6Ge6\", \"CuInS2\", \"YbAgO2\", \"Tl2BiP2S7\", \"Ta0.67Zr1.33O1.89N1.63\", \"Bi2Te2.97Se0.03\", \"Zr2Co12P7\", \"BAs\", \"Tm3Ge4Pd4\", \"Ca11Bi10\", \"ZnTe\", \"Zn3Cu\", \"K4Sn3Ce3S14\", \"Zn0.4Hg0.6Se\", \"EuBi3\", \"PbBr2\", \"CsYbZnSe3\", \"Sm4MgRh\", \"TmAu\", \"V6PbO11\", \"LaAl4Co\", \"Cu2GeSe3\", \"Ba3La3Cu6O14\", \"LuU2S3O2\", \"As2Se3\", \"Cu0.35Ga1.65S2.65\", \"NdBRh3\", \"AgSbTe2\", \"Ni23B6\", \"Sm2Fe17\", \"Na2BaGeS4\", \"Dy5Sn3\", \"Sc3C4\", \"Cd3Sb2\", \"HgIn2Te4\", \"Cu2Te\", \"TlCu6S4\", \"Ta4N5\", \"Li2MgIn\", \"PbCdP4O12\", \"Zn0.8Hg0.2Se\", \"CdS\", \"Bi2O3\", \"Er2Fe14B\", \"SnGa4S7\", \"AgInTe2\", \"Rb2Te\", \"Hg0.8Cd0.2Se\", \"CdSiAs2\", \"U4N7\", \"Lu2TlAg\", \"Lu5Si10Ir4\", \"SbSeI\", \"EuIn2Se4\", \"Ag7S2I2\", \"Nb5Ge3\", \"Sb2S3\", \"FeCo2Si\", \"Pr2Sr2PtO7.07\", \"Ti2NiSe4\", \"Tl3Cr\", \"Ba2InDyTe5\", \"Ga0.99In0.01As\", \"TlPTe\", \"NiI\", \"GaS\", \"Sb2Se3\", \"Li6FeNi9O20\", \"Hg4As2CdI4\", \"HoGeAu\", \"Na3W4O12\", \"EuScO3\", \"EuTe\", \"Pr2Te3\", \"Tl3VS4\", \"Ca4Al3O10\", \"YbAl2Ga2\", \"Ag2CdP2S6\", \"Mg3Ni20B6\", \"ZnSe\", \"YbLiF4\", \"ZnTe\", \"TaF3\", \"BaB2O4\", \"LiFe2(SiO4)2\", \"InAs\", \"Si2Te3\", \"KNb3Se2O12\", \"Li4Co5SbO12\", \"CaF2\", \"U2Cu2As3O\", \"Cu2Te\", \"KTa3CuO9\", \"ScZnPt2\", \"HoNi2B2\", \"EuNiGe3\", \"Li2CdGe\", \"CuGaSe2\", \"CdSe\", \"WO3\", \"TlCuCl3\", \"Bi2S3\", \"NdGa2Ni\", \"YWO3\", \"Li2Fe5O10\", \"Cs3Sb2I9\", \"HfTiF6\", \"YbKSe2\", \"NaGe3P3\", \"AgF\", \"SrAl\", \"InSb\", \"In3Bi7(Pb2S9)2\", \"TlSbS2\", \"CaMg2N2\", \"RePO5\", \"Zn6S5Cl2\", \"Zn3In2S6\", \"Pb3BiP3O12\", \"BaAu2\", \"RbF\", \"CeMn0.5OSe\", \"In2Se\", \"Cu2Ta4O11\", \"GaAs0.2Sb0.8\", \"GaAs0.7Sb0.3\", \"Ce3Al\", \"Na2GeIn2Se6\", \"RbCu2SbS3\", \"PmLi2Al\", \"Li4VF7\", \"NbIrSn\", \"Li4.5Fe0.5TeO6\", \"SrSnO3\", \"ThGe2Pd2\", \"Tm2ZnGa\", \"InAs\", \"Re3As7\", \"MgFe2S4\", \"CdIn2Se4\", \"Gd1.05Sc0.95Se3\", \"Cu3NbSe4\", \"CuCN2\", \"TlScTe2\", \"InAs\", \"LiNi4O8\", \"Mn2Nb\", \"TlBr\", \"Pr2YbCuS5\", \"InAs\", \"ZnIn2S4\", \"Li3Mn(CuO3)2\", \"Nd2Sn3Se9\", \"Nd1.33Lu0.67S3\", \"AsI3\", \"NdCr2Si2\", \"CdS0.35Se0.65\", \"La2O3\", \"Y3GaS6\", \"Pb6B4O13H2\", \"MnO\", \"Li4Co3CuO8\", \"GaFeNi2\", \"NaI\", \"GaAs\", \"ZnS\", \"CoSb3\", \"YbAg2\", \"Er5Bi3\", \"HfTl3\", \"Zn0.5Cd0.5Se\", \"TlPS2\", \"InSb0.99As0.01\", \"Al2CoIr\", \"Ce2SiSeO4\", \"Cs3Nb2AsSe11\", \"TiS2\", \"LaNi12B6\", \"Tl2TeI6\", \"NaBiS2\", \"CuIn3Se5\", \"BaAuI5O15\", \"PdSe2\", \"Ti2TcNi\", \"Fe10O9F11\", \"CsInTe3O8\", \"BaHgSe2\", \"CsCd4In5Te12\", \"BaTiO3\", \"Gd3S4\", \"RbBiSe2\", \"ZnO\", \"SbSI\", \"CdSiP2\", \"BaCuSbS3\", \"Cs2Ta2P2Se12\", \"Cr2P3O11\", \"Hg0.2Zn0.8Te\", \"YDyAg2\", \"KNb2Se\", \"SbI3\", \"Ba2InYTe5\", \"BiOI\", \"Sc3GaC\", \"ScAlNi2\", \"CsAu\", \"Rb3Al3Ge7Se20\", \"AlSb\", \"K4C2O3\", \"TbBe13\", \"CdIO3Cl\", \"La2In\", \"Ba3P3O10Cl\", \"ZnIn2S4\", \"PbCdP4O12\", \"Rb4Ag9Sb4S12\", \"Rb2AgPS4\", \"YbGa2S4\", \"NaInSe2\", \"Sm3Al\", \"Sn2WO5\", \"LiB3O5\", \"SrPb3Br8\", \"TiO2\", \"PbTe\", \"TlBiTe3\", \"Ti2Cd\", \"Ho3Pd2\", \"Pb0.95Ge0.05Se\", \"V5SiB2\", \"U3Nb\", \"CdSe\", \"MnSi\", \"YHg2\", \"Th2CrN3\", \"Ca5Sn4S13\", \"YbGeRh\", \"HgTe\", \"K2CuVS4\", \"RbNbSe2O7\", \"Pb0.999TeTl0.001\", \"U2SnRh2\", \"GeS\", \"Ba2SmCu3O7\", \"Pm2LiSi\", \"Li3Mo2P5O18\", \"RbF3\", \"CeMn2Si2\", \"Cu0.01In1.99Se2.99\", \"CaGa3Ni2\", \"SmTe\", \"K4Nb2S11\", \"PrIn3S6\", \"ZnFe2N2\", \"In2Bi3Se7I\", \"HgTe\", \"Ag2SnS3\", \"Zn0.55Hg0.45Se\", \"HoSb2O6\", \"Ba3PN\", \"SnSe\", \"Mg2Sn\", \"GeRh\", \"Hg5AsS2I3\", \"Mn2GeS4\", \"CdTe\", \"Sr2V2Se3O15\", \"CdPt\", \"Ba2HgS5\", \"ErCu\", \"ErIn3S6\", \"LiTlPd2\", \"Mg2CrN2\", \"Sr2YReO6\", \"GdNiO3\", \"KI\", \"TaGaSe2\", \"TmCoSi2\", \"Cu0.15In1.85Se2.85\", \"USbSe\", \"NaNO2\", \"Ce5Si3N9\", \"ZnS\", \"CrSb2\", \"RhAs2\", \"HgSc\", \"Na2GdP2O8\", \"Lu7Te2Pd2\", \"TbGe2Pd2\", \"Pr6Fe13Si\", \"Ba2In2S5\", \"LaSi2Ru\", \"InSb0.5As0.5\", \"ZnIn2S4\", \"Cd2V2Te2O11\", \"V2ZnO4\", \"Ca5Bi14O26\", \"Tm2MgTl\", \"KYTe2O6\", \"Er2Te3\", \"RbSbSe2\", \"LiSm3SiS7\", \"Ba1.88Ta15O32\", \"GaSe\", \"DyBiPt\", \"Eu2O3\", \"GaTe\", \"Cu2Se\", \"K4GeP4Se12\", \"CuBr\", \"CdS\", \"Pr10OSe14\", \"GdScS3\", \"K2Mo2Se2O11\", \"PmCdPd2\", \"YCdPt2\", \"InSb\", \"DyInPt2\", \"Co7Re17O48\", \"MnCu2Sn\", \"IrSSe\", \"InSb2Se4Br\", \"BiI3\", \"Li4.5Mn0.5TeO6\", \"Li4HgGe2S7\", \"ScRh\", \"Zn2BIr2\", \"Cu2Se\", \"GaAs0.2P0.8\", \"PbTe\", \"Mg2Si\", \"CeAl2Pt3\", \"TmThRu2\", \"SnS\", \"YNi4B\", \"ZnTc\", \"NdSn2\", \"PbSnS3\", \"CdGeAs2\"], \"x\": [1.1, 3.12, 1.45, 1.3, 0.15, 3.56, 0.0, 0.0, 0.0, 0.0, 1.8, 2.0, 0.0, 0.0, 2.26, 0.95, 2.3, 0.0, 0.0, 3.4, 0.46, 0.0, 0.0, 1.9, 2.54, 0.0, 2.05, 0.0, 1.1, 1.18, 1.51, 0.0, 0.0, 0.0, 0.0, 0.0, 3.46, 1.4, 3.02, 0.0, 0.19, 2.15, 4.6, 6.0, 0.28, 1.77, 2.05, 0.0, 0.45, 1.67, 0.0, 4.0, 1.44, 2.04, 0.0, 0.5, 0.0, 0.9, 0.0, 2.05, 0.68, 0.0, 3.14, 6.2, 2.18, 0.34, 0.0, 0.0, 0.0, 0.0, 2.3, 1.39, 0.0, 0.2, 3.52, 1.8, 1.41, 2.14, 0.0, 2.78, 3.0, 0.59, 1.2, 0.0, 0.0, 2.17, 4.0, 0.5, 1.26, 2.2, 1.31, 1.6, 1.27, 2.19, 1.25, 0.0, 1.32, 3.49, 1.2, 3.0, 0.0, 1.51, 4.39, 0.0, 3.0, 1.1, 0.0, 0.6, 0.0, 0.25, 0.0, 0.9, 2.4, 2.94, 1.7, 1.92, 1.96, 0.0, 0.0, 0.0, 2.28, 0.0, 1.92, 0.65, 0.0, 2.54, 1.51, 2.4, 2.43, 2.35, 0.0, 1.33, 0.0, 0.0, 0.0, 0.6, 0.0, 0.0, 0.0, 3.1, 0.0, 0.3, 2.3, 0.0, 0.0, 0.71, 0.0, 0.0, 2.6, 3.7, 0.0, 2.61, 0.0, 1.35, 0.64, 4.84, 0.5, 0.35, 0.0, 1.4, 0.0, 0.0, 0.0, 0.0, 1.07, 0.19, 3.4, 0.0, 0.0, 0.0, 2.0, 0.0, 0.68, 1.92, 0.5, 1.43, 0.8, 0.0, 0.14, 2.04, 3.02, 0.81, 1.78, 0.0, 0.0, 3.01, 0.0, 0.0, 0.0, 1.2, 0.0, 0.0, 1.57, 0.47, 0.0, 0.26, 0.0, 0.21, 0.0, 1.68, 0.0, 0.0, 3.99, 2.6, 1.98, 0.0, 1.4, 10.5, 0.96, 6.89, 0.79, 3.73, 0.0, 0.0, 3.25, 4.35, 0.58, 0.0, 0.0, 1.7, 1.97, 0.0, 1.37, 1.42, 1.75, 0.0, 0.0, 1.0, 1.2, 1.6, 0.0, 4.17, 3.46, 1.6, 1.22, 2.96, 0.0, 2.58, 1.0, 0.9, 3.7, 2.9, 0.0, 0.0, 5.69, 2.53, 0.67, 1.8, 0.0, 0.0, 1.69, 2.78, 1.9, 2.08, 2.73, 6.09, 1.14, 0.0, 0.0, 0.0, 0.73, 0.0, 4.0, 0.0, 0.34, 3.52, 0.0, 0.0, 0.95, 1.52, 0.0, 2.7, 0.13, 1.23, 0.13, 4.04, 2.6, 2.3, 0.96, 2.29, 3.67, 0.0, 0.24, 1.67, 1.43, 3.44, 1.95, 3.58, 1.65, 2.64, 0.58, 1.4, 0.02, 0.15, 1.05, 2.32, 3.25, 0.35, 3.24, 2.2, 0.22, 0.0, 0.3, 0.0, 3.97, 0.0, 3.93, 1.99, 1.18, 2.06, 2.8, 2.04, 0.0, 0.0, 3.27, 1.62, 2.63, 0.95, 0.0, 0.0, 2.2, 0.18, 0.0, 0.0, 0.29, 0.0, 0.0, 0.11, 0.0, 6.53, 0.0, 0.0, 1.3, 0.0, 0.0, 2.3, 3.16, 0.46, 0.37, 1.18, 1.55, 0.65, 8.5, 0.0, 3.07, 0.0, 1.61, 1.64, 2.42, 0.0, 1.1, 1.3, 0.0, 0.0, 2.3, 3.44, 3.15, 0.0, 0.0, 0.0, 0.0, 0.0, 0.0, 0.0, 0.0, 1.6, 0.0, 0.0, 1.22, 0.0, 5.47, 0.35, 0.0, 0.0, 1.45, 2.46, 2.6, 0.0, 2.01, 1.28, 0.0, 0.18, 3.26, 0.57, 1.3, 3.25, 1.75, 1.36, 0.0, 0.0, 0.0, 2.12, 0.9, 0.0, 0.0, 3.8, 5.38, 3.7, 2.79, 0.0, 0.45, 0.0, 3.14, 2.0, 6.25, 2.56, 0.0, 0.0, 0.0, 1.76, 2.23, 1.63, 1.83, 1.65, 2.04, 3.6, 0.0, 0.0, 1.22, 0.0, 2.73, 2.61, 0.98, 0.21, 0.0, 0.43, 2.64, 0.0, 0.0, 0.0, 0.0, 0.18, 0.2, 0.22, 2.0, 0.0, 1.25, 1.66, 0.0, 3.1, 0.0, 0.71, 3.44, 0.0, 0.0, 0.36, 0.61, 0.7, 1.67, 2.17, 0.0, 0.0, 0.0, 2.06, 2.6, 0.81, 3.1, 1.2, 2.41, 1.66, 1.18, 0.0, 0.29, 0.0, 0.0, 2.17, 6.28, 2.0, 2.9, 5.76, 2.6, 0.0, 2.4, 2.18, 0.0, 0.0, 1.52, 0.0, 2.64, 6.0, 4.87, 2.0, 1.52, 1.07, 0.0, 0.0, 2.85, 2.34, 0.12, 3.26, 2.35, 5.54, 2.35, 0.76, 0.0, 0.0, 0.56, 0.0, 0.0, 0.0, 0.88, 1.93, 0.0, 2.83, 2.99, 2.25, 2.54, 1.37, 3.03, 5.7, 1.1, 1.43, 0.0, 2.6, 3.59, 0.0, 0.0, 0.22, 2.1, 0.0, 1.4, 0.0, 0.0, 0.45, 0.0, 0.27, 0.0, 0.0, 0.0, 0.0, 0.0, 0.0, 0.0, 0.0, 3.5, 0.0, 0.0, 0.0, 2.32, 0.0, 2.58, 0.0, 0.0, 3.0, 0.64, 1.59, 2.3, 0.7, 0.0, 0.0, 1.2, 1.37, 0.0, 0.0, 1.36, 3.25, 1.4, 0.0, 0.0, 1.94, 2.53, 0.68, 1.89, 0.0, 1.12, 1.63, 2.21, 0.5, 2.1, 1.27, 0.0, 1.66, 4.99, 1.8, 0.27, 1.45, 2.22, 0.0, 3.62, 2.8, 0.43, 0.0, 0.0, 2.9, 0.0, 1.38, 0.0, 0.0, 0.0, 0.0, 2.35, 2.22, 0.0, 2.54, 0.2, 0.39, 1.5, 2.38, 0.12, 0.0, 0.85, 0.0, 0.95, 0.0, 0.27, 1.26, 1.76, 0.31, 0.0, 0.0, 1.94, 1.0, 1.78, 0.33, 1.29, 0.0, 2.4, 0.0, 0.0, 0.0, 0.0, 0.0, 0.0, 1.29, 2.07, 0.0, 1.8, 0.0, 1.1, 0.0, 0.0, 0.45, 0.0, 0.0, 0.0, 0.0, 0.22, 0.0, 0.26, 3.47, 1.5, 0.15, 2.23, 0.5, 0.0, 0.0, 2.17, 1.27, 0.0, 2.03, 0.0, 1.67, 0.0, 2.5, 0.0, 0.95, 1.51, 2.82, 3.3, 0.0, 1.9, 1.7, 4.77, 0.91, 0.0, 3.44, 4.44, 1.5, 1.58, 2.19, 1.72, 0.0, 0.0, 0.0, 2.3, 0.0, 2.11, 0.0, 0.29, 0.0, 0.0, 0.19, 0.95, 6.97, 1.13, 0.0, 2.16, 0.0, 1.0, 2.46, 0.0, 1.96, 0.0, 3.1, 4.64, 1.5, 0.0, 1.1, 0.0, 0.0, 1.18, 0.0, 1.09, 3.0, 0.21, 0.0, 0.0, 0.0, 0.14, 0.0, 1.3, 0.0, 2.34, 2.5, 3.22, 0.38, 0.0, 1.3, 2.64, 0.0, 2.0, 0.0, 0.0, 0.0, 0.2, 0.0, 1.18, 1.42, 2.31, 1.08, 0.0, 0.0, 0.7, 6.26, 0.0, 0.0, 0.0, 1.2, 0.0, 1.0, 0.3, 1.08, 0.0, 2.2, 4.13, 0.0, 0.0, 1.5, 0.0, 1.81, 3.6, 3.37, 1.76, 0.0, 2.4, 1.83, 0.0, 0.0, 0.0, 0.0, 2.06, 0.0, 0.0, 2.0, 3.87, 0.28, 0.0, 3.1, 3.38, 0.0, 3.1, 2.85, 2.52, 1.2, 0.55, 1.15, 2.03, 0.0, 2.6, 0.1, 2.14, 0.0, 7.03, 3.21, 2.6, 0.0, 0.0, 0.0, 0.0, 1.24, 4.17, 2.1, 1.29, 2.38, 0.11, 0.0, 1.79, 0.0, 2.04, 2.0, 3.54, 0.0, 0.0, 0.7, 0.0, 0.0, 0.0, 2.41, 6.0, 0.0, 2.8, 3.4, 1.8, 0.0, 0.0, 0.0, 0.0, 3.23, 0.0, 0.0, 0.0, 3.48, 1.65, 0.0, 0.0, 0.0, 2.44, 2.3, 0.0, 2.66, 0.0, 0.0, 0.0, 2.6, 2.04, 0.25, 2.06, 0.2, 0.0, 4.76, 2.73, 0.0, 0.0, 0.0, 0.0, 0.0, 0.0, 3.5, 1.74, 1.2, 1.52, 4.85, 2.17, 0.0, 0.0, 1.3, 1.51, 2.87, 3.56, 0.0, 1.9, 2.66, 0.0, 0.24, 4.45, 0.0, 0.0, 0.0, 3.41, 0.0, 0.0, 3.7, 1.25, 0.26, 0.0, 0.0, 1.01, 0.0, 0.0, 0.0, 0.0, 2.9, 1.0, 1.98, 2.91, 7.5, 3.48, 0.41, 1.71, 0.0, 0.85, 2.14, 0.0, 1.23, 3.85, 0.0, 2.3, 0.6, 0.0, 3.2, 2.92, 0.04, 1.95, 0.47, 2.2, 0.0, 1.52, 0.0, 1.8, 2.48, 0.16, 0.0, 1.45, 0.0, 0.0, 2.29, 0.0, 2.46, 0.42, 0.0, 3.2, 2.1, 0.0, 0.0, 0.0, 0.0, 1.1, 1.8, 0.0, 1.81, 2.53, 0.0, 0.48, 0.0, 0.0, 3.7, 0.0, 0.0, 0.3, 1.25, 1.02, 0.0, 0.0, 0.0, 4.85, 1.4, 2.44, 2.86, 0.0, 3.1, 0.93, 4.5, 0.95, 1.47, 0.0, 0.0, 0.0, 1.63, 1.31, 0.0, 0.0, 1.72, 0.0, 3.05, 0.0, 0.0, 1.35, 1.4, 0.3, 0.0, 2.38, 1.15, 0.0, 1.45, 0.0, 0.0, 0.0, 1.96, 1.5, 1.7, 0.0, 0.0, 2.49, 0.0, 2.82, 0.0, 2.3, 0.0, 6.43, 0.0, 0.28, 2.0, 3.46, 0.0, 9.92, 0.0, 1.15, 0.0, 0.0, 0.0, 0.0, 0.99, 1.63, 1.8, 2.8, 2.98, 1.4, 0.0, 0.0, 0.0, 1.89, 0.0, 0.0, 2.06, 2.8, 0.0, 0.18, 0.0, 1.42, 3.25, 0.0, 2.71, 2.8, 3.7, 0.0, 10.4, 2.01, 0.69, 2.6, 1.02, 0.67, 0.0, 2.47, 1.67, 0.0, 0.0, 0.28, 3.25, 4.1, 0.0, 0.0, 0.42, 0.0, 0.0, 1.3, 1.2, 2.45, 0.0, 0.85, 0.35, 0.0, 0.0, 3.4, 1.25, 0.43, 2.68, 0.0, 0.5, 1.5, 2.54, 0.0, 1.93, 5.4, 2.88, 3.24, 3.6, 0.0, 0.0, 6.75, 1.48, 3.58, 0.49, 0.0, 0.0, 0.0, 2.9, 1.7, 0.35, 0.0, 0.0, 1.35, 1.95, 0.0, 1.47, 0.42, 0.6, 2.32, 0.4, 0.0, 0.0, 3.9, 1.56, 1.42, 2.96, 0.0, 0.72, 3.25, 1.92, 2.2, 2.0, 2.29, 0.0, 1.4, 0.0, 0.0, 2.49, 1.36, 1.89, 0.0, 0.0, 2.3, 2.4, 1.7, 0.0, 0.0, 4.3, 0.0, 6.89, 2.8, 4.87, 2.0, 2.6, 2.3, 2.8, 0.0, 2.6, 7.75, 3.2, 3.3, 0.21, 0.5, 0.0, 0.0, 0.28, 0.0, 0.0, 1.74, 0.6, 0.0, 0.0, 0.0, 0.0, 0.18, 1.82, 4.1, 0.3, 0.0, 1.77, 0.0, 0.0, 0.0, 0.0, 0.0, 1.45, 0.0, 0.35, 2.42, 1.14, 0.0, 1.38, 0.19, 1.26, 0.8, 0.0, 0.0, 0.91, 0.3, 0.0, 1.57, 0.0, 1.65, 2.96, 0.0, 2.4, 0.0, 1.28, 0.0, 0.0, 0.0, 0.0, 6.25, 1.65, 0.0, 1.32, 0.0, 3.13, 0.0, 3.78, 0.14, 1.15, 0.24, 4.19, 0.0, 0.0, 0.0, 2.47, 0.0, 0.1, 2.86, 2.48, 0.0, 2.6, 0.0, 3.8, 0.9, 1.62, 2.83, 0.13, 2.12, 0.0, 4.5, 1.69, 1.29, 2.0, 3.02, 2.57, 1.89, 2.1, 3.3, 0.0, 0.0, 0.27, 0.0, 0.0, 0.0, 1.2, 1.35, 2.03, 1.97, 2.75, 0.0, 0.0, 1.3, 2.2, 0.36, 2.27, 0.0, 0.0, 1.26, 0.0, 2.37, 0.0, 0.9, 0.41], \"y\": [0.690589466089466, 2.629758616383615, 0.9056918914418914, 0.2900291375291375, 0.11320923520923522, 2.570046897546898, 0.0, 0.0, 1.546703056203056, 0.0, 1.1917935578913843, 0.0, 0.0, 0.0, 1.1134910220214562, 0.10523051948051947, 1.8848888888888888, 0.0, 0.0, 0.0, 0.0, 0.0, 0.0, 1.5799336219336217, 1.6114819624819616, 0.0, 1.7929624819624816, 0.0, 1.1418681096681094, 0.0, 0.9985854788486367, 0.0, 0.0, 0.0, 0.0, 0.0, 2.7980624098124105, 0.0, 2.629758616383615, 0.0, 0.0, 1.8258701298701296, 3.4476269841269827, 3.468421560323734, 0.05658946608946609, 1.5128470418470419, 1.550719086469086, 2.1222730880230887, 0.3718252482811306, 1.0023882395382397, 0.0, 3.3043055555555556, 0.9985854788486367, 1.8446605410692383, 0.0, 0.3493924963924966, 0.0, 0.40901154401154416, 0.0, 0.8765193417693419, 0.019326839826839828, 0.0, 2.4270555555555555, 4.81529292929293, 1.3891542069042069, 0.0, 0.0, 0.0, 0.0, 0.0, 0.0, 1.1483243145743145, 0.0, 0.007361111111111111, 0.0, 1.2639265179265182, 1.30927453102453, 2.0215352898735257, 0.0, 1.6610183982683975, 3.3112806637806638, 0.09394480519480516, 0.3947406204906204, 0.0, 0.0, 1.9865609668109665, 3.307106139030052, 0.1670909090909091, 0.9980890269151139, 0.8705930014430013, 0.9521428571428571, 1.0988531566472743, 0.9703970401280264, 1.6794931457431463, 0.6853614718614718, 0.0, 0.9474797979797978, 2.9978931369926802, 0.9922277722277723, 1.7998373015873017, 0.0, 0.31705627705627704, 2.609329365079365, 0.0, 1.5783156565656562, 0.38893509268509263, 0.0, 0.08121464646464646, 0.0, 0.006348039215686274, 2.3270082972582977, 0.2971129148629149, 1.999195165945166, 2.4689242424242406, 0.9901367243867246, 1.0263455988455994, 1.2019610389610391, 0.0, 0.0, 0.0, 0.9495814574314574, 0.0, 0.0, 0.2323708513708513, 1.042689033189033, 1.9470472582972587, 1.0030113636363638, 2.3349743867243875, 1.9430404040404041, 1.6591475468975463, 0.0, 2.280428550207961, 0.0, 0.0, 0.0, 0.6764106824548, 0.0, 0.0, 0.0, 2.5612759740259734, 0.0, 0.006348039215686274, 1.3461496392496393, 0.43793867243867246, 0.0, 0.045636363636363635, 0.0, 0.0, 2.447137834387834, 3.0076181139122315, 0.0, 1.8196551226551225, 0.0, 0.9703970401280264, 0.18667414228283796, 3.6586774891774887, 0.29697979797979795, 0.0, 0.0, 1.2364188311688313, 0.0, 0.0, 0.0, 0.0, 1.13576443001443, 0.0, 3.0154780219780206, 0.0, 0.0, 0.0, 1.2277725885225885, 0.0, 0.35419191919191917, 1.0888946608946606, 0.2323708513708513, 0.8052478354978355, 0.21356746031746032, 0.0, 0.004242424242424242, 2.3343961038961036, 1.8395945165945164, 0.0024313725490196073, 1.1468246753246758, 0.0, 0.0, 1.6988982683982692, 0.0, 0.0, 0.0, 0.6318881673881672, 0.0, 0.0, 0.7440436507936506, 0.2526259018759019, 1.2382439925571507, 0.0, 0.0, 0.0, 0.0, 0.9901367243867246, 0.0, 0.0, 4.396638167388168, 2.0317983405483404, 1.1446463916200758, 0.0, 1.2154181096681098, 9.60943903318904, 0.14995165945165936, 5.41869191919192, 0.19003707403707396, 2.223500360750362, 0.0, 0.0, 2.8098878066378057, 3.221000000000001, 0.0010526315789473684, 0.0, 0.0, 1.6751701957462826, 2.1889657287157305, 0.0, 1.1783362193362192, 2.1839285714285714, 1.0542637085137083, 0.0, 0.0, 0.7756883116883115, 1.0824541847041846, 1.2041396103896105, 0.0, 3.0597334054834056, 3.0075251415251416, 0.9535757559434033, 0.3801906204906205, 3.089901154401155, 0.0, 1.9973759500303612, 0.9842554112554107, 0.5139956709956709, 3.0076181139122315, 2.200134670884671, 0.0, 0.0, 3.0584203525942657, 2.000418115942029, 0.5135613275613276, 1.0009159174159175, 0.0, 0.0, 1.0421302308802307, 2.0009839160839165, 1.607444083694083, 1.3111280663780662, 1.9819357864357858, 5.382458152958155, 0.6990634088134087, 0.0, 0.0, 0.0, 0.0872752525252525, 0.0, 3.1997669552669556, 0.0, 0.007591991341991341, 2.767950216450217, 0.0, 0.3053166000666001, 0.248741341991342, 0.9985854788486367, 0.0, 0.0, 0.0, 1.015517676767677, 0.6368184315684318, 3.470461017740429, 1.4448876262626265, 1.8168607503607501, 0.19003707403707396, 2.3443816738816734, 4.516832972582974, 0.0, 0.004242424242424242, 1.1342586580086584, 0.9712909729159732, 2.9978931369926802, 1.7906209901209902, 3.257631313131313, 1.0988531566472743, 2.358901515151516, 0.005743589743589743, 0.6175970418470417, 0.0, 0.011396825396825397, 0.494141414141414, 1.5101789321789318, 0.0, 0.018603896103896105, 3.0154780219780206, 0.0, 0.0, 1.4246334776334777, 0.01742135642135642, 0.0, 3.75567352092352, 0.0, 4.407071428571428, 1.7713722943722947, 0.7518962703962707, 2.265117243867243, 1.561958513708514, 1.6813676046176045, 0.0, 0.0, 1.900360750360751, 1.0030113636363638, 1.8271919191919195, 0.3841392496392495, 0.0, 0.0, 1.5263507770007763, 0.0, 0.0, 0.0, 0.04036111111111111, 0.0, 0.0, 0.004242424242424242, 0.0, 5.56988924963925, 0.0, 0.0, 0.8583434343434345, 0.0, 0.0, 1.2461266233766237, 2.4733405483405484, 0.0, 0.021209150326797387, 0.6201393328893328, 1.3359343434343438, 0.19003707403707396, 7.970222222222216, 0.0, 2.629758616383615, 0.0, 1.8304880762512343, 1.995579170829171, 2.451334221334223, 0.0, 0.9127006556245689, 0.9703970401280264, 5.706375541125542, 0.76425, 1.5605656565656563, 3.0154780219780206, 2.605000038686804, 0.0, 0.0, 0.0, 0.0, 0.0, 0.0, 0.0, 0.0, 1.0481443899238017, 0.0, 0.0, 0.6427738095238094, 0.0, 4.112809962983877, 0.0016666666666666666, 0.0, 0.0, 1.7719653679653677, 2.3349743867243875, 2.3251897546897546, 3.3194711399711387, 1.4872864357864353, 0.7825292207792203, 0.0, 0.0, 2.7249790764790776, 0.19003707403707396, 0.91837987012987, 3.0154780219780206, 1.8084335664335671, 1.1621408226276646, 0.0, 0.0, 0.0, 1.8501414141414143, 0.45498237873237884, 0.0, 0.0, 3.1016610750360747, 4.091290121714036, 2.4522641084405796, 2.6642561327561323, 0.0, 0.0016666666666666666, 0.0, 2.4513297894915542, 1.681534451659451, 5.884581890331898, 2.0009839160839165, 0.0, 0.0, 0.0, 1.2120043179043178, 1.7571911976911985, 1.0009159174159175, 0.8751577589077594, 0.946290764790765, 1.1464538239538238, 3.0154780219780206, 0.0, 0.0, 0.9771769896769896, 2.988795815295815, 2.0032950937950944, 1.5109098124098117, 1.1418681096681094, 0.0, 0.0, 0.6145324675324675, 1.9706327561327563, 0.0, 1.5806645021645023, 0.0, 0.0, 0.0, 0.0, 0.0, 1.1795508658008658, 0.0, 0.04338307890939469, 1.2946367031661152, 0.0, 3.064546176046175, 0.0, 0.19003707403707396, 2.9978931369926802, 0.0, 0.0, 0.0, 0.2323708513708513, 0.0, 1.1134910220214562, 1.3089491341991346, 0.0, 0.0, 0.0, 2.231408147408147, 1.977018037518037, 0.07774278499278499, 3.512972582972584, 0.9102098782859653, 1.87729329004329, 0.6990512987012988, 0.8144206349206347, 0.0, 0.003431372549019608, 0.0, 0.0, 1.8084335664335671, 6.019148268398269, 0.0, 2.30325505050505, 4.291194444444444, 1.8044835164835171, 0.0, 1.8406096681096682, 1.6430663780663772, 0.0, 0.0, 1.2508726551226552, 0.0, 2.0009839160839165, 4.998601370851375, 4.1898333333333335, 1.5705057720057718, 0.9985854788486367, 0.25263114663114666, 0.0, 0.0, 1.9342352092352093, 2.0317514430014434, 0.0, 3.4122575757575753, 2.0009839160839165, 4.746007575757577, 2.411249278499278, 0.0, 0.0, 2.9831496003995994, 0.19003707403707396, 0.0, 0.0, 0.0, 0.3201038406038404, 1.792342352092352, 0.732906204906205, 1.8669985569985559, 1.9981540404040405, 1.9946936274509803, 1.8555018037518038, 0.6853614718614718, 1.8269743867243866, 5.664591269841271, 0.8176401098901096, 1.2356608946608945, 0.0, 1.9171492784992785, 2.570046897546898, 0.0, 0.0, 0.018603896103896105, 1.6265205627705623, 0.0, 0.8037561327561327, 0.0, 0.0, 0.4637925685425685, 0.0, 0.0, 0.0, 0.0, 0.0, 0.0, 0.0, 0.0, 0.0, 0.0, 1.9094776334776327, 0.0, 0.0, 0.0, 2.129172799422799, 0.0, 2.000418115942029, 1.015556277056277, 0.0, 2.46203835053835, 1.2642410351086821, 0.928631673881674, 1.8296908369408365, 0.3879108946608946, 2.2311717171717165, 0.0, 1.0996176046176045, 0.8877990620490622, 0.0, 0.0, 0.9703970401280264, 2.813102832839675, 1.0355733988233988, 0.9042852813852816, 0.0, 1.3214188311688313, 2.129172799422799, 0.669945165945166, 2.01171005791594, 0.0, 1.3944599567099567, 1.436838816738817, 1.8523242868242868, 0.5699347041847043, 2.227087662337662, 0.9662683982683979, 0.0, 0.9354898989898988, 2.975850288600289, 0.9915764790764792, 0.005833333333333333, 1.218274531024531, 1.4199532134532138, 0.0, 3.0562027417027426, 2.7054646464646455, 0.28324386724386724, 0.0, 0.0, 1.6238632756132763, 0.0, 1.0356316738816738, 0.0, 0.0, 0.0, 2.6719973914973925, 1.9830450937950932, 1.892323593073593, 0.0, 1.6725353535353527, 0.0, 0.0031932773109243696, 1.1415357142857143, 1.6590779220779224, 0.0, 0.26336355311355314, 0.3841392496392495, 0.0, 0.0, 0.0, 0.006348039215686274, 0.8801612554112558, 0.0, 0.0, 0.0, 0.0, 1.1076107503607506, 0.32513492063492067, 1.0009159174159175, 0.0, 1.5572709235209228, 0.0, 1.3737962974223845, 0.0, 0.7586308136308137, 0.0, 0.0, 0.0, 0.0, 0.9703970401280264, 1.4996919191919196, 0.0, 0.7616526529026529, 0.0, 0.5676616161616161, 0.0, 0.0, 2.2393127705627704, 0.0, 0.0, 0.0, 0.0, 0.0, 0.0, 0.03597835497835498, 3.0075251415251416, 1.0096118326118322, 0.013999999999999999, 1.7650629925629928, 1.6144289321789316, 0.0, 0.0, 1.377864468864469, 1.3233696736270266, 0.0, 1.7571911976911985, 0.0, 0.5494193722943721, 1.6026424963924961, 2.000418115942029, 0.0, 0.13341197691197693, 0.9985854788486367, 2.030322012138189, 2.6516197691197694, 0.0, 1.5799336219336217, 1.1332563449622273, 3.9797135642135646, 0.45842091242091265, 0.0, 2.881707792207791, 3.5348495670995677, 0.0, 0.8916287878787879, 1.6459422799422798, 1.7302371412806203, 0.0, 0.0, 0.0, 0.0, 0.0, 1.4302110389610387, 0.0, 0.380589826839827, 2.949255022755023, 2.1587777777777775, 0.004242424242424242, 1.396849206349206, 6.4923588078588095, 0.6990634088134087, 0.0, 1.7261291486291495, 0.0, 0.6744396159396154, 1.9691630591630591, 0.0, 1.5577730880230882, 0.0, 1.561958513708514, 3.809170274170274, 1.5190613275613276, 0.0, 1.1429465765715765, 0.0, 0.0, 0.8298993506493507, 0.0, 0.8721432178932179, 2.0461479076479074, 0.0009090909090909091, 0.0, 0.0, 0.0, 0.0, 0.0, 0.0, 0.0, 2.0662554112554115, 1.9973759500303612, 3.0169751082251075, 0.11736075036075036, 0.0, 0.6660292207792209, 2.629758616383615, 0.0, 1.175653976742212, 0.0, 0.0, 0.0, 0.3623651071151071, 0.0, 0.8922027417027414, 0.9980890269151139, 1.6850717893217892, 0.9246214896214895, 0.0, 0.0, 1.1081666666666665, 5.884581890331898, 0.0, 0.0, 0.0, 0.8910008602508603, 0.0, 0.6318881673881672, 0.03389069264069264, 0.675961845344198, 0.0, 1.879306998556998, 2.3511075036075035, 0.0, 0.0, 1.1429465765715765, 0.0, 0.9411432178932181, 2.8366505994005977, 2.429616883116883, 1.1890704850704852, 0.0, 2.0351648629148626, 1.1134910220214562, 0.0, 0.0, 0.0, 0.0, 1.0389742545036669, 0.0, 0.0, 1.0511341991341987, 3.444792568542567, 0.0, 0.0, 2.816726551226551, 0.0, 0.0, 3.0624650072150077, 1.561958513708514, 2.451334221334223, 1.1143131313131316, 0.0, 1.1077352092352093, 1.1785007215007217, 0.0, 3.070070346320345, 0.0, 1.6225121933621927, 0.0, 6.4923588078588095, 3.016784547152195, 2.000418115942029, 0.0, 0.0, 0.0, 0.0, 0.9885934343434342, 3.6679554791613627, 1.8446605410692383, 0.9309660894660897, 1.9668488455988458, 0.47857822732822713, 0.0, 1.6831843434343443, 0.0, 1.9786284271284267, 0.592969474969475, 2.780463203463203, 0.0, 0.0, 0.0, 3.0793514492753618, 0.0, 0.0, 2.000418115942029, 4.311250721500722, 0.0, 2.1121201780245897, 1.393515151515151, 1.4468531746031745, 0.0, 0.0, 0.0, 0.0, 2.8817000360750358, 0.0, 0.0, 0.0, 2.563799783549784, 0.9169483433233432, 1.7368401875901873, 0.0, 0.0, 1.886522727272727, 1.6320959595959592, 0.6138437950937954, 2.3253719972837614, 0.0, 0.0, 0.0, 1.7149709298871068, 1.375496753246753, 0.5110093795093795, 1.4430998445998446, 0.3932590187590187, 0.0, 3.9525670995670987, 1.9819357864357858, 0.0, 0.0, 0.0, 0.0, 2.3788303306170953, 0.0, 3.847570707070708, 1.0009159174159175, 0.97402331002331, 0.9985854788486367, 3.982429292929292, 1.8446605410692383, 0.0, 0.0, 1.177248247646074, 0.9985854788486367, 2.030322012138189, 3.004267316017317, 0.38118680502504027, 1.1213744588744592, 2.843080086580087, 0.0, 0.0, 3.5527882395382386, 0.0, 0.0, 0.0, 3.33772619047619, 0.0, 0.9986984126984128, 2.9545328282828276, 1.3655133477633477, 0.03234199134199134, 0.0, 0.0, 0.248741341991342, 0.0, 0.0, 0.0, 0.0, 2.4521179653679654, 0.0, 1.7284354256854257, 2.068641774891775, 6.53042590742591, 3.0154780219780206, 0.008175324675324676, 1.0263455988455994, 0.0, 0.04473520923520923, 1.4559123376623382, 0.0, 0.690589466089466, 3.078854978354979, 0.0, 1.977018037518037, 0.06644336219336221, 0.0, 2.744664502164501, 2.7054646464646455, 0.0, 1.625232467532467, 0.09394480519480516, 1.7620097402597397, 0.0, 1.0027698412698414, 0.0, 1.4386259018759027, 1.846633477633478, 0.011396825396825397, 0.0, 1.1534696275946275, 0.0, 0.0, 1.9946936274509803, 0.0, 1.798976190476191, 0.3493924963924966, 0.0, 2.8608302669552668, 1.4622261904761904, 0.0, 0.0, 0.0, 0.0, 0.1709480241980242, 0.0, 0.0, 1.0714188311688309, 1.9923535353535353, 0.0, 0.08121464646464646, 0.0, 0.0, 2.0104484126984135, 0.0, 0.0, 0.03204974557606136, 0.4375162337662338, 0.675961845344198, 0.9641207792207795, 1.5802478354978353, 0.0, 0.0, 1.0539037645361171, 2.000418115942029, 2.082602841602842, 0.0, 2.3614276418026416, 0.14995165945165936, 2.3060284992784994, 0.9606179653679654, 1.0030113636363638, 0.0, 0.0, 0.0, 1.020592601842602, 0.9861566313676156, 0.9766865079365078, 0.0, 1.0263455988455994, 0.0, 0.0, 0.0, 0.0, 1.0217723665223666, 0.5559296536796537, 0.4282343212343212, 2.6058808674985143, 1.9973759500303612, 0.9944968919968921, 0.0, 1.0203560606060607, 0.0, 0.0, 0.0, 1.2731454460572105, 0.8460129870129864, 1.1274585137085138, 4.909902597402598, 0.0, 2.314817821067821, 0.0, 2.030322012138189, 0.0, 1.9946936274509803, 3.432448051948052, 5.484390331890332, 0.0, 0.0016666666666666666, 1.744489316239316, 3.024211038961039, 0.0, 9.554785353535358, 0.0, 0.675961845344198, 0.0, 0.0, 0.0, 0.0, 0.0, 0.9901367243867246, 1.1134910220214562, 2.4521179653679654, 1.994823890162126, 0.97402331002331, 0.0, 0.0, 0.0, 1.2736143578643584, 0.0, 1.4103376623376622, 1.6300852031263933, 2.4362568542568543, 0.0, 0.0, 1.0005252525252524, 1.0524083694083692, 2.4548629148629133, 3.0593564213564224, 2.5695124458874457, 2.646654012654013, 3.195151154401156, 0.0, 9.60943903318904, 1.160498917748918, 0.12254995360601764, 1.9640995670995678, 0.56730772005772, 0.31063167388167384, 0.0, 1.7650119047619046, 1.1794693362193365, 0.0, 0.0, 0.0, 2.258937950937951, 3.2413232323232313, 0.0, 0.0, 0.0016666666666666666, 0.2810732323232323, 0.0, 1.2308620499383662, 1.139385281385281, 0.6837841991341993, 2.1107777777777783, 0.3101428571428571, 0.0016666666666666666, 0.0, 0.0, 2.629758616383615, 1.1169873737373737, 0.0016666666666666666, 1.9981540404040405, 0.0, 0.450744227994228, 0.9876612554112554, 2.00048961038961, 0.0, 1.5858449153185996, 3.4766696359196367, 1.8889047619047616, 2.776520923520924, 0.0, 0.0, 0.0, 5.059791847041851, 0.9985854788486367, 3.0076181139122315, 0.04616017316017316, 0.0, 0.0, 0.0, 2.366554221921869, 1.1709639249639252, 0.0025, 0.0, 0.0, 1.2032402597402603, 0.9079112554112555, 0.0, 1.384335497835498, 0.08256204906204903, 0.93115873015873, 2.1915292207792207, 0.38188888888888894, 0.0, 0.0, 2.9994509379509378, 1.2022191697191693, 0.818130591630592, 3.0591854256854263, 1.6697705627705626, 0.06669372294372294, 2.9978931369926802, 1.1472771672771684, 1.7261291486291495, 1.3170919913419914, 1.6777741702741702, 0.0, 0.8230306637806636, 0.0, 0.0, 1.892323593073593, 1.123641414141414, 1.8501414141414143, 0.0, 0.0, 0.0, 1.7936694971694969, 1.0988531566472743, 0.0, 0.0, 3.257781385281387, 0.0, 5.140799783549783, 1.9981540404040405, 0.0, 1.7396327977577974, 2.103402958152958, 1.965481060606061, 1.810135547459077, 0.0, 2.3085393217893215, 6.928527056277057, 2.3297009657009657, 2.7826273448773433, 0.0, 0.015523809523809527, 0.0, 0.0, 0.007142857142857142, 0.0, 0.0, 1.1134910220214562, 0.0, 0.0, 0.0, 2.1167031024531027, 0.0, 0.0692420634920635, 1.3604350649350647, 3.355347402597402, 0.002575757575757576, 0.0, 0.9869620379620377, 0.0, 0.0, 0.0, 0.0, 0.0, 0.907387085137085, 0.0, 0.11736075036075036, 1.5577730880230882, 1.0624101731601732, 0.0, 0.823079725829726, 0.0692420634920635, 1.064559523809524, 0.3739181096681098, 2.5217946497946495, 0.0, 0.3201038406038404, 0.0, 0.0, 1.1518791486291484, 2.2310123406005755, 0.9965617475060198, 2.3065876623376633, 0.0, 1.9247748917748913, 0.0, 1.0184689754689753, 0.0, 0.0, 0.0, 0.0, 5.738560606060606, 1.7571911976911985, 0.0, 0.9646616161616163, 0.0, 3.512972582972584, 0.0, 3.0076181139122315, 0.18336075036075036, 0.2084256854256854, 0.0, 3.071659451659451, 0.0, 0.0, 0.0, 1.961666305916306, 0.0, 0.008219696969696969, 1.9981540404040405, 2.4496695526695538, 0.0, 2.65196176046176, 0.0, 3.0929271284271285, 0.1399213564213564, 1.0368326839826842, 1.8365043290043286, 0.9156233766233766, 1.8446605410692383, 0.0, 3.7159354256854256, 1.0009159174159175, 0.690589466089466, 1.8895627705627707, 2.4689242424242406, 2.000418115942029, 1.124422799422799, 1.5172759740259745, 2.874815295815296, 0.0, 0.0, 0.0, 0.0, 0.0, 0.0, 0.4977269119769119, 0.8509810467310466, 1.3166464646464653, 2.6643391053391046, 2.0910584415584417, 0.0, 0.0, 0.690589466089466, 1.788120518370518, 0.0, 1.0529000166500166, 0.0, 0.0, 0.9922277722277723, 0.0, 0.0, 0.0, 1.3108663836163839, 0.2323708513708513], \"type\": \"scatter\", \"uid\": \"54ff6a30-c273-11e8-bce3-c4b301c0ad2d\"}], {\"hoverlabel\": {\"font\": {\"family\": \"Courier\", \"size\": 25.0}}, \"hovermode\": \"closest\", \"legend\": {\"font\": {\"family\": \"Courier\", \"size\": 25.0}}, \"margin\": {\"b\": 50.0, \"l\": 50.0, \"pad\": 0, \"r\": 0, \"t\": 0}, \"paper_bgcolor\": \"white\", \"plot_bgcolor\": \"white\", \"title\": \"\", \"titlefont\": {\"family\": \"Courier\", \"size\": 25.0}, \"xaxis\": {\"tickfont\": {\"family\": \"Courier\", \"size\": 25.0}, \"title\": \"Actual gap (eV)\", \"titlefont\": {\"family\": \"Courier\", \"size\": 25.0}, \"type\": \"linear\"}, \"yaxis\": {\"tickfont\": {\"family\": \"Courier\", \"size\": 25.0}, \"title\": \"Predicted gap (eV)\", \"titlefont\": {\"family\": \"Courier\", \"size\": 25.0}, \"type\": \"linear\"}}, {\"showLink\": true, \"linkText\": \"Export to plot.ly\"})});</script>"
      ]
     },
     "metadata": {},
     "output_type": "execute_result"
    }
   ],
   "source": [
    "from matminer.figrecipes.plot import PlotlyFig\n",
    "pf = PlotlyFig(mode='notebook', margins=0, x_title='Actual gap (eV)', y_title='Predicted gap (eV)')\n",
    "pf.xy([(y_test0, y_pred_prod)], labels=X_test.index)"
   ]
  },
  {
   "cell_type": "code",
   "execution_count": null,
   "metadata": {
    "collapsed": true
   },
   "outputs": [],
   "source": []
  },
  {
   "cell_type": "code",
   "execution_count": null,
   "metadata": {
    "collapsed": true
   },
   "outputs": [],
   "source": []
  },
  {
   "cell_type": "code",
   "execution_count": null,
   "metadata": {
    "collapsed": true
   },
   "outputs": [],
   "source": []
  },
  {
   "cell_type": "code",
   "execution_count": null,
   "metadata": {
    "collapsed": true
   },
   "outputs": [],
   "source": [
    "print(asfgccc) # just to end the notebook"
   ]
  },
  {
   "cell_type": "markdown",
   "metadata": {},
   "source": [
    "## Metal vs. low-gap semiconductor vs. semiconductor vs. insulator classifier"
   ]
  },
  {
   "cell_type": "code",
   "execution_count": null,
   "metadata": {
    "collapsed": true
   },
   "outputs": [],
   "source": [
    "thresholds=(-1000, 0.0, 1.5, 1000.0)\n",
    "df['multi_class'] = df[TARGET]\n",
    "for iclass in range(len(thresholds)-1):\n",
    "    df['multi_class'][(df[TARGET]>thresholds[iclass]) & (df[TARGET]<=thresholds[iclass+1])] = iclass\n",
    "\n",
    "df['multi_class'] = df['multi_class'].astype(int)"
   ]
  },
  {
   "cell_type": "code",
   "execution_count": null,
   "metadata": {
    "collapsed": true
   },
   "outputs": [],
   "source": [
    "from sklearn.model_selection import train_test_split\n",
    "X_train, X_test, y_train, y_test = train_test_split(df_reduced, df['multi_class'], test_size=0.2, random_state=SEED)"
   ]
  },
  {
   "cell_type": "code",
   "execution_count": null,
   "metadata": {
    "collapsed": true
   },
   "outputs": [],
   "source": [
    "y_test.hist();"
   ]
  },
  {
   "cell_type": "code",
   "execution_count": null,
   "metadata": {
    "collapsed": true
   },
   "outputs": [],
   "source": [
    "from sklearn.ensemble import RandomForestClassifier # actually SVC here scores similarly\n",
    "\n",
    "model_multicls = RandomizedSearchCV(estimator=RandomForestClassifier(\n",
    "    class_weight={i:len(df)/sum(df['multi_class']==i) for i in range(len(df['multi_class'].unique()))}), \n",
    "                           random_state=SEED,\n",
    "                           param_distributions=rf_params_dict,\n",
    "                           n_iter=20,\n",
    "                           scoring='f1_weighted',\n",
    "                           cv=cv,\n",
    "                           verbose=1,\n",
    "                           n_jobs=N_JOBS)\n",
    "# with open(os.path.join(CALC_DIR, 'multiclass_classifier_optimized.pickle'), 'rb') as fm:\n",
    "#     model_cls = pickle.load(fm)"
   ]
  },
  {
   "cell_type": "code",
   "execution_count": null,
   "metadata": {
    "collapsed": true
   },
   "outputs": [],
   "source": [
    "model_multicls.fit(X_train, y_train.values)\n",
    "with open(os.path.join(CALC_DIR, 'multiclass_classifier_optimized.pickle'), 'wb') as fm:\n",
    "    pickle.dump(model_cls, fm)"
   ]
  },
  {
   "cell_type": "code",
   "execution_count": null,
   "metadata": {
    "collapsed": true
   },
   "outputs": [],
   "source": [
    "from sklearn.metrics import confusion_matrix\n",
    "from collections import Counter\n",
    "y_pred = model_multicls.predict(X_test)\n",
    "cm = confusion_matrix(y_test, y_pred)/np.array([Counter(y_pred)[i] for i in range(len(thresholds)-1)])"
   ]
  },
  {
   "cell_type": "code",
   "execution_count": null,
   "metadata": {
    "collapsed": true
   },
   "outputs": [],
   "source": [
    "plt.figure(figsize=(10, 8))\n",
    "ax = sns.heatmap(cm, annot=True, cmap='Blues', fmt='.3f', annot_kws={\"size\": 20});\n",
    "ax.set_xlabel('Predicted');\n",
    "ax.set_ylabel('True'); \n",
    "ax.set_title('Confusion Matrix'); \n",
    "ax.xaxis.set_ticklabels(['insulator', 'semi', 'lowgap', 'metal']); \n",
    "ax.yaxis.set_ticklabels(['insulator', 'semi', 'lowgap', 'metal']);"
   ]
  },
  {
   "cell_type": "markdown",
   "metadata": {},
   "source": [
    "As we see the score of multi-class classification is lower than metal/nonmetal only"
   ]
  },
  {
   "cell_type": "code",
   "execution_count": null,
   "metadata": {
    "collapsed": true
   },
   "outputs": [],
   "source": []
  }
 ],
 "metadata": {
  "kernelspec": {
   "display_name": "Python [default]",
   "language": "python",
   "name": "python3"
  },
  "language_info": {
   "codemirror_mode": {
    "name": "ipython",
    "version": 3
   },
   "file_extension": ".py",
   "mimetype": "text/x-python",
   "name": "python",
   "nbconvert_exporter": "python",
   "pygments_lexer": "ipython3",
   "version": "3.6.1"
  }
 },
 "nbformat": 4,
 "nbformat_minor": 2
}
